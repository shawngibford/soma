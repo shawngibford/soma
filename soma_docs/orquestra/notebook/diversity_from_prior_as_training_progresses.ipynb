{
 "cells": [
  {
   "cell_type": "code",
   "execution_count": 1,
   "metadata": {},
   "outputs": [],
   "source": [
    "import mlflow\n",
    "import matplotlib.pyplot as plt\n",
    "import numpy as np\n",
    "from orquestra.sdk.mlflow import get_tracking_token\n",
    "import os\n",
    "from orquestra.qml.api import convert_to_torch, BitstringDistribution\n",
    "import tempfile\n",
    "import cloudpickle\n",
    "import torch"
   ]
  },
  {
   "cell_type": "markdown",
   "metadata": {},
   "source": [
    "# RBM prior"
   ]
  },
  {
   "cell_type": "code",
   "execution_count": 2,
   "metadata": {},
   "outputs": [
    {
     "name": "stdout",
     "output_type": "stream",
     "text": [
      "eyJhbGciOiJSUzI1NiIsInR5cCIgOiAiSldUIiwia2lkIiA6ICJqNFdrOGRhY2daRW4waXFGc1VjSlRuM3A4V1pycVBLV2xVakdPaV9kUnh3In0.eyJleHAiOjE3MjIzNDY5MDAsImlhdCI6MTcyMTc0MjEwMCwiYXV0aF90aW1lIjoxNzIxNzQyMTAwLCJqdGkiOiIwNGM2YmU5NC00ZWI0LTQ3ODQtODNjYi1jODQxZGU2MGRiZjEiLCJpc3MiOiJodHRwczovL3Jlc2VhcmNoLm9ycXVlc3RyYS5pby9hdXRoL3JlYWxtcy9wbGF0Zm9ybSIsImF1ZCI6InFlIiwic3ViIjoiMzUzMjI3MDItMDY3OS00NjNmLTgyZjctMTBjN2IyN2Y0ZmQ1IiwidHlwIjoiSUQiLCJhenAiOiJxZSIsInNlc3Npb25fc3RhdGUiOiIxYWUxMGM0MS0wYTVlLTRkODctYmQzMC01Y2EzNTdmZmVjMTQiLCJhdF9oYXNoIjoiakJKX1JjeFNTN25vM0hENlhzT1RPZyIsInNpZCI6IjFhZTEwYzQxLTBhNWUtNGQ4Ny1iZDMwLTVjYTM1N2ZmZWMxNCIsIm5iZiI6MCwiZW1haWxfdmVyaWZpZWQiOnRydWUsInJvbGVzIjpbIlN1cGVyc2V0OkVkaXRvciIsIkdsb2JhbDpFZGl0b3IiLCIwOnN5c3RlbTpyZXNvdXJjZV9ncm91cDpocHQtZGVtby0wNzNjNmEhYWRtaW4iLCJQb3J0YWw6RWRpdG9yIiwiMDpzeXN0ZW06cmVzb3VyY2VfZ3JvdXA6ZWFnbGUtdGVzdC1hMjAyYmMhYWRtaW4iLCJDbG91ZENvc3Q6RWRpdG9yIiwib2ZmbGluZV9hY2Nlc3MiLCIwOnN5c3RlbTpyZXNvdXJjZV9ncm91cDpkcnVnLWRpc2NvdmVyeS1kd2F2ZS0yNTBjZWUhYWRtaW4iLCJ1bWFfYXV0aG9yaXphdGlvbiIsImRlZmF1bHQtcm9sZXMtcGxhdGZvcm0iXSwibmFtZSI6IlZsYWRpbWlyIFZhcmdhcy1DYWxkZXLDs24iLCJwcmVmZXJyZWRfdXNlcm5hbWUiOiJ2bGFkaW1pci52YXJnYXMtY2FsZGVyb25AemFwYXRhY29tcHV0aW5nLmNvbSIsImdpdmVuX25hbWUiOiJWbGFkaW1pciIsImZhbWlseV9uYW1lIjoiVmFyZ2FzLUNhbGRlcsOzbiIsImVtYWlsIjoidmxhZGltaXIudmFyZ2FzLWNhbGRlcm9uQHphcGF0YWNvbXB1dGluZy5jb20ifQ.a_Q-s-GzwoaxD7KOAdil00HjfD2VneyHGFJSz5upVTfT7yXnRNY8CQvblp47-wvSRuEU-i9JRXlQNAOBy6P-r2wWdyU6rHH3NF6-d6Zl0WjkgXmwZRKD5JFxgwfvNoEg1Gr-5DZY1BQWsZCivlUSJCdsO9wuofmzmk1NCtMD_Xxb9EAdQkcGPoLWdS81c6aohQLJJHrmYHl46zJuRZUj_wXzocqiRFlM6-DmQQlu7jGAX6NCuQiJzpkLW-drjCh-r1fVf5qWBFW5T3QWEne5lusQB3R4W9HleccS2NHYbmyMnMNyGGmzyKV7bn7yJRjgMLM9iR2xSyzhy3JkENdGWA\n"
     ]
    },
    {
     "name": "stderr",
     "output_type": "stream",
     "text": [
      "/opt/conda/envs/dwave-qml/lib/python3.11/site-packages/tqdm/auto.py:21: TqdmWarning: IProgress not found. Please update jupyter and ipywidgets. See https://ipywidgets.readthedocs.io/en/stable/user_install.html\n",
      "  from .autonotebook import tqdm as notebook_tqdm\n",
      "Downloading artifacts: 100%|██████████| 1/1 [00:03<00:00,  3.85s/it]\n",
      "An NVIDIA GPU may be present on this machine, but a CUDA-enabled jaxlib is not installed. Falling back to cpu.\n"
     ]
    },
    {
     "ename": "KeyError",
     "evalue": "'shard_arg_fallback'",
     "output_type": "error",
     "traceback": [
      "\u001b[0;31m---------------------------------------------------------------------------\u001b[0m",
      "\u001b[0;31mKeyError\u001b[0m                                  Traceback (most recent call last)",
      "Cell \u001b[0;32mIn[2], line 33\u001b[0m\n\u001b[1;32m     27\u001b[0m     mlflow\u001b[38;5;241m.\u001b[39martifacts\u001b[38;5;241m.\u001b[39mdownload_artifacts(\n\u001b[1;32m     28\u001b[0m         run_id\u001b[38;5;241m=\u001b[39mrbm_lstm_1syh_0it_run_id,\n\u001b[1;32m     29\u001b[0m         artifact_path\u001b[38;5;241m=\u001b[39martifact_path,\n\u001b[1;32m     30\u001b[0m         dst_path\u001b[38;5;241m=\u001b[39mtmpdirname,\n\u001b[1;32m     31\u001b[0m     )\n\u001b[1;32m     32\u001b[0m     \u001b[38;5;28;01mwith\u001b[39;00m \u001b[38;5;28mopen\u001b[39m(os\u001b[38;5;241m.\u001b[39mpath\u001b[38;5;241m.\u001b[39mjoin(tmpdirname, artifact_path), \u001b[38;5;124m\"\u001b[39m\u001b[38;5;124mrb\u001b[39m\u001b[38;5;124m\"\u001b[39m) \u001b[38;5;28;01mas\u001b[39;00m f:\n\u001b[0;32m---> 33\u001b[0m         result_and_model_as_dict \u001b[38;5;241m=\u001b[39m \u001b[43mcloudpickle\u001b[49m\u001b[38;5;241;43m.\u001b[39;49m\u001b[43mload\u001b[49m\u001b[43m(\u001b[49m\u001b[43mf\u001b[49m\u001b[43m)\u001b[49m\n\u001b[1;32m     35\u001b[0m run \u001b[38;5;241m=\u001b[39m mlflow\u001b[38;5;241m.\u001b[39mget_run(rbm_lstm_1syh_0it_run_id)\n\u001b[1;32m     36\u001b[0m mlflow\u001b[38;5;241m.\u001b[39mget_experiment(run\u001b[38;5;241m.\u001b[39minfo\u001b[38;5;241m.\u001b[39mexperiment_id)\u001b[38;5;241m.\u001b[39mname\n",
      "\u001b[0;31mKeyError\u001b[0m: 'shard_arg_fallback'"
     ]
    }
   ],
   "source": [
    "os.environ[\"MLFLOW_TRACKING_TOKEN\"] = get_tracking_token(config_name=\"research\")\n",
    "print(os.environ[\"MLFLOW_TRACKING_TOKEN\"])\n",
    "mlflow.set_tracking_uri(\n",
    "    \"https://research.orquestra.io/mlflow/drug-discovery-dwave-250cee/\"\n",
    ")\n",
    "rbm_lstm_1syh_0it_run_id = \"f90f468adad444efa815e5360a0676c8\"\n",
    "artifact_path = \"result_and_model_as_dictkmai9slf.pickle\"\n",
    "\n",
    "# rbm_lstm_1syh_0it_run_id = \"738c3c6d1d3840698b27a18b79f29f26\"  # kaiming init iter0\n",
    "# artifact_path = \"result_and_model_as_dictrvc4uabp.pickle\"\n",
    "\n",
    "# rbm_lstm_1syh_0it_run_id = \"e4d94ffb6dfd49259c593f5d0fffebd3\"  # kaiming init iter3\n",
    "# artifact_path = \"result_and_model_as_dict0whwh3jj.pickle\"\n",
    "\n",
    "# rbm_lstm_1syh_0it_run_id = \"948715008c364f8da0328eb00d34ed46\"  # kaiming init iter9\n",
    "# artifact_path = \"result_and_model_as_dict0jl8p3s0.pickle\"\n",
    "\n",
    "# rbm_lstm_1syh_0it_run_id = (\n",
    "#     \"a9abb2f07418457191efe70f7485750f\"  # kaiming init multiplication iter9\n",
    "# )\n",
    "# artifact_path = \"result_and_model_as_dict5aab991x.pickle\"\n",
    "\n",
    "\n",
    "# Create temporary directory:\n",
    "with tempfile.TemporaryDirectory() as tmpdirname:\n",
    "    # Download artifacts:\n",
    "    mlflow.artifacts.download_artifacts(\n",
    "        run_id=rbm_lstm_1syh_0it_run_id,\n",
    "        artifact_path=artifact_path,\n",
    "        dst_path=tmpdirname,\n",
    "    )\n",
    "    with open(os.path.join(tmpdirname, artifact_path), \"rb\") as f:\n",
    "        result_and_model_as_dict = cloudpickle.load(f)\n",
    "\n",
    "run = mlflow.get_run(rbm_lstm_1syh_0it_run_id)\n",
    "mlflow.get_experiment(run.info.experiment_id).name"
   ]
  },
  {
   "cell_type": "markdown",
   "metadata": {},
   "source": [
    "# Random prior"
   ]
  },
  {
   "cell_type": "code",
   "execution_count": 2,
   "metadata": {},
   "outputs": [
    {
     "name": "stdout",
     "output_type": "stream",
     "text": [
      "eyJhbGciOiJSUzI1NiIsInR5cCIgOiAiSldUIiwia2lkIiA6ICJqNFdrOGRhY2daRW4waXFGc1VjSlRuM3A4V1pycVBLV2xVakdPaV9kUnh3In0.eyJleHAiOjE3MTg4MTE4NDksImlhdCI6MTcxODIwNzA0OSwiYXV0aF90aW1lIjoxNzE4MjA2NzQzLCJqdGkiOiI5MGJhMmMzMi0xODI0LTRmZDItYTA3MC05NzE2NjhhOGQ0YWMiLCJpc3MiOiJodHRwczovL3Jlc2VhcmNoLm9ycXVlc3RyYS5pby9hdXRoL3JlYWxtcy9wbGF0Zm9ybSIsImF1ZCI6InFlIiwic3ViIjoiMzUzMjI3MDItMDY3OS00NjNmLTgyZjctMTBjN2IyN2Y0ZmQ1IiwidHlwIjoiSUQiLCJhenAiOiJxZSIsInNlc3Npb25fc3RhdGUiOiIyNDUwMzljZi01OGZhLTQxNDYtOWM3OC04ZGRlMTVhMDNmOWYiLCJhdF9oYXNoIjoiZG5FcTBmN3pVU0Ixc0w1Wk8tTlpSQSIsInNpZCI6IjI0NTAzOWNmLTU4ZmEtNDE0Ni05Yzc4LThkZGUxNWEwM2Y5ZiIsIm5iZiI6MCwiZW1haWxfdmVyaWZpZWQiOnRydWUsInJvbGVzIjpbIlN1cGVyc2V0OkVkaXRvciIsIkdsb2JhbDpFZGl0b3IiLCIwOnN5c3RlbTpyZXNvdXJjZV9ncm91cDpocHQtZGVtby0wNzNjNmEhYWRtaW4iLCJQb3J0YWw6RWRpdG9yIiwiMDpzeXN0ZW06cmVzb3VyY2VfZ3JvdXA6ZWFnbGUtdGVzdC1hMjAyYmMhYWRtaW4iLCJDbG91ZENvc3Q6RWRpdG9yIiwib2ZmbGluZV9hY2Nlc3MiLCIwOnN5c3RlbTpyZXNvdXJjZV9ncm91cDpkcnVnLWRpc2NvdmVyeS1kd2F2ZS0yNTBjZWUhYWRtaW4iLCJ1bWFfYXV0aG9yaXphdGlvbiIsImRlZmF1bHQtcm9sZXMtcGxhdGZvcm0iXSwibmFtZSI6IlZsYWRpbWlyIFZhcmdhcy1DYWxkZXLDs24iLCJwcmVmZXJyZWRfdXNlcm5hbWUiOiJ2bGFkaW1pci52YXJnYXMtY2FsZGVyb25AemFwYXRhY29tcHV0aW5nLmNvbSIsImdpdmVuX25hbWUiOiJWbGFkaW1pciIsImZhbWlseV9uYW1lIjoiVmFyZ2FzLUNhbGRlcsOzbiIsImVtYWlsIjoidmxhZGltaXIudmFyZ2FzLWNhbGRlcm9uQHphcGF0YWNvbXB1dGluZy5jb20ifQ.CHb0EmNTGh8lr2pn3EJ3kSqClipJB6sb2drafUU-R-wuQYUXsklGhw6b_3v9ZaSxIDQe6unVro0GexXqsxjfM-OXBLWyunkh3VbpYTa5jHJf_W4WZsmeAtt3vq_eVdaAdQmnju7OhB5vZaRmmnysV4-if7Hh-646ywk_5JQvDgRP4GwveC8XaVCpTGuXT_1ldClkXmaG25Pieql4ppQ9k7uRKpnzm-cJaXJZkgSVA23_aVruzAriunFW3PmMIRYzyZAZT_2IN236OQRyX6WaSMjdqOwd6ZwfGjIVt9xWMjnk-FuiO8A8Qa6PSSXd5zz8uVsnCMHPNIZW9ybAJTci1Q\n"
     ]
    },
    {
     "name": "stderr",
     "output_type": "stream",
     "text": [
      "/opt/conda/envs/dwave-qml/lib/python3.11/site-packages/tqdm/auto.py:21: TqdmWarning: IProgress not found. Please update jupyter and ipywidgets. See https://ipywidgets.readthedocs.io/en/stable/user_install.html\n",
      "  from .autonotebook import tqdm as notebook_tqdm\n",
      "Downloading artifacts: 100%|██████████| 1/1 [00:04<00:00,  4.10s/it]\n",
      "Please first ``pip install -U qiskit`` to enable related functionality in translation module\n"
     ]
    },
    {
     "data": {
      "text/plain": [
       "'tartarus_lstm__prior_random_16__dataset_alzheimer'"
      ]
     },
     "execution_count": 2,
     "metadata": {},
     "output_type": "execute_result"
    }
   ],
   "source": [
    "os.environ[\"MLFLOW_TRACKING_TOKEN\"] = get_tracking_token(config_name=\"research\")\n",
    "print(os.environ[\"MLFLOW_TRACKING_TOKEN\"])\n",
    "mlflow.set_tracking_uri(\n",
    "    \"https://research.orquestra.io/mlflow/drug-discovery-dwave-250cee/\"\n",
    ")\n",
    "random_lstm_1syh_0it_run_id = \"c9aab5a788bb4d09a3e89045eb003858\"\n",
    "\n",
    "# Create temporary directory:\n",
    "with tempfile.TemporaryDirectory() as tmpdirname:\n",
    "    # Download artifacts:\n",
    "    mlflow.artifacts.download_artifacts(\n",
    "        run_id=random_lstm_1syh_0it_run_id,\n",
    "        artifact_path=\"result_and_model_as_dictfq7zyzcp.pickle\",\n",
    "        dst_path=tmpdirname,\n",
    "    )\n",
    "    with open(\n",
    "        os.path.join(tmpdirname, \"result_and_model_as_dictfq7zyzcp.pickle\"), \"rb\"\n",
    "    ) as f:\n",
    "        result_and_model_as_dict = cloudpickle.load(f)\n",
    "\n",
    "run = mlflow.get_run(random_lstm_1syh_0it_run_id)\n",
    "mlflow.get_experiment(run.info.experiment_id).name"
   ]
  },
  {
   "cell_type": "code",
   "execution_count": null,
   "metadata": {},
   "outputs": [],
   "source": [
    "model = result_and_model_as_dict[\"lstm\"]"
   ]
  },
  {
   "cell_type": "markdown",
   "metadata": {},
   "source": [
    "### If you want to \"untrain\" the model, run the following cell:"
   ]
  },
  {
   "cell_type": "code",
   "execution_count": 4,
   "metadata": {},
   "outputs": [
    {
     "name": "stdout",
     "output_type": "stream",
     "text": [
      "weight\n",
      "weight\n",
      "weight_ih_l0\n",
      "weight_hh_l0\n",
      "weight_ih_l1\n",
      "weight_hh_l1\n",
      "weight_ih_l2\n",
      "weight_hh_l2\n",
      "weight_ih_l3\n",
      "weight_hh_l3\n",
      "weight_ih_l4\n",
      "weight_hh_l4\n",
      "weight\n"
     ]
    },
    {
     "name": "stderr",
     "output_type": "stream",
     "text": [
      "/tmp/ipykernel_3420972/1990613358.py:8: UserWarning: nn.init.kaiming_normal is now deprecated in favor of nn.init.kaiming_normal_.\n",
      "  torch.nn.init.kaiming_normal(param)\n",
      "/opt/conda/envs/dwave-qml/lib/python3.11/site-packages/torch/nn/init.py:452: UserWarning: Initializing zero-element tensors is a no-op\n",
      "  warnings.warn(\"Initializing zero-element tensors is a no-op\")\n",
      "/opt/conda/envs/dwave-qml/lib/python3.11/site-packages/torch/nn/init.py:498: UserWarning: Initializing zero-element tensors is a no-op\n",
      "  warnings.warn(\"Initializing zero-element tensors is a no-op\")\n"
     ]
    }
   ],
   "source": [
    "torch.manual_seed(21973)\n",
    "\n",
    "\n",
    "def weights_init(m):\n",
    "    for name, param in m.named_parameters():\n",
    "        if \"weight\" in name:\n",
    "            print(name)\n",
    "            torch.nn.init.kaiming_normal(param)\n",
    "\n",
    "\n",
    "for layer in model._model.children():\n",
    "    if hasattr(layer, \"reset_parameters\"):\n",
    "        layer.reset_parameters()\n",
    "        layer.apply(weights_init)"
   ]
  },
  {
   "cell_type": "code",
   "execution_count": null,
   "metadata": {},
   "outputs": [
    {
     "name": "stderr",
     "output_type": "stream",
     "text": [
      "/root/orquestra-qml-core/src/orquestra/qml/api/tensor.py:83: UserWarning: The given NumPy array is not writable, and PyTorch does not support non-writable tensors. This means writing to this tensor will result in undefined behavior. You may want to copy the array to protect its data or make it writable before converting it to a tensor. This type of warning will be suppressed for the rest of this program. (Triggered internally at ../torch/csrc/utils/tensor_numpy.cpp:206.)\n",
      "  tensor = torch.from_numpy(np.asarray(tensor))\n"
     ]
    }
   ],
   "source": [
    "prior_samples = convert_to_torch(\n",
    "    model._prior.generate(2**14, random_seed=5568), cast_op=lambda x: x.float()\n",
    ")"
   ]
  },
  {
   "cell_type": "code",
   "execution_count": null,
   "metadata": {},
   "outputs": [
    {
     "name": "stderr",
     "output_type": "stream",
     "text": [
      "/root/orquestra-qml-core/src/orquestra/qml/api/distributions.py:69: UserWarning: Input data to ProbabilityDistribution contains duplicates. The associated probabilities with the duplicates will be added to the first occurrence.\n",
      "  warnings.warn(\n",
      "No artists with labels found to put in legend.  Note that artists whose label start with an underscore are ignored when legend() is called with no argument.\n"
     ]
    },
    {
     "name": "stdout",
     "output_type": "stream",
     "text": [
      "Too many qubits to plot. Plotting anyway.\n"
     ]
    },
    {
     "data": {
      "image/png": "[encoded data removed]",
      "text/plain": [
       "<Figure size 2000x400 with 1 Axes>"
      ]
     },
     "metadata": {},
     "output_type": "display_data"
    }
   ],
   "source": [
    "fig, ax = plt.subplots(figsize=(20, 4))\n",
    "prior_dist = BitstringDistribution(prior_samples)\n",
    "prior_dist.plot(cutoff=50 / prior_samples.shape[0], force_plot=True, ax=ax)\n",
    "ax.axhline(\n",
    "    y=1 / prior_samples.shape[0],\n",
    "    color=\"r\",\n",
    "    linestyle=\"--\",\n",
    "    label=\"Uniform distribution\",\n",
    ")\n",
    "ax.set_title(\n",
    "    f\"Support of the distribution is approximately {len(np.unique(prior_samples, axis=0))/prior_samples.shape[0]*100:.2f}%\"\n",
    ")\n",
    "plt.legend()\n",
    "plt.show()"
   ]
  },
  {
   "cell_type": "code",
   "execution_count": null,
   "metadata": {},
   "outputs": [],
   "source": [
    "import torch\n",
    "from more_itertools import sort_together\n",
    "\n",
    "# For a single sample, pass it many times to the model to get a distribution of molecules.\n",
    "n_samples = 2**14\n",
    "model.to_device(\"cuda:7\")\n",
    "\n",
    "# Needed for backwards compatibility with new features:\n",
    "from orquestra.qml.experimental.models.recurrent.lstm.th import ReverseConcatenate\n",
    "\n",
    "# model._model._use_linear_projection = True\n",
    "# model._model.merge_prior_fc = ReverseConcatenate(dim=-1)\n",
    "\n",
    "\n",
    "def sample_to_str(single_sample):\n",
    "    x = tuple(single_sample.astype(int).tolist())\n",
    "    return \"\".join(map(str, x))\n",
    "\n",
    "\n",
    "def molecule_to_str(single_sample, eos_token):\n",
    "    x = tuple(single_sample.astype(int).tolist())\n",
    "    return \"-\".join(map(str, x)).split(str(eos_token))[0]\n",
    "\n",
    "\n",
    "def create_molecule_dataset_from_bitstring(\n",
    "    bitstring, model, n_samples, seed, temperature=0.1\n",
    "):\n",
    "    # Modifying the temperature to get less variance in the samples:\n",
    "    model.sampling_temperature = temperature\n",
    "    sample_str = sample_to_str(bitstring)\n",
    "    sample = torch.tensor(np.array([bitstring] * n_samples)).to(device=model.device)\n",
    "    generated_molecules, probs = model._generate_w_probs(\n",
    "        prior_samples=sample, n_samples=n_samples, random_seed=seed\n",
    "    )\n",
    "    generated_molecules = generated_molecules.cpu().numpy()\n",
    "    return (\n",
    "        sample_str,\n",
    "        generated_molecules,\n",
    "        [\n",
    "            molecule_to_str(molecule, model.padding_token_index)\n",
    "            for molecule in generated_molecules\n",
    "        ],\n",
    "        probs,\n",
    "    )\n",
    "\n",
    "\n",
    "data = {}\n",
    "unique_prior_samples, counts = np.unique(prior_samples, axis=0, return_counts=True)\n",
    "counts, unique_prior_samples = sort_together(\n",
    "    (counts, unique_prior_samples), reverse=True\n",
    ")"
   ]
  },
  {
   "cell_type": "markdown",
   "metadata": {},
   "source": [
    "# KLD as a function of sample size\n",
    "\n",
    "The distribution is approximated by frequency of samples. Thus, there is an overestimation of the distance.\n",
    "\n",
    "Distance between molecules coming from the same prior bitstring should be 0."
   ]
  },
  {
   "cell_type": "code",
   "execution_count": 3,
   "metadata": {},
   "outputs": [],
   "source": [
    "from orquestra.qml.api import ProbabilityDistribution\n",
    "from orquestra.qml.distance_measures import KLDivergence"
   ]
  },
  {
   "cell_type": "code",
   "execution_count": 4,
   "metadata": {},
   "outputs": [
    {
     "ename": "NameError",
     "evalue": "name 'unique_prior_samples' is not defined",
     "output_type": "error",
     "traceback": [
      "\u001b[0;31m---------------------------------------------------------------------------\u001b[0m",
      "\u001b[0;31mNameError\u001b[0m                                 Traceback (most recent call last)",
      "Cell \u001b[0;32mIn[4], line 1\u001b[0m\n\u001b[0;32m----> 1\u001b[0m \u001b[38;5;28mprint\u001b[39m(\u001b[43munique_prior_samples\u001b[49m[\u001b[38;5;241m0\u001b[39m])\n\u001b[1;32m      2\u001b[0m \u001b[38;5;28mprint\u001b[39m(unique_prior_samples[\u001b[38;5;241m1\u001b[39m])\n\u001b[1;32m      3\u001b[0m \u001b[38;5;28mprint\u001b[39m(unique_prior_samples[\u001b[38;5;241m-\u001b[39m\u001b[38;5;241m1\u001b[39m])\n",
      "\u001b[0;31mNameError\u001b[0m: name 'unique_prior_samples' is not defined"
     ]
    }
   ],
   "source": [
    "print(unique_prior_samples[0])\n",
    "print(unique_prior_samples[1])\n",
    "print(unique_prior_samples[-1])"
   ]
  },
  {
   "cell_type": "code",
   "execution_count": 13,
   "metadata": {},
   "outputs": [
    {
     "name": "stderr",
     "output_type": "stream",
     "text": [
      "/root/orquestra-qml-core/src/orquestra/qml/api/distributions.py:69: UserWarning: Input data to ProbabilityDistribution contains duplicates. The associated probabilities with the duplicates will be added to the first occurrence.\n",
      "  warnings.warn(\n"
     ]
    },
    {
     "name": "stdout",
     "output_type": "stream",
     "text": [
      "For sample size 256, seed 123687, the support of the distribution is 7.03%\n",
      "For sample size 256, seed 987542, the support of the distribution is 8.20%\n",
      "For sample size 512, seed 123687, the support of the distribution is 5.27%\n",
      "For sample size 512, seed 987542, the support of the distribution is 5.27%\n",
      "For sample size 1024, seed 123687, the support of the distribution is 3.61%\n",
      "For sample size 1024, seed 987542, the support of the distribution is 3.12%\n",
      "For sample size 2048, seed 123687, the support of the distribution is 2.00%\n",
      "For sample size 2048, seed 987542, the support of the distribution is 1.86%\n",
      "For sample size 4096, seed 123687, the support of the distribution is 1.27%\n",
      "For sample size 4096, seed 987542, the support of the distribution is 1.27%\n",
      "For sample size 8192, seed 123687, the support of the distribution is 0.77%\n",
      "For sample size 8192, seed 987542, the support of the distribution is 0.74%\n",
      "For sample size 16384, seed 123687, the support of the distribution is 0.47%\n",
      "For sample size 16384, seed 987542, the support of the distribution is 0.44%\n",
      "For sample size 32768, seed 123687, the support of the distribution is 0.27%\n",
      "For sample size 32768, seed 987542, the support of the distribution is 0.27%\n",
      "For sample size 65536, seed 123687, the support of the distribution is 0.17%\n",
      "For sample size 65536, seed 987542, the support of the distribution is 0.16%\n",
      "For sample size 131072, seed 123687, the support of the distribution is 0.10%\n",
      "For sample size 131072, seed 987542, the support of the distribution is 0.09%\n",
      "For sample size 262144, seed 123687, the support of the distribution is 0.06%\n",
      "For sample size 262144, seed 987542, the support of the distribution is 0.06%\n",
      "For sample size 524288, seed 123687, the support of the distribution is 0.03%\n",
      "For sample size 524288, seed 987542, the support of the distribution is 0.03%\n",
      "For sample size 1048576, seed 123687, the support of the distribution is 0.02%\n",
      "For sample size 1048576, seed 987542, the support of the distribution is 0.02%\n"
     ]
    }
   ],
   "source": [
    "seed1 = 123687\n",
    "seed2 = 987542\n",
    "sampling_temperature = 0.1\n",
    "\n",
    "sample_sizes = [2**i for i in range(8, 21)]\n",
    "kl_divergences_same_bitstring = []\n",
    "kl = KLDivergence()\n",
    "torch.manual_seed(seed1)\n",
    "_, molecules1, molecules_strs1, _ = create_molecule_dataset_from_bitstring(\n",
    "    unique_prior_samples[0],\n",
    "    model,\n",
    "    max(sample_sizes),\n",
    "    seed1,\n",
    "    temperature=sampling_temperature,\n",
    ")\n",
    "torch.manual_seed(seed2)\n",
    "_, molecules2, molecules_strs2, _ = create_molecule_dataset_from_bitstring(\n",
    "    unique_prior_samples[0],\n",
    "    model,\n",
    "    max(sample_sizes),\n",
    "    seed2,\n",
    "    temperature=sampling_temperature,\n",
    ")\n",
    "for sample_size in sample_sizes:\n",
    "    true_dist = ProbabilityDistribution(\n",
    "        molecules1[:sample_size]\n",
    "    )  # \"true\" is just a label, there is no true distribution here.\n",
    "    print(\n",
    "        f\"For sample size {sample_size}, seed {seed1}, the support of the distribution \"\n",
    "        f\"is {len(set(molecules_strs1[:sample_size]))/len(molecules_strs1[:sample_size])*100:.2f}%\"\n",
    "    )\n",
    "    pred_dist = ProbabilityDistribution(\n",
    "        molecules2[:sample_size]\n",
    "    )  # \"pred\" is just a label, there is no predicted distribution here.\n",
    "    print(\n",
    "        f\"For sample size {sample_size}, seed {seed2}, the support of the distribution \"\n",
    "        f\"is {len(set(molecules_strs2[:sample_size]))/len(molecules_strs2[:sample_size])*100:.2f}%\"\n",
    "    )\n",
    "    kl_divergences_same_bitstring.append(\n",
    "        kl.measure_distance_from_probability_distribution(true_dist, pred_dist)\n",
    "    )"
   ]
  },
  {
   "cell_type": "code",
   "execution_count": 14,
   "metadata": {},
   "outputs": [
    {
     "name": "stdout",
     "output_type": "stream",
     "text": [
      "For sample size 256, seed 123687, the support of the distribution is 7.03%\n",
      "For sample size 256, seed 987542, the support of the distribution is 8.59%\n",
      "For sample size 512, seed 123687, the support of the distribution is 5.27%\n",
      "For sample size 512, seed 987542, the support of the distribution is 5.27%\n",
      "For sample size 1024, seed 123687, the support of the distribution is 3.61%\n",
      "For sample size 1024, seed 987542, the support of the distribution is 3.32%\n",
      "For sample size 2048, seed 123687, the support of the distribution is 2.00%\n",
      "For sample size 2048, seed 987542, the support of the distribution is 1.90%\n",
      "For sample size 4096, seed 123687, the support of the distribution is 1.27%\n",
      "For sample size 4096, seed 987542, the support of the distribution is 1.27%\n",
      "For sample size 8192, seed 123687, the support of the distribution is 0.77%\n",
      "For sample size 8192, seed 987542, the support of the distribution is 0.78%\n",
      "For sample size 16384, seed 123687, the support of the distribution is 0.47%\n",
      "For sample size 16384, seed 987542, the support of the distribution is 0.45%\n",
      "For sample size 32768, seed 123687, the support of the distribution is 0.27%\n",
      "For sample size 32768, seed 987542, the support of the distribution is 0.26%\n",
      "For sample size 65536, seed 123687, the support of the distribution is 0.17%\n",
      "For sample size 65536, seed 987542, the support of the distribution is 0.15%\n",
      "For sample size 131072, seed 123687, the support of the distribution is 0.10%\n",
      "For sample size 131072, seed 987542, the support of the distribution is 0.09%\n",
      "For sample size 262144, seed 123687, the support of the distribution is 0.06%\n",
      "For sample size 262144, seed 987542, the support of the distribution is 0.05%\n",
      "For sample size 524288, seed 123687, the support of the distribution is 0.03%\n",
      "For sample size 524288, seed 987542, the support of the distribution is 0.03%\n",
      "For sample size 1048576, seed 123687, the support of the distribution is 0.02%\n",
      "For sample size 1048576, seed 987542, the support of the distribution is 0.02%\n"
     ]
    }
   ],
   "source": [
    "kl_divergences_different_bitstring = []\n",
    "# These are the same molecules 1 from above, thus commenting it out:\n",
    "# torch.manual_seed(seed1)\n",
    "# _, molecules1, molecules_strs1, _ = create_molecule_dataset_from_bitstring(\n",
    "#     unique_prior_samples[0],\n",
    "#     model,\n",
    "#     max(sample_sizes),\n",
    "#     seed1,\n",
    "#     temperature=sampling_temperature,\n",
    "# )\n",
    "torch.manual_seed(seed2)\n",
    "_, molecules2, molecules_strs2, _ = create_molecule_dataset_from_bitstring(\n",
    "    unique_prior_samples[-1],\n",
    "    model,\n",
    "    max(sample_sizes),\n",
    "    seed2,\n",
    "    temperature=sampling_temperature,\n",
    ")\n",
    "for sample_size in sample_sizes:\n",
    "    true_dist = ProbabilityDistribution(\n",
    "        molecules1[:sample_size]\n",
    "    )  # \"true\" is just a label, there is no true distribution here.\n",
    "    print(\n",
    "        f\"For sample size {sample_size}, seed {seed1}, the support of the distribution \"\n",
    "        f\"is {len(set(molecules_strs1[:sample_size]))/len(molecules_strs1[:sample_size])*100:.2f}%\"\n",
    "    )\n",
    "    pred_dist = ProbabilityDistribution(\n",
    "        molecules2[:sample_size]\n",
    "    )  # \"pred\" is just a label, there is no predicted distribution here.\n",
    "    print(\n",
    "        f\"For sample size {sample_size}, seed {seed2}, the support of the distribution \"\n",
    "        f\"is {len(set(molecules_strs2[:sample_size]))/len(molecules_strs2[:sample_size])*100:.2f}%\"\n",
    "    )\n",
    "    kl_divergences_different_bitstring.append(\n",
    "        kl.measure_distance_from_probability_distribution(true_dist, pred_dist)\n",
    "    )"
   ]
  },
  {
   "cell_type": "code",
   "execution_count": 15,
   "metadata": {},
   "outputs": [
    {
     "name": "stdout",
     "output_type": "stream",
     "text": [
      "For sample size 256, seed 123687, the support of the distribution is 7.03%\n",
      "For sample size 256, seed 123687, the support of the distribution is 6.64%\n",
      "For sample size 512, seed 123687, the support of the distribution is 5.27%\n",
      "For sample size 512, seed 123687, the support of the distribution is 5.08%\n",
      "For sample size 1024, seed 123687, the support of the distribution is 3.61%\n",
      "For sample size 1024, seed 123687, the support of the distribution is 3.61%\n",
      "For sample size 2048, seed 123687, the support of the distribution is 2.00%\n",
      "For sample size 2048, seed 123687, the support of the distribution is 2.10%\n",
      "For sample size 4096, seed 123687, the support of the distribution is 1.27%\n",
      "For sample size 4096, seed 123687, the support of the distribution is 1.34%\n",
      "For sample size 8192, seed 123687, the support of the distribution is 0.77%\n",
      "For sample size 8192, seed 123687, the support of the distribution is 0.82%\n",
      "For sample size 16384, seed 123687, the support of the distribution is 0.47%\n",
      "For sample size 16384, seed 123687, the support of the distribution is 0.47%\n",
      "For sample size 32768, seed 123687, the support of the distribution is 0.27%\n",
      "For sample size 32768, seed 123687, the support of the distribution is 0.26%\n",
      "For sample size 65536, seed 123687, the support of the distribution is 0.17%\n",
      "For sample size 65536, seed 123687, the support of the distribution is 0.17%\n",
      "For sample size 131072, seed 123687, the support of the distribution is 0.10%\n",
      "For sample size 131072, seed 123687, the support of the distribution is 0.09%\n",
      "For sample size 262144, seed 123687, the support of the distribution is 0.06%\n",
      "For sample size 262144, seed 123687, the support of the distribution is 0.05%\n",
      "For sample size 524288, seed 123687, the support of the distribution is 0.03%\n",
      "For sample size 524288, seed 123687, the support of the distribution is 0.03%\n",
      "For sample size 1048576, seed 123687, the support of the distribution is 0.02%\n",
      "For sample size 1048576, seed 123687, the support of the distribution is 0.02%\n"
     ]
    }
   ],
   "source": [
    "kl_divergences_different_bitstring_same_seed = []\n",
    "# These are the same molecules 1 from above, thus commenting it out:\n",
    "# torch.manual_seed(seed1)\n",
    "# _, molecules1, molecules_strs1, _ = create_molecule_dataset_from_bitstring(\n",
    "#     unique_prior_samples[0],\n",
    "#     model,\n",
    "#     max(sample_sizes),\n",
    "#     seed1,\n",
    "#     temperature=sampling_temperature,\n",
    "# )\n",
    "torch.manual_seed(seed1)\n",
    "_, molecules2, molecules_strs2, _ = create_molecule_dataset_from_bitstring(\n",
    "    unique_prior_samples[-1],\n",
    "    model,\n",
    "    max(sample_sizes),\n",
    "    seed1,\n",
    "    temperature=sampling_temperature,\n",
    ")\n",
    "for sample_size in sample_sizes:\n",
    "    true_dist = ProbabilityDistribution(\n",
    "        molecules1[:sample_size]\n",
    "    )  # \"true\" is just a label, there is no true distribution here.\n",
    "    print(\n",
    "        f\"For sample size {sample_size}, seed {seed1}, the support of the distribution \"\n",
    "        f\"is {len(set(molecules_strs1[:sample_size]))/len(molecules_strs1[:sample_size])*100:.2f}%\"\n",
    "    )\n",
    "    pred_dist = ProbabilityDistribution(\n",
    "        molecules2[:sample_size]\n",
    "    )  # \"pred\" is just a label, there is no predicted distribution here.\n",
    "    print(\n",
    "        f\"For sample size {sample_size}, seed {seed1}, the support of the distribution \"\n",
    "        f\"is {len(set(molecules_strs2[:sample_size]))/len(molecules_strs2[:sample_size])*100:.2f}%\"\n",
    "    )\n",
    "    kl_divergences_different_bitstring_same_seed.append(\n",
    "        kl.measure_distance_from_probability_distribution(true_dist, pred_dist)\n",
    "    )"
   ]
  },
  {
   "cell_type": "code",
   "execution_count": null,
   "metadata": {},
   "outputs": [
    {
     "name": "stderr",
     "output_type": "stream",
     "text": [
      "/root/orquestra-qml-core/src/orquestra/qml/api/distributions.py:69: UserWarning: Input data to ProbabilityDistribution contains duplicates. The associated probabilities with the duplicates will be added to the first occurrence.\n",
      "  warnings.warn(\n"
     ]
    }
   ],
   "source": [
    "kl_divergences_same_bitstring_same_seed = []\n",
    "for sample_size in sample_sizes:\n",
    "    torch.manual_seed(seed1)\n",
    "    _, molecules, _, _ = create_molecule_dataset_from_bitstring(\n",
    "        unique_prior_samples[0], model, sample_size, seed1\n",
    "    )\n",
    "    true_dist = ProbabilityDistribution(\n",
    "        molecules\n",
    "    )  # \"true\" is just a label, there is no true distribution here.\n",
    "    torch.manual_seed(seed1)\n",
    "    _, molecules, _, _ = create_molecule_dataset_from_bitstring(\n",
    "        unique_prior_samples[0], model, sample_size, seed1\n",
    "    )\n",
    "    pred_dist = ProbabilityDistribution(\n",
    "        molecules\n",
    "    )  # \"pred\" is just a label, there is no predicted distribution here.\n",
    "    kl_divergences_same_bitstring_same_seed.append(\n",
    "        kl.measure_distance_from_probability_distribution(true_dist, pred_dist)\n",
    "    )"
   ]
  },
  {
   "cell_type": "code",
   "execution_count": 23,
   "metadata": {},
   "outputs": [
    {
     "name": "stdout",
     "output_type": "stream",
     "text": [
      "[0.0, 0.0, 0.0, 0.0, 0.0, 0.0, 0.0, 0.0, 0.0]\n"
     ]
    }
   ],
   "source": [
    "print(kl_divergences_same_bitstring_same_seed)"
   ]
  },
  {
   "cell_type": "code",
   "execution_count": 16,
   "metadata": {},
   "outputs": [
    {
     "data": {
      "image/png": "[encoded data removed]",
      "text/plain": [
       "<Figure size 640x480 with 1 Axes>"
      ]
     },
     "metadata": {},
     "output_type": "display_data"
    }
   ],
   "source": [
    "plt.plot(\n",
    "    sample_sizes,\n",
    "    kl_divergences_same_bitstring,\n",
    "    \"o-\",\n",
    "    label=\"Same bitstring, different seed\",\n",
    "    lw=2,\n",
    ")\n",
    "plt.plot(\n",
    "    sample_sizes,\n",
    "    kl_divergences_different_bitstring,\n",
    "    \"*-.\",\n",
    "    label=\"Different bitstring, different seed\",\n",
    "    lw=4,\n",
    ")\n",
    "plt.plot(\n",
    "    sample_sizes,\n",
    "    kl_divergences_different_bitstring_same_seed,\n",
    "    \"o--\",\n",
    "    label=\"Different bitstring, same seed\",\n",
    "    lw=6,\n",
    ")\n",
    "# plt.plot(sample_sizes, kl_divergences_same_bitstring_same_seed, \"o-\", label=\"Same bitstring, same seed\")\n",
    "plt.xscale(\"log\")\n",
    "plt.yscale(\"log\")\n",
    "plt.xlabel(\"Number of samples\")\n",
    "plt.ylabel(\"KL Divergence\")\n",
    "plt.title(\n",
    "    f\"LSTM with temp={model.sampling_temperature} and prior {str(model._prior).split('(')[0]}()\"\n",
    ")\n",
    "plt.legend()\n",
    "plt.show()"
   ]
  },
  {
   "cell_type": "markdown",
   "metadata": {},
   "source": [
    "# Molecules at low sampling temperature from different bitstrings and different random seeds"
   ]
  },
  {
   "cell_type": "code",
   "execution_count": 14,
   "metadata": {},
   "outputs": [
    {
     "name": "stdout",
     "output_type": "stream",
     "text": [
      "[0. 0. 0. 0. 0. 0. 0. 0. 1. 1. 1. 1. 1. 1. 1. 1.]\n",
      "['20-6-20-20-1-20-1-12-1-10-1-1-8-12-1-11-1-11-1-11-1-11-30-1-21-1-30-1-6-11-8-20-8-14-', '20-6-20-20-1-20-1-12-1-10-1-1-8-12-1-11-1-11-1-11-1-11-30-1-21-1-30-1-6-11-8-20-8-14-']\n",
      "[1. 1. 1. 1. 1. 1. 1. 1. 0. 0. 0. 0. 0. 0. 0. 0.]\n",
      "['20-6-20-20-1-20-1-12-1-10-1-1-8-12-1-11-1-11-1-11-1-11-30-1-21-1-30-1-6-11-8-20-8-14-', '20-6-20-20-1-20-1-12-1-10-1-1-8-12-1-11-1-11-1-11-1-11-30-1-21-1-30-1-6-11-8-20-8-14-']\n"
     ]
    },
    {
     "name": "stderr",
     "output_type": "stream",
     "text": [
      "/root/orquestra-qml-core/src/orquestra/qml/experimental/models/recurrent/lstm/th.py:626: UserWarning: User requested to generate sequences with a specified random seed. This will set the torch.manual_seed, which can disrupt other random generation processes in PyTorch.\n",
      "  warnings.warn(\n"
     ]
    }
   ],
   "source": [
    "bitstring = np.array([0] * 8 + [1] * 8, dtype=np.float32)\n",
    "_, _, molecules, _ = create_molecule_dataset_from_bitstring(\n",
    "    bitstring, model, 2, seed=0, temperature=1e-4\n",
    ")\n",
    "print(bitstring)\n",
    "print(molecules)\n",
    "bitstring = np.array([1] * 8 + [0] * 8, dtype=np.float32)\n",
    "_, _, molecules, _ = create_molecule_dataset_from_bitstring(\n",
    "    bitstring, model, 2, seed=666, temperature=1e-4\n",
    ")\n",
    "print(bitstring)\n",
    "print(molecules)"
   ]
  },
  {
   "cell_type": "code",
   "execution_count": 17,
   "metadata": {},
   "outputs": [
    {
     "name": "stdout",
     "output_type": "stream",
     "text": [
      "[1. 1. 0. 1. 1. 0. 0. 0. 1. 1. 1. 1. 1. 1. 0. 0.]\n",
      "['20-6-20-20-1-20-1-12-1-10-1-1-8-12-1-11-1-11-1-11-1-11-30-1-21-1-30-1-6-11-8-20-8-14-', '20-6-20-20-1-20-1-12-1-10-1-1-8-12-1-11-1-11-1-11-1-11-30-1-21-1-30-1-6-11-8-20-8-14-']\n"
     ]
    },
    {
     "name": "stderr",
     "output_type": "stream",
     "text": [
      "/root/orquestra-qml-core/src/orquestra/qml/experimental/models/recurrent/lstm/th.py:626: UserWarning: User requested to generate sequences with a specified random seed. This will set the torch.manual_seed, which can disrupt other random generation processes in PyTorch.\n",
      "  warnings.warn(\n"
     ]
    },
    {
     "name": "stdout",
     "output_type": "stream",
     "text": [
      "[1. 1. 1. 1. 1. 1. 1. 1. 1. 1. 1. 1. 1. 1. 0. 1.]\n",
      "['20-6-20-20-1-20-1-12-1-10-1-1-8-12-1-11-1-11-1-11-1-11-30-1-21-1-30-1-6-11-8-20-8-14-', '20-6-20-20-1-20-1-12-1-10-1-1-8-12-1-11-1-11-1-11-1-11-30-1-21-1-30-1-6-11-8-20-8-14-']\n"
     ]
    }
   ],
   "source": [
    "_, _, molecules, _ = create_molecule_dataset_from_bitstring(\n",
    "    unique_prior_samples[0], model, 2, seed=0, temperature=1e-4\n",
    ")\n",
    "print(unique_prior_samples[0])\n",
    "print(molecules)\n",
    "_, _, molecules, _ = create_molecule_dataset_from_bitstring(\n",
    "    unique_prior_samples[-1], model, 2, seed=666, temperature=1e-4\n",
    ")\n",
    "print(unique_prior_samples[-1])\n",
    "print(molecules)"
   ]
  },
  {
   "cell_type": "code",
   "execution_count": 11,
   "metadata": {},
   "outputs": [
    {
     "data": {
      "text/plain": [
       "_Model(\n",
       "  (embedding): Embedding(110, 224, padding_idx=21)\n",
       "  (linear_projection): Linear(in_features=16, out_features=64, bias=True)\n",
       "  (linear_projection_activation): Identity()\n",
       "  (concatenate): Concatenate()\n",
       "  (recurrent_net): LSTM(288, 128, num_layers=5, batch_first=True)\n",
       "  (output_classifier): Linear(in_features=128, out_features=110, bias=True)\n",
       "  (output_activation): Identity()\n",
       "  (merge_prior_fc): Concatenate()\n",
       ")"
      ]
     },
     "execution_count": 11,
     "metadata": {},
     "output_type": "execute_result"
    }
   ],
   "source": [
    "model._model"
   ]
  },
  {
   "cell_type": "code",
   "execution_count": 15,
   "metadata": {},
   "outputs": [
    {
     "data": {
      "text/plain": [
       "[Parameter containing:\n",
       " tensor([[ 0.2033, -0.2026, -0.2067,  ...,  0.0279, -0.0414,  0.1227],\n",
       "         [-0.1790,  0.0437,  0.1303,  ...,  0.0467, -0.1857,  0.1306],\n",
       "         [ 0.2310, -0.0998, -0.0222,  ..., -0.2191, -0.1970,  0.1978],\n",
       "         ...,\n",
       "         [-0.0199,  0.1664, -0.0861,  ...,  0.1284,  0.1271, -0.0576],\n",
       "         [ 0.2302,  0.2421, -0.0746,  ...,  0.0115,  0.2009,  0.2060],\n",
       "         [-0.0190,  0.2470, -0.1089,  ..., -0.1932, -0.0715,  0.1576]],\n",
       "        device='cuda:0', requires_grad=True),\n",
       " Parameter containing:\n",
       " tensor([ 0.0903, -0.1904,  0.1157,  0.2497,  0.0628,  0.0006, -0.1960, -0.0766,\n",
       "         -0.1353, -0.0180, -0.2048, -0.2125, -0.1285,  0.0591,  0.1850,  0.1385,\n",
       "         -0.0063, -0.0775, -0.1092,  0.1864,  0.0456,  0.2461, -0.0028,  0.0299,\n",
       "          0.2275, -0.1947,  0.1969,  0.1062,  0.2231,  0.1664, -0.1777, -0.0875,\n",
       "          0.0431, -0.2293, -0.1157,  0.2211, -0.1054,  0.1710, -0.2005, -0.1590,\n",
       "         -0.1393, -0.0219,  0.1837, -0.1764, -0.2126,  0.0215,  0.1758, -0.1086,\n",
       "          0.0914, -0.1754,  0.0510, -0.2185,  0.1471, -0.0108,  0.2283,  0.2441,\n",
       "         -0.0569, -0.1472, -0.0898,  0.0772, -0.0287, -0.2433, -0.1847, -0.2003],\n",
       "        device='cuda:0', requires_grad=True)]"
      ]
     },
     "execution_count": 15,
     "metadata": {},
     "output_type": "execute_result"
    }
   ],
   "source": [
    "[x for x in model._model.linear_projection.parameters()]"
   ]
  },
  {
   "cell_type": "markdown",
   "metadata": {},
   "source": [
    "# Rubbish:"
   ]
  },
  {
   "cell_type": "code",
   "execution_count": 29,
   "metadata": {},
   "outputs": [],
   "source": [
    "sample_str, molecules, molecules_strs, probs = create_molecule_dataset_from_bitstring(\n",
    "    unique_prior_samples[0], model, n_samples, seed=5568\n",
    ")\n",
    "dist_first_bitstring = ProbabilityDistribution(molecules)"
   ]
  },
  {
   "cell_type": "code",
   "execution_count": 39,
   "metadata": {},
   "outputs": [
    {
     "name": "stderr",
     "output_type": "stream",
     "text": [
      "/root/orquestra-qml-core/src/orquestra/qml/api/distributions.py:69: UserWarning: Input data to ProbabilityDistribution contains duplicates. The associated probabilities with the duplicates will be added to the first occurrence.\n",
      "  warnings.warn(\n"
     ]
    }
   ],
   "source": [
    "sample_str, molecules, molecules_strs, probs = create_molecule_dataset_from_bitstring(\n",
    "    unique_prior_samples[0], model, n_samples, seed=87229\n",
    ")\n",
    "dist_first_bitstring_other_seed = ProbabilityDistribution(molecules)"
   ]
  },
  {
   "cell_type": "code",
   "execution_count": 40,
   "metadata": {},
   "outputs": [
    {
     "data": {
      "text/plain": [
       "0.25938238426949667"
      ]
     },
     "execution_count": 40,
     "metadata": {},
     "output_type": "execute_result"
    }
   ],
   "source": [
    "KLDivergence().measure_distance_from_probability_distribution(\n",
    "    dist_first_bitstring, dist_first_bitstring_other_seed\n",
    ")"
   ]
  },
  {
   "cell_type": "code",
   "execution_count": 36,
   "metadata": {},
   "outputs": [
    {
     "name": "stderr",
     "output_type": "stream",
     "text": [
      "/root/orquestra-qml-core/src/orquestra/qml/api/distributions.py:69: UserWarning: Input data to ProbabilityDistribution contains duplicates. The associated probabilities with the duplicates will be added to the first occurrence.\n",
      "  warnings.warn(\n"
     ]
    }
   ],
   "source": [
    "sample_str, molecules, molecules_strs, probs = create_molecule_dataset_from_bitstring(\n",
    "    unique_prior_samples[1], model, n_samples, seed=5568\n",
    ")\n",
    "dist_second_bitstring = ProbabilityDistribution(molecules)"
   ]
  },
  {
   "cell_type": "code",
   "execution_count": 38,
   "metadata": {},
   "outputs": [
    {
     "data": {
      "text/plain": [
       "0.2453903195582141"
      ]
     },
     "execution_count": 38,
     "metadata": {},
     "output_type": "execute_result"
    }
   ],
   "source": [
    "KLDivergence().measure_distance_from_probability_distribution(\n",
    "    dist_first_bitstring, dist_second_bitstring\n",
    ")"
   ]
  },
  {
   "cell_type": "code",
   "execution_count": 9,
   "metadata": {},
   "outputs": [],
   "source": [
    "support_percentage = []\n",
    "for prior_sample, molecules in data.items():\n",
    "    support_percentage.append(len(set(molecules)) / len(molecules))"
   ]
  },
  {
   "cell_type": "code",
   "execution_count": 10,
   "metadata": {},
   "outputs": [
    {
     "name": "stdout",
     "output_type": "stream",
     "text": [
      "Support percentage statistics:\n",
      "5th percentile: 0.0239837646484375\n",
      "95th percentile: 0.0250274658203125\n",
      "Mean: 0.024505615234375\n",
      "Median: 0.024505615234375\n",
      "Standard deviation: 0.000579833984375\n"
     ]
    }
   ],
   "source": [
    "# Print statistics (5th and 95th percentile, with mean, median and std)\n",
    "print(\"Support percentage statistics:\")\n",
    "print(f\"5th percentile: {np.percentile(support_percentage, 5)}\")\n",
    "print(f\"95th percentile: {np.percentile(support_percentage, 95)}\")\n",
    "print(f\"Mean: {np.mean(support_percentage)}\")\n",
    "print(f\"Median: {np.median(support_percentage)}\")\n",
    "print(f\"Standard deviation: {np.std(support_percentage)}\")"
   ]
  },
  {
   "cell_type": "code",
   "execution_count": 13,
   "metadata": {},
   "outputs": [
    {
     "name": "stdout",
     "output_type": "stream",
     "text": [
      "1011111111111101 ['87-37-34-37-71-43-37-34-39-43-37-43-37-26-81-43-43-43-43-43-43-43-43-43-', '87-37-34-39-71-34-26-43-43-43-43-43-43-43-43-43-43-43-43-43-', '87-37-34-39-71-34-26-43-43-43-43-43-43-43-43-43-43-43-43-43-43-', '87-37-34-39-71-43-43-81-43-20-87-43-34-43-71-43-43-43-43-43-43-43-26-81-', '87-37-34-41-71-43-37-43-37-34-81-29-81-43-20-103-43-37-26-75-43-43-43-43-43-43-43-43-43-', '87-37-34-43-71-43-34-75-43-37-43-37-43-37-26-81-43-37-43-37-43-37-26-81-', '87-37-34-43-71-43-34-90-43-43-37-43-37-43-37-26-81-43-37-43-37-43-37-26-81-', '87-37-34-43-71-43-34-90-71-43-37-43-37-43-37-26-81-43-37-43-37-43-37-26-81-', '87-37-34-43-71-43-37-43-37-34-34-43-37-26-81-43-', '87-37-34-75-71-43-43-43-43-43-26-81-43-43-43-43-43-43-43-43-43-43-', '87-37-34-75-71-43-43-43-43-43-26-81-43-43-43-43-43-43-43-43-43-43-43-', '87-37-34-90-71-43-37-43-37-43-37-26-81-43-43-43-43-43-43-43-43-43-', '87-37-34-90-71-43-37-43-37-43-37-26-81-43-43-43-43-43-43-43-43-43-26-81-', '87-37-34-90-71-43-37-43-37-43-37-26-81-43-43-43-43-43-43-43-43-43-43-', '87-37-34-90-71-43-37-43-37-43-37-26-81-43-43-43-43-43-43-43-43-43-43-26-81-', '87-37-34-90-71-43-37-43-37-43-37-26-81-43-43-43-43-43-43-43-43-43-43-43-', '87-37-34-90-71-43-37-43-37-43-37-26-81-43-43-43-43-43-43-43-43-43-43-43-26-81-', '87-37-34-90-71-43-37-43-37-43-37-26-81-43-43-43-43-43-43-43-43-43-43-43-43-', '87-37-34-90-71-43-43-43-43-43-43-26-81-43-43-43-43-43-43-43-43-43-43-', '87-37-34-90-71-43-43-43-43-43-43-26-81-43-43-43-43-43-43-43-43-43-43-43-', '87-37-34-98-71-43-34-80-43-43-34-43-43-43-43-81-43-20-87-43-34-98-71-43-81-43-20-87-43-43-37-43-37-43-37-26-81-43-43-43-43-26-88-', '87-37-34-98-71-43-37-34-90-43-37-43-81-52-37-26-81-43-43-43-43-81-43-20-43-', '87-37-34-98-71-43-37-34-90-43-37-43-81-52-37-26-81-43-43-71-43-37-43-37-43-37-26-81-', '87-37-71-34-41-43-81-43-20-43-43-26-81-43-43-43-43-43-26-81-43-43-43-43-43-43-43-43-43-', '87-37-71-34-75-43-43-43-43-43-43-26-81-43-81-43-20-43-37-26-71-43-37-43-37-26-81-', '87-37-71-34-75-43-43-43-43-43-43-26-81-43-81-43-20-43-43-26-71-43-43-43-43-26-81-', '87-37-71-34-88-43-81-43-20-43-37-26-81-43-37-43-37-26-81-43-43-81-43-20-43-', '87-37-71-34-88-43-81-43-20-43-37-26-81-43-37-43-37-26-81-43-43-81-43-20-87-43-', '87-37-71-34-88-43-81-43-20-43-43-26-81-43-43-43-43-26-34-43-37-43-37-43-37-26-81-', '87-37-71-34-88-43-81-43-20-43-43-26-81-43-43-43-43-26-81-43-37-43-37-43-37-26-81-', '87-37-71-34-88-43-81-43-20-43-43-26-81-43-43-43-43-26-81-43-43-43-43-43-43-43-26-81-', '87-37-71-34-88-43-81-43-20-43-43-26-81-43-43-43-43-26-81-43-43-43-43-43-43-43-43-', '87-37-71-34-88-43-81-43-20-43-43-26-81-43-43-43-43-26-81-43-43-43-43-43-43-43-43-43-', '87-37-71-34-90-43-43-37-43-37-43-37-26-81-43-81-43-20-43-37-26-49-43-37-43-37-26-81-', '87-37-71-34-90-43-43-37-43-37-43-37-26-81-43-81-43-20-43-43-26-49-', '87-37-71-34-98-43-81-43-20-71-43-26-81-43-43-43-43-43-26-81-43-37-43-37-43-37-26-81-', '87-37-71-39-26-26-43-81-43-20-43-43-26-81-43-43-43-26-34-43-81-43-20-87-43-43-43-43-43-26-34-', '87-37-71-39-26-26-43-81-43-20-43-43-26-81-43-43-43-26-34-43-81-43-20-87-43-43-43-43-43-43-26-81-', '87-37-71-39-26-37-43-81-43-20-71-39-26-34-43-71-37-34-80-94-43-26-90-106-34-43-43-43-43-43-43-43-26-81-43-43-', '87-37-71-39-26-39-43-81-43-20-71-34-41-43-71-37-34-90-71-34-81-43-26-90-106-34-43-43-43-43-43-', '87-37-71-39-26-39-43-81-43-20-71-34-41-43-71-37-71-34-81-43-26-90-106-34-43-43-43-43-43-43-43-', '87-37-71-39-26-39-43-81-43-20-71-34-98-43-71-37-71-34-81-43-26-90-106-34-43-43-43-43-43-43-43-', '87-37-71-39-26-39-43-81-43-20-71-34-98-43-71-37-71-34-81-43-26-90-106-34-43-43-43-43-43-43-43-43-', '87-37-71-39-26-43-43-43-43-43-43-43-43-43-43-43-43-81-43-20-87-43-43-43-49-43-49-43-71-37-94-43-52-26-81-106-80-', '87-37-71-39-26-43-43-81-43-20-43-43-26-81-43-43-43-26-34-43-37-26-34-43-43-43-43-43-43-43-43-', '87-37-71-39-26-43-43-81-43-20-43-43-26-81-43-43-43-26-34-43-37-26-34-43-43-43-43-43-43-43-43-43-', '87-37-71-39-26-43-43-81-43-20-43-43-26-81-43-43-43-26-34-43-37-26-34-43-43-43-43-43-43-43-43-43-43-', '87-37-71-39-26-43-43-81-43-20-43-43-26-81-43-43-43-26-34-43-37-26-34-43-43-43-43-43-43-43-43-43-43-43-', '87-37-71-39-26-43-43-81-43-20-43-43-26-81-43-43-43-26-34-43-37-26-34-43-43-43-43-43-43-43-43-43-43-43-43-', '87-37-71-39-26-43-43-81-43-20-43-43-26-81-43-43-43-26-34-43-37-26-34-43-43-43-81-43-20-87-43-43-', '87-37-71-39-26-43-43-81-43-20-71-34-49-43-26-81-43-43-43-43-43-43-26-81-43-43-', '87-37-71-39-26-43-43-81-43-20-71-34-49-43-26-81-43-43-43-43-43-43-26-81-43-43-43-43-43-', '87-37-71-39-26-43-43-81-43-20-71-34-49-43-26-81-43-43-43-43-43-43-26-81-43-43-43-43-43-43-', '87-37-71-39-26-49-43-81-43-20-71-39-26-26-43-71-37-34-80-94-43-26-90-106-34-43-43-43-43-43-43-43-43-43-', '87-37-71-39-26-49-43-81-43-20-71-39-26-43-43-71-37-34-80-94-43-26-90-106-34-43-43-43-43-43-26-34-43-43-', '87-37-71-39-26-49-43-81-43-20-71-39-26-52-43-71-37-34-80-94-43-26-90-106-34-43-43-43-43-43-43-26-81-43-43-', '87-37-71-39-26-49-43-81-43-20-71-39-26-52-43-71-37-34-80-94-43-26-90-106-34-43-43-43-43-43-43-43-43-43-43-', '87-37-71-39-26-52-43-81-43-20-71-34-87-43-26-81-43-43-43-43-43-26-81-43-43-43-43-43-43-', '87-37-71-39-26-52-43-81-43-20-71-34-87-43-26-81-43-43-43-43-43-26-81-43-43-43-43-43-43-43-43-43-', '87-37-71-39-26-52-43-81-43-20-71-43-26-81-34-75-43-37-43-37-43-37-26-81-43-43-43-', '87-37-71-39-26-52-43-81-43-20-71-43-26-81-34-75-43-37-43-37-43-37-26-81-43-43-43-43-43-', '87-37-71-39-26-75-43-81-43-20-71-34-41-43-71-37-34-80-94-43-26-90-106-34-43-43-43-43-43-43-43-', '87-37-71-39-26-75-43-81-43-20-71-34-98-43-71-37-71-34-81-43-26-90-106-34-43-43-43-43-43-43-43-', '87-37-71-39-26-80-43-81-43-20-71-34-37-43-71-37-71-34-81-43-26-90-106-34-43-43-43-43-43-', '87-37-71-39-26-80-43-81-43-20-71-34-37-43-71-37-71-34-81-43-26-90-106-34-43-43-43-43-43-43-', '87-37-71-39-26-80-43-81-43-20-71-34-37-43-71-37-71-34-81-43-26-90-106-34-43-43-43-43-43-43-43-', '87-37-71-39-26-80-43-81-43-20-71-34-49-43-71-37-71-34-81-43-26-90-106-34-43-43-43-43-', '87-37-71-39-26-80-43-81-43-20-71-34-49-43-71-37-71-34-81-43-26-90-106-34-43-43-43-43-43-', '87-37-71-39-26-80-43-81-43-20-71-34-49-43-71-37-71-34-81-43-26-90-106-34-43-43-43-43-43-43-', '87-37-71-39-26-80-43-81-43-20-71-34-49-43-71-37-71-34-81-43-26-90-106-34-43-43-43-43-81-43-20-43-', '87-37-71-39-26-80-43-81-43-20-71-34-88-43-71-37-71-34-81-43-26-90-106-34-43-43-43-43-43-43-', '87-37-71-39-26-80-43-81-43-20-71-34-88-43-71-37-71-34-81-43-26-90-106-34-43-43-43-43-43-43-43-', '87-37-71-39-26-80-43-81-43-20-71-34-88-43-71-37-71-34-81-43-26-90-106-34-43-43-43-43-43-43-43-43-', '87-37-71-39-26-80-43-81-43-20-71-34-98-43-71-37-71-34-81-43-26-90-106-34-43-43-43-43-43-43-43-', '87-37-71-39-26-80-43-81-43-20-71-34-98-43-71-37-71-34-81-43-26-90-106-34-43-43-43-43-43-43-43-43-', '87-37-71-39-26-87-43-81-43-20-71-34-41-43-71-37-34-90-71-34-81-43-26-90-106-34-43-43-43-43-43-43-', '87-37-71-43-81-43-20-71-43-26-81-34-39-43-43-43-43-43-26-34-43-43-43-43-43-43-43-', '87-37-71-43-81-43-20-71-43-26-81-34-75-43-37-43-37-43-37-26-81-43-37-43-37-43-37-26-81-', '87-37-71-43-81-43-20-71-43-26-81-43-43-43-43-43-26-81-', '87-37-71-43-81-43-20-71-43-26-81-43-43-43-43-43-43-26-81-', '87-37-71-43-81-43-20-71-43-26-81-43-43-43-43-43-43-43-43-', '87-37-71-43-81-43-20-71-43-26-81-43-43-43-43-43-43-43-43-43-', '87-37-71-43-81-43-20-71-43-81-43-20-43-26-39-34-26-43-43-43-43-', '87-37-71-43-81-43-20-71-43-81-43-20-43-26-39-34-52-43-43-43-43-43-', '87-39-26-26-43-37-43-37-34-75-43-34-43-43-34-43-43-43-43-37-26-90-43-43-87-43-81-43-20-43-', '87-39-26-26-43-37-43-37-34-75-43-34-43-43-34-43-43-43-43-37-26-90-43-43-87-43-81-43-20-43-43-43-43-43-43-43-43-', '87-39-26-34-43-37-43-37-34-87-43-43-43-26-34-37-43-37-26-75-43-37-26-71-43-81-43-20-43-', '87-39-26-34-43-81-43-20-43-43-43-43-43-43-43-43-43-43-81-43-20-87-43-43-43-43-', '87-39-26-39-43-37-34-26-87-43-43-37-34-80-43-37-26-39-87-43-43-81-43-20-87-43-43-43-', '87-39-26-39-43-81-43-20-43-34-75-43-37-43-37-43-37-26-81-43-37-43-37-43-37-26-81-43-43-', '87-39-26-43-43-37-34-26-87-43-43-37-34-52-43-43-37-43-37-26-87-43-81-43-20-71-43-37-43-37-43-37-26-81-', '87-39-26-43-43-37-43-37-34-39-43-43-43-81-43-20-43-43-37-26-87-43-', '87-39-26-52-43-81-43-20-43-34-75-43-43-43-43-43-43-26-81-43-81-43-20-43-43-43-', '87-39-26-52-43-81-43-20-43-43-43-43-43-43-43-43-43-81-43-20-87-43-43-43-43-', '87-39-26-80-43-37-34-26-87-43-43-37-34-80-43-37-26-39-87-43-43-81-43-20-87-43-43-', '87-39-26-80-43-37-34-81-29-81-43-20-103-43-37-34-81-29-81-43-20-103-43-37-26-71-43-37-43-37-43-37-26-81-', '87-39-26-80-43-37-43-34-49-43-34-43-71-37-34-34-43-37-26-80-43-37-43-37-26-71-43-', '87-39-26-80-43-37-43-34-71-43-43-43-43-26-81-37-43-37-26-90-43-43-43-43-26-49-43-81-43-20-43-', '87-39-26-80-43-37-43-37-34-49-43-81-43-20-43-26-81-37-43-37-26-90-43-37-43-37-26-71-43-', '87-39-26-80-43-37-43-37-34-87-43-43-43-26-34-37-43-37-26-75-43-37-26-71-87-43-43-', '87-39-26-80-43-81-43-20-43-34-75-43-37-43-37-43-37-26-81-43-81-43-20-87-43-43-43-43-', '87-39-26-80-43-81-43-20-43-34-75-43-43-43-43-43-26-81-20-43-43-43-81-43-20-87-43-43-', '87-39-26-80-43-81-43-20-43-34-75-43-43-43-43-43-43-26-81-43-43-43-43-43-26-87-43-43-', '87-39-26-80-43-81-43-20-43-43-43-43-43-34-75-43-26-81-43-81-43-20-87-43-43-43-43-43-', '87-39-26-80-43-81-43-20-43-43-43-43-43-43-43-43-43-43-43-43-43-81-43-20-87-43-43-', '87-39-26-81-43-37-34-26-87-43-43-37-34-80-43-37-26-39-87-43-43-81-43-20-43-43-', '87-39-26-81-43-81-43-20-43-43-43-43-43-43-43-43-43-43-43-43-81-43-20-87-43-43-', '87-39-26-81-43-81-43-20-43-43-43-43-43-43-43-43-43-43-43-81-43-20-87-43-43-43-43-', '87-39-26-90-43-37-43-34-98-43-43-37-34-43-87-43-81-43-20-43-43-43-26-75-37-43-37-26-88-43-', '87-39-26-90-43-37-43-37-34-98-43-43-43-26-34-37-43-37-26-75-29-81-43-20-103-43-37-26-88-43-', '87-39-26-90-43-81-43-20-43-34-75-43-37-43-37-43-37-26-81-43-81-43-20-43-81-43-20-87-43-43-43-', '87-43-34-26-87-43-39-52-26-43-34-98-43-37-26-39-43-37-87-43-87-43-26-34-37-26-75-43-37-34-26-87-43-43-37-34-26-87-43-43-37-26-90-43-', '87-43-34-37-43-34-43-87-43-34-43-87-43-26-80-87-43-43-', '87-43-34-37-43-34-43-87-43-34-43-87-43-26-80-87-43-43-87-', '87-43-34-37-43-34-75-43-37-43-37-43-37-26-81-43-89-43-81-43-20-43-37-43-37-43-37-26-81-', '87-43-34-37-43-34-75-43-37-43-37-43-37-26-81-43-89-43-81-43-20-71-43-37-43-37-43-37-26-81-', '87-43-34-37-43-34-75-43-37-43-37-43-37-26-81-43-89-43-81-43-20-87-43-', '87-43-34-37-43-43-43-43-26-81-34-34-43-43-43-43-43-34-43-43-43-', '87-43-34-37-43-43-43-43-34-52-43-26-34-43-43-26-81-43-', '87-43-34-39-43-43-43-43-43-26-81-43-34-43-87-43-37-43-37-43-37-26-81-', '87-43-34-39-43-43-43-43-43-26-81-43-43-43-43-43-43-43-43-', '87-43-34-39-43-43-43-43-43-26-81-43-43-43-43-43-43-43-43-43-', '87-43-34-39-43-43-43-43-43-26-81-43-43-81-43-20-87-43-43-43-43-', '87-43-34-39-43-43-43-43-43-26-81-43-43-81-43-20-87-43-43-43-43-43-43-43-43-', '87-43-34-39-43-43-43-43-43-26-81-43-43-81-43-20-87-43-43-43-43-43-43-43-43-43-', '87-43-34-39-43-43-43-43-43-26-81-43-43-81-43-20-87-43-43-43-43-43-43-43-43-43-43-', '87-43-34-39-43-43-43-43-43-26-81-43-81-43-20-87-43-43-43-43-43-43-43-43-', '87-43-34-39-43-43-43-43-43-26-81-43-81-43-20-87-43-43-43-43-43-43-43-43-43-', '87-43-34-41-43-34-75-43-37-43-37-43-37-26-81-43-81-43-20-87-34-75-43-37-43-37-43-37-26-81-43-37-43-37-43-37-26-81-', '87-43-34-41-43-37-43-34-26-87-43-37-34-26-87-43-43-37-26-90-43-81-43-20-43-37-43-37-34-26-87-43-43-37-26-39-', '87-43-34-41-43-43-43-43-26-81-43-43-26-81-43-43-43-26-39-43-43-43-43-43-26-49-', '87-43-34-41-43-43-43-43-43-26-81-43-43-26-39-34-43-43-43-34-43-43-43-', '87-43-34-41-43-43-43-81-43-20-71-43-43-37-43-37-43-37-26-81-43-43-81-43-20-87-', '87-43-34-49-43-34-43-87-43-34-43-87-43-26-80-20-43-34-43-87-43-', '87-43-34-49-43-34-43-87-43-34-43-87-43-26-80-20-43-37-43-37-43-37-26-81-', '87-43-34-49-43-34-43-87-43-37-43-37-43-37-26-81-34-75-43-37-43-37-43-37-26-81-43-37-43-37-43-37-26-81-', '87-43-34-75-43-34-43-43-34-43-43-43-34-75-43-71-43-43-87-43-26-34-43-', '87-43-34-75-43-34-43-43-34-43-43-43-43-43-43-43-43-43-', '87-43-34-75-43-34-43-43-34-43-43-43-43-43-43-43-43-43-43-43-', '87-43-34-75-43-34-43-43-34-43-43-43-43-43-43-43-43-43-43-43-43-', '87-43-34-75-43-37-43-37-43-37-26-81-34-75-43-37-43-37-43-37-26-81-43-81-43-20-71-34-34-43-26-41-20-43-37-43-37-43-37-26-81-', '87-43-34-75-43-37-43-37-43-37-26-81-34-75-43-37-43-37-43-37-26-81-43-81-43-20-71-34-43-43-43-', '87-43-34-75-43-37-43-37-43-37-26-81-34-75-43-37-43-37-43-37-26-81-43-81-43-20-71-34-43-71-43-52-26-26-20-', '87-43-34-75-43-37-43-37-43-37-26-81-34-75-43-37-43-37-43-37-26-81-43-81-43-20-71-34-43-87-43-52-26-26-20-', '87-43-34-75-43-37-43-37-43-37-26-81-34-75-43-37-43-37-43-37-26-81-43-81-43-20-71-34-81-71-34-43-43-43-43-52-26-26-20-', '87-43-34-75-43-37-43-37-43-37-26-81-34-75-43-37-43-37-43-37-26-81-43-81-43-20-71-34-81-71-34-43-43-43-43-52-26-34-20-', '87-43-34-75-43-37-43-37-43-37-26-81-34-75-43-37-43-37-43-37-26-81-43-81-43-20-71-34-81-71-34-43-43-43-43-52-26-52-20-', '87-43-34-75-43-37-43-37-43-37-26-81-34-75-43-37-43-37-43-37-26-81-43-81-43-20-71-43-26-41-20-', '87-43-34-75-43-37-43-37-43-37-26-81-43-81-43-20-71-43-37-43-37-34-34-43-37-26-81-43-', '87-43-34-75-43-37-43-37-43-37-26-81-43-81-43-20-71-43-37-43-37-43-37-26-81-', '87-43-34-75-43-37-43-37-43-37-26-81-43-81-43-20-71-43-37-43-81-81-37-43-37-26-81-43-37-43-37-26-75-', '87-43-34-75-43-43-43-43-43-43-26-81-43-43-43-43-43-43-26-49-', '87-43-34-75-43-43-43-43-43-43-26-81-43-43-43-43-43-43-43-26-81-', '87-43-34-75-43-43-43-43-43-43-26-81-43-43-43-43-43-43-43-43-', '87-43-34-75-43-43-43-43-43-43-26-81-43-43-43-43-43-43-43-43-26-81-', '87-43-34-75-43-43-43-43-43-43-26-81-43-43-43-43-43-43-43-43-43-', '87-43-34-75-43-43-43-43-43-43-26-81-43-43-43-43-43-43-43-43-43-26-81-', '87-43-34-75-43-43-43-43-43-43-26-81-43-43-43-43-43-43-43-43-43-43-', '87-43-34-75-43-71-34-26-43-43-43-43-43-37-43-37-43-37-26-81-', '87-43-34-80-43-43-43-26-34-20-43-43-43-43-43-43-43-43-43-43-', '87-43-34-80-43-43-43-43-26-34-43-34-43-87-43-37-43-37-43-37-26-81-', '87-43-34-80-43-43-43-43-26-34-43-34-75-43-37-43-37-43-37-26-81-43-81-43-20-87-', '87-43-34-80-43-43-43-43-26-34-43-34-75-43-37-43-37-43-37-26-81-43-81-43-20-87-43-', '87-43-34-80-43-43-43-43-26-34-43-34-75-43-37-43-37-43-37-26-81-43-81-43-20-87-43-43-', '87-43-34-80-43-43-43-43-26-34-43-43-43-43-43-43-43-43-', '87-43-34-80-43-43-43-43-26-34-43-43-43-43-43-43-43-43-43-', '87-43-34-80-43-43-43-43-26-34-43-43-43-43-43-43-43-43-43-43-', '87-43-34-80-43-43-43-43-26-34-43-43-43-43-43-43-43-43-43-43-43-', '87-43-34-80-43-43-43-43-26-34-43-81-43-20-87-43-43-43-43-43-43-26-81-', '87-43-34-80-43-43-43-43-26-34-43-81-43-20-87-43-43-43-43-43-43-43-43-', '87-43-34-80-43-43-43-43-26-34-43-81-43-20-87-43-43-43-43-43-43-43-43-43-', '87-43-34-80-43-43-43-43-26-81-43-34-43-87-43-37-43-37-43-37-26-81-', '87-43-34-80-43-43-43-43-26-81-43-34-75-43-37-43-37-43-37-26-81-43-81-43-20-87-', '87-43-34-80-43-43-43-43-26-81-43-43-43-43-43-43-43-43-43-', '87-43-34-80-43-43-43-43-26-81-43-81-43-20-87-43-43-43-43-43-43-26-81-', '87-43-34-80-43-43-43-43-26-81-43-87-43-37-43-37-34-34-43-37-26-81-43-', '87-43-34-80-43-43-43-43-26-81-43-87-43-81-43-20-43-43-43-43-43-43-43-43-43-', '87-43-34-80-43-43-43-43-26-81-43-87-43-81-43-20-43-43-43-43-43-43-43-43-43-43-', '87-43-34-81-43-43-43-26-34-43-87-43-81-43-20-43-43-43-43-43-43-43-43-43-43-43-43-', '87-43-34-81-87-43-43-26-34-43-43-43-34-34-43-43-26-75-43-', '87-43-34-81-87-43-43-26-34-43-43-43-34-34-43-43-26-75-43-43-43-43-43-26-39-', '87-43-34-81-87-43-43-26-34-43-43-43-43-43-26-75-', '87-43-34-81-87-43-43-26-34-43-43-43-43-43-43-43-43-43-', '87-43-34-81-87-43-43-26-34-43-43-43-43-43-43-43-43-43-43-', '87-43-34-88-43-34-43-87-43-34-43-87-43-26-80-87-43-43-43-87-', '87-43-34-90-43-34-43-87-43-81-43-20-87-43-81-43-20-87-', '87-43-34-90-43-34-43-87-43-81-43-20-87-43-81-43-20-87-43-43-', '87-43-34-90-43-43-37-43-37-43-37-26-81-34-75-43-37-43-37-43-37-26-81-43-81-43-20-87-', '87-43-34-90-43-43-37-43-37-43-37-26-81-34-75-43-37-43-37-43-37-26-81-43-81-43-20-87-43-', '87-43-34-90-43-43-37-43-37-43-37-26-81-43-43-37-43-37-43-37-26-81-', '87-43-34-90-43-43-37-43-37-43-37-26-81-43-43-81-43-20-87-', '87-43-34-90-43-43-37-43-37-43-37-26-81-43-43-81-43-20-87-43-', '87-43-34-90-43-43-37-43-37-43-37-26-81-43-43-81-43-20-87-43-43-', '87-43-34-90-43-43-37-43-37-43-37-26-81-43-81-43-20-87-43-43-', '87-43-34-90-43-43-43-43-43-43-43-43-43-43-', '87-43-34-98-43-37-34-81-71-43-26-34-20-43-37-43-37-26-75-43-43-81-43-20-43-37-43-37-34-26-87-43-43-37-26-39-', '87-43-34-98-43-37-34-81-71-43-26-34-20-43-37-43-37-26-75-43-43-81-43-20-43-37-43-37-43-37-26-81-', '87-43-34-98-43-43-34-43-87-43-34-43-87-43-81-43-20-87-43-43-43-43-26-37-', '87-43-34-98-43-43-34-43-87-43-43-26-80-43-43-43-43-43-43-34-43-43-43-', '87-43-34-98-43-43-34-80-87-43-26-81-43-34-43-43-43-87-43-43-', '87-43-34-98-43-43-34-80-87-43-26-81-43-34-43-43-43-87-43-43-43-43-43-43-26-37-', '87-43-34-98-43-43-43-34-43-87-34-34-43-43-26-80-43-26-39-43-81-43-20-87-43-43-', '87-43-34-98-43-43-43-34-43-87-43-43-26-80-34-43-43-43-43-43-43-43-43-26-49-', '87-43-34-98-43-43-43-81-43-20-71-43-37-43-37-43-37-26-81-43-37-43-37-43-37-26-81-', '87-43-37-34-34-87-43-26-34-43-37-43-81-52-37-26-39-43-81-43-20-87-43-', '87-43-37-34-34-87-43-26-34-43-37-43-81-52-37-26-39-43-87-43-81-43-20-43-37-43-37-34-26-87-43-43-37-26-39-', '87-43-37-34-34-87-43-26-34-43-37-43-81-52-37-26-39-43-87-43-81-43-20-71-43-37-43-37-34-26-87-43-43-37-26-39-', '87-43-37-34-34-87-43-26-34-43-37-43-81-52-37-26-39-48-37-34-80-84-43-81-43-20-43-48-81-43-20-43-', '87-43-37-34-34-87-43-26-34-43-37-43-81-52-37-26-39-48-37-34-80-84-43-81-43-20-43-48-81-43-20-87-43-', '87-43-37-34-34-87-43-26-34-43-37-43-81-52-37-26-39-48-37-34-81-76-81-43-20-103-48-', '87-43-37-34-34-87-43-26-34-43-37-43-81-52-37-26-39-48-37-48-81-43-20-43-', '87-43-37-34-34-87-43-26-34-43-37-43-81-52-37-26-39-48-37-48-81-43-20-43-37-43-37-34-26-87-43-43-37-26-39-', '87-43-37-34-37-43-37-34-81-29-81-43-20-103-43-37-26-75-43-', '87-43-37-34-37-43-37-34-81-29-81-43-20-103-43-37-26-75-43-81-43-20-43-', '87-43-37-34-39-43-43-43-43-26-81-20-43-37-34-43-87-43-34-26-87-43-37-26-37-', '87-43-37-34-41-43-34-75-43-37-43-37-43-37-26-81-37-43-26-71-20-43-37-43-34-26-87-43-37-52-26-43-', '87-43-37-34-41-43-34-75-43-37-43-37-43-37-26-81-37-43-26-71-20-43-37-43-37-26-98-', '87-43-37-34-41-43-81-43-20-43-37-26-80-43-37-43-37-43-37-26-81-43-37-43-37-26-98-', '87-43-37-34-49-43-34-43-87-37-43-34-43-71-37-26-39-43-81-43-20-87-', '87-43-37-34-49-43-34-43-87-37-43-34-43-87-37-26-39-43-37-43-26-71-20-', '87-43-37-34-49-43-81-75-37-26-34-29-81-43-20-103-43-43-37-43-81-52-37-26-71-43-', '87-43-37-34-49-43-81-75-37-26-34-29-81-43-20-103-43-43-81-43-20-43-', '87-43-37-34-49-43-81-75-37-26-34-43-81-43-20-87-43-43-81-43-20-43-', '87-43-37-34-75-43-34-43-43-34-43-43-43-43-37-34-43-87-43-37-26-87-43-34-43-43-34-43-43-43-', '87-43-37-34-75-43-34-43-43-34-43-43-43-43-37-34-49-43-37-26-90-43-34-43-43-34-43-43-43-43-34-43-87-34-75-43-37-43-37-43-37-26-81-43-37-43-37-43-37-26-81-', '87-43-37-34-75-43-34-43-43-34-43-43-43-43-37-34-49-43-37-26-90-43-34-43-43-34-43-43-43-43-81-43-20-43-34-43-43-34-43-43-43-', '87-43-37-34-75-43-34-43-43-34-43-43-43-43-37-34-49-43-37-26-90-43-34-43-43-34-43-43-43-43-81-43-20-43-43-', '87-43-37-34-75-43-34-43-43-34-43-43-43-43-37-34-49-43-37-26-90-43-34-43-43-34-43-43-43-43-81-43-20-43-43-43-43-43-43-43-43-', '87-43-37-34-75-43-34-43-43-34-43-43-43-43-37-34-49-43-37-26-90-43-34-43-43-34-43-43-43-43-81-43-20-43-43-43-81-43-20-71-34-87-43-81-43-20-43-106-39-43-26-87-43-', '87-43-37-34-75-43-34-43-43-34-43-43-43-43-37-34-49-43-37-26-90-43-34-43-43-34-43-43-43-43-81-43-20-43-43-43-81-43-20-71-34-87-43-81-43-20-43-43-43-26-75-20-43-', '87-43-37-34-75-43-34-43-43-34-43-43-43-43-37-34-49-43-37-26-90-43-34-43-43-34-43-43-43-43-81-43-20-43-43-43-81-43-20-71-34-88-43-43-37-43-37-34-26-87-43-43-37-26-39-43-26-41-20-', '87-43-37-34-75-43-34-43-43-34-43-43-43-43-37-34-49-43-37-26-90-43-34-43-43-34-43-43-43-43-81-43-20-43-43-43-81-43-20-71-34-98-43-81-43-20-43-43-37-43-37-34-43-87-43-37-26-80-43-26-41-20-', '87-43-37-34-75-43-34-43-43-34-43-43-43-43-37-34-49-43-37-26-90-43-34-43-43-34-43-43-43-43-81-43-20-87-43-43-', '87-43-37-34-75-43-34-43-43-34-43-43-43-43-37-34-49-43-37-26-90-43-34-43-43-34-43-43-43-43-87-', '87-43-37-34-75-43-34-43-43-34-43-43-43-43-37-34-49-43-37-26-90-43-34-43-43-34-43-43-43-43-87-43-81-43-20-43-', '87-43-37-34-80-43-37-43-37-26-81-43-81-43-20-71-43-', '87-43-37-34-81-29-81-43-20-103-43-37-34-34-43-37-26-75-43-', '87-43-37-34-81-43-34-43-43-43-43-37-34-43-87-43-34-43-71-37-26-87-43-81-43-20-43-', '87-43-37-34-88-43-37-34-34-43-26-81-20-43-37-43-37-26-39-43-37-34-43-71-43-37-26-88-', '87-43-37-34-88-43-37-34-34-43-26-81-20-43-37-43-37-26-39-43-37-43-34-43-71-37-26-88-', '87-43-37-34-88-43-37-34-34-43-26-81-20-43-37-43-37-26-39-43-37-43-34-43-87-37-26-88-', '87-43-37-34-90-43-34-43-87-34-26-43-43-43-43-37-43-37-26-87-', '87-43-37-34-90-43-34-43-87-43-81-43-20-43-43-37-43-26-87-20-', '87-43-37-34-90-43-37-34-34-43-37-26-81-43-43-81-43-20-43-37-26-71-43-37-43-37-43-37-26-81-', '87-43-37-34-90-43-37-43-34-43-87-37-26-80-43-81-43-20-43-', '87-43-37-34-90-43-37-43-34-43-87-37-26-80-43-81-43-20-71-', '87-43-37-34-90-43-37-43-34-43-87-37-26-80-43-81-43-20-71-43-26-87-20-', '87-43-37-34-90-43-81-81-37-43-26-81-20-43-43-37-43-34-26-87-43-37-26-49-', '87-43-37-34-90-43-81-81-37-43-26-81-20-43-43-37-43-34-43-87-37-26-71-', '87-43-37-34-98-43-81-43-20-43-37-26-80-43-37-43-37-26-81-43-43-34-43-87-37-43-34-43-87-37-26-41-', '87-43-37-39-26-34-43-34-26-87-43-37-34-26-87-43-43-34-26-87-43-37-26-71-87-43-43-81-43-20-43-37-52-26-26-43-37-43-37-34-34-87-43-43-43-43-37-26-90-', '87-43-37-39-26-43-43-34-26-87-43-37-34-26-87-43-43-34-43-87-37-26-87-43-81-43-20-43-37-26-98-43-37-43-34-26-87-43-37-34-26-87-43-43-37-26-90-', '87-43-37-39-26-43-43-34-26-87-43-37-43-34-81-87-43-37-26-34-37-26-87-43-81-43-20-43-37-26-98-43-37-43-37-43-37-26-81-', '87-43-37-39-26-43-43-34-43-87-37-34-26-87-43-43-34-26-87-43-37-26-87-43-81-43-20-43-37-26-98-43-37-43-37-43-37-26-81-', '87-43-37-39-26-43-43-37-34-75-43-34-43-43-34-43-43-43-43-37-26-90-43-43-81-43-20-43-26-88-43-43-43-43-43-43-43-43-43-43-', '87-43-37-39-26-43-43-37-34-90-43-34-43-43-34-43-43-43-37-26-75-43-81-43-20-43-37-26-37-43-37-43-37-43-37-26-81-', '87-43-37-39-26-43-43-37-34-90-43-81-81-37-43-37-26-81-43-43-26-90-20-43-37-43-37-26-88-', '87-43-37-39-26-43-43-81-43-20-43-37-26-80-43-37-43-81-52-37-26-81-43-43-37-43-37-26-88-', '87-43-37-39-26-43-43-81-43-20-43-37-26-80-43-37-43-81-52-37-26-81-43-43-37-43-81-52-37-26-88-43-', '87-43-37-43-34-41-43-34-49-43-37-43-37-34-26-87-43-43-37-26-39-43-37-34-34-87-43-43-37-43-37-52-26-52-87-43-52-26-80-', '87-43-37-43-34-88-43-34-87-43-43-43-71-34-26-43-43-43-43-43-37-43-37-26-98-87-43-52-26-26-', '87-43-37-43-34-88-43-43-43-43-43-43-43-37-43-37-43-37-26-81-37-43-37-52-26-43-', '87-43-37-43-34-90-43-43-43-43-43-43-43-26-80-37-43-37-26-49-43-37-26-98-', '87-43-37-43-37-34-34-43-37-26-81-43-81-43-20-71-', '87-43-37-43-37-34-34-43-37-26-81-43-81-43-20-71-43-81-43-20-43-26-90-20-', '87-43-37-43-37-34-34-43-37-26-81-43-81-43-20-87-', '87-43-37-43-37-34-34-43-37-26-81-43-81-43-20-87-43-', '87-43-37-43-37-34-87-43-43-43-26-34-37-43-37-26-75-43-81-52-37-26-71-43-81-43-20-43-', '87-43-37-43-37-34-90-43-43-37-43-37-43-37-26-81-43-37-26-49-', '87-43-39-26-26-43-34-75-43-37-43-37-43-37-26-81-43-81-43-20-87-43-43-43-37-43-37-43-37-26-81-', '87-43-39-26-34-43-34-43-87-43-34-43-87-43-34-80-87-43-26-75-43-87-43-87-43-87-43-26-41-20-', '87-43-39-26-43-43-34-43-87-43-34-43-87-43-34-43-87-43-26-75-87-43-43-87-', '87-43-39-26-43-43-34-75-43-37-43-37-43-37-26-81-43-81-43-20-71-43-43-37-43-37-43-37-26-81-', '87-43-39-26-43-43-34-75-43-37-43-37-43-37-26-81-43-81-43-20-87-43-43-37-43-37-43-37-26-81-', '87-43-39-26-52-43-34-75-43-37-43-37-43-37-26-81-43-37-43-37-43-37-26-81-43-34-43-87-43-34-43-87-43-87-', '87-43-39-26-52-43-34-75-43-37-43-37-43-37-26-81-43-37-43-37-43-37-26-81-43-87-43-52-26-43-34-43-43-43-', '87-43-39-26-80-43-34-43-87-43-34-43-87-43-34-80-87-43-26-75-43-87-43-37-43-37-26-37-71-43-81-43-20-87-43-43-', '87-43-39-26-80-43-34-43-87-43-34-43-87-43-34-80-87-43-26-75-43-87-43-37-43-37-26-37-87-43-', '87-43-43-34-39-43-43-43-43-43-26-81-43-43-43-43-43-43-43-', '87-43-43-34-41-87-43-34-34-87-43-26-81-43-37-43-37-43-37-26-81-43-34-43-87-43-34-43-87-43-52-26-43-87-43-', '87-43-43-34-75-43-37-43-37-43-37-26-81-34-75-43-37-43-37-43-37-26-81-43-81-43-20-71-34-81-43-52-26-43-20-43-', '87-43-43-34-75-43-37-43-37-43-37-26-81-34-75-43-37-43-37-43-37-26-81-43-81-43-20-71-34-81-71-34-43-43-43-43-52-26-34-20-', '87-43-43-34-75-43-37-43-37-43-37-26-81-34-75-43-37-43-37-43-37-26-81-43-81-43-20-71-43-52-26-43-20-', '87-43-43-34-75-43-37-43-37-43-37-26-81-43-81-43-20-71-43-26-49-20-', '87-43-43-34-75-43-43-43-43-43-43-26-81-34-75-43-37-43-37-43-37-26-81-43-81-43-20-87-', '87-43-43-34-75-43-43-43-43-43-43-26-81-34-75-43-37-43-37-43-37-26-81-43-81-43-20-87-43-', '87-43-43-34-75-43-43-43-43-43-43-26-81-34-75-43-37-43-37-43-37-26-81-43-81-43-20-87-43-43-', '87-43-43-34-75-43-43-43-43-43-43-26-81-43-43-43-43-26-71-', '87-43-43-34-75-43-43-43-43-43-43-26-81-43-43-43-43-43-26-49-', '87-43-43-34-75-43-43-43-43-43-43-26-81-43-43-43-43-43-43-26-37-', '87-43-43-34-75-43-43-43-43-43-43-26-81-43-43-43-43-43-43-43-26-81-', '87-43-43-34-75-87-43-26-34-34-43-43-43-43-34-41-87-43-26-75-43-87-43-34-80-87-43-26-37-87-43-43-43-', '87-43-43-34-75-87-43-26-34-34-43-43-43-43-34-41-87-43-26-75-43-87-43-43-37-43-37-43-37-26-81-43-43-43-43-', '87-43-43-34-75-87-43-26-34-34-43-43-43-43-34-41-87-43-26-75-43-87-43-43-37-43-37-43-37-26-81-43-43-43-43-43-', '87-43-43-34-75-87-43-26-34-34-43-43-43-43-34-41-87-43-26-75-43-87-43-43-37-43-37-43-37-26-81-43-43-43-43-43-43-52-26-43-', '87-43-43-34-75-87-43-26-34-34-43-43-43-43-34-41-87-43-26-75-43-87-43-43-37-43-37-43-37-26-81-43-43-43-43-43-52-26-43-', '87-43-43-34-75-87-43-26-34-34-43-43-43-43-34-41-87-43-87-43-34-80-87-43-26-49-26-34-34-43-43-43-43-87-43-81-43-20-43-37-43-37-43-37-26-81-', '87-43-43-34-75-87-43-26-34-34-43-43-43-43-34-41-87-43-87-43-34-80-87-43-26-49-26-34-34-43-43-43-43-87-43-81-43-20-43-43-43-', '87-43-43-34-75-87-43-26-34-34-43-43-43-43-34-41-87-43-87-43-34-80-87-43-26-49-26-34-34-43-43-43-43-87-43-81-43-20-43-43-43-37-43-37-43-37-26-81-', '87-43-43-34-75-87-43-26-34-34-43-43-43-43-34-41-87-43-87-43-34-80-87-43-26-49-26-34-34-43-43-43-43-87-43-81-43-20-43-43-43-43-43-43-43-43-43-26-81-', '87-43-43-34-75-87-43-26-34-34-43-43-43-43-34-41-87-43-87-43-34-80-87-43-26-49-26-34-34-43-43-43-43-87-43-81-43-20-43-43-43-43-43-43-43-43-43-43-', '87-43-43-34-75-87-43-26-34-34-43-43-43-43-34-41-87-43-87-43-34-80-87-43-26-49-26-34-34-43-43-43-43-87-43-81-43-20-43-43-43-43-43-43-43-43-43-43-26-81-', '87-43-43-34-75-87-43-26-34-34-43-43-43-43-34-80-87-43-26-75-43-87-43-87-43-34-43-71-37-34-52-71-106-81-43-89-', '87-43-43-34-75-87-43-26-34-34-43-43-43-43-34-80-87-43-26-75-43-87-71-43-37-34-90-43-81-43-20-94-43-26-80-20-43-', '87-43-43-34-75-87-43-26-34-34-43-43-43-43-34-80-87-43-26-75-43-87-71-43-81-43-20-94-43-81-43-20-43-37-26-39-', '87-43-43-34-75-87-43-26-34-34-43-43-43-43-34-80-87-43-26-75-43-87-87-43-43-37-43-37-43-37-26-81-', '87-43-43-34-75-87-43-26-34-34-43-43-43-43-39-26-26-87-43-26-75-43-37-43-37-34-81-43-34-43-43-43-43-37-26-75-43-', '87-43-43-34-75-87-43-26-34-34-43-43-43-43-39-26-26-87-43-26-75-71-43-81-43-20-94-43-81-43-20-43-37-26-39-48-37-48-37-43-37-43-37-26-81-', '87-43-43-34-75-87-43-26-34-34-43-43-43-43-39-26-34-87-43-26-75-71-43-49-43-49-43-34-43-71-37-26-80-71-37-26-90-43-87-', '87-43-43-34-75-87-43-26-34-34-43-43-43-43-87-43-26-75-43-37-43-37-34-34-43-37-26-81-43-89-', '87-43-43-34-75-87-43-26-34-34-43-43-43-43-87-43-26-75-43-37-43-37-43-37-26-81-', '87-43-43-34-75-87-43-26-34-34-43-43-43-43-87-43-26-75-43-71-34-34-43-43-26-81-43-43-43-43-43-26-39-', '87-43-43-34-75-87-43-26-34-34-43-43-43-43-87-43-26-75-43-71-34-34-43-43-26-81-43-43-43-43-43-43-26-39-', '87-43-43-34-75-87-43-26-34-34-43-43-43-43-87-43-26-75-43-71-34-34-43-43-26-81-43-81-43-20-43-37-43-37-43-37-26-81-', '87-43-43-34-75-87-43-26-34-34-43-43-43-43-87-43-26-75-43-71-43-81-43-20-43-37-34-34-43-26-81-20-43-37-43-37-26-39-', '87-43-43-34-75-87-43-26-34-34-43-43-43-43-87-43-26-75-43-71-43-81-43-20-43-37-43-37-43-37-26-81-', '87-43-43-34-75-87-43-26-34-34-43-43-43-43-87-43-26-75-43-71-43-81-43-20-43-43-26-81-', '87-43-43-34-75-87-43-26-34-34-43-43-43-43-87-43-26-75-43-71-43-81-43-20-71-43-26-81-', '87-43-43-34-75-87-43-26-34-34-43-43-43-43-87-43-26-75-43-71-43-81-43-20-71-43-26-81-20-', '87-43-43-34-75-87-43-26-34-34-43-43-43-43-87-43-26-75-43-71-43-81-43-20-94-43-81-43-20-43-34-43-93-37-26-75-', '87-43-43-34-75-87-43-26-34-34-43-43-43-43-87-43-26-75-43-87-43-81-43-20-43-37-43-37-34-26-87-43-43-37-26-39-', '87-43-43-34-75-87-43-26-34-34-43-43-43-43-87-43-26-75-43-87-43-81-43-20-43-37-43-37-34-34-43-37-26-81-43-', '87-43-43-34-75-87-43-26-34-34-43-43-43-43-87-43-26-75-43-87-43-81-43-20-43-37-43-37-43-37-26-81-', '87-43-43-34-75-87-43-26-34-34-43-43-43-43-87-43-34-43-43-34-43-43-43-', '87-43-43-34-80-43-43-43-43-26-81-43-34-43-87-43-37-43-37-43-37-26-81-', '87-43-43-43-34-39-43-26-34-43-43-26-81-43-81-43-20-71-34-34-43-26-75-20-43-43-43-43-43-43-43-', '87-43-43-43-34-75-43-34-43-43-34-43-43-43-43-43-43-26-90-20-', '87-43-43-43-34-75-43-34-43-43-34-43-43-43-43-43-43-26-90-87-', '87-43-43-43-34-75-43-43-43-43-43-43-26-81-43-43-26-71-', '87-43-43-43-34-80-43-43-43-43-26-81-43-81-43-20-71-34-34-43-26-87-20-43-', '87-43-43-43-34-80-43-43-43-43-26-81-43-81-43-20-71-34-34-43-26-87-20-43-37-43-37-43-37-26-81-', '87-43-43-43-34-80-43-43-43-43-26-81-43-81-43-20-71-43-43-43-43-43-43-26-81-', '87-43-43-43-43-34-34-43-43-26-81-43-43-43-43-43-26-39-', '87-43-43-43-43-34-34-43-43-26-81-43-43-43-43-43-26-75-', '87-43-43-43-43-43-43-43-43-43-43-43-', '87-43-43-43-43-43-43-43-43-43-43-43-43-', '87-43-43-71-34-34-43-43-26-81-43-43-37-43-37-34-81-29-81-43-20-103-43-37-26-75-', '87-43-43-71-34-34-43-43-26-81-43-43-37-43-37-34-81-43-34-43-43-43-43-37-26-75-', '87-43-43-71-34-34-43-43-26-81-43-43-37-43-37-34-81-71-34-43-43-43-43-37-26-75-', '87-43-43-71-34-34-43-43-26-81-43-43-37-43-37-43-37-26-81-', '87-43-43-71-34-34-43-43-26-81-43-43-43-43-43-43-43-43-43-43-', '87-43-43-71-34-34-43-43-26-81-43-43-43-43-43-43-43-43-43-43-43-', '87-43-43-71-34-34-43-43-26-81-43-43-43-43-43-43-43-43-43-43-43-43-', '87-43-43-71-34-34-43-43-26-81-43-43-43-43-43-43-43-43-43-43-43-43-43-', '87-43-43-71-34-34-43-43-26-81-43-43-43-43-43-43-43-43-43-43-43-43-43-43-', '87-43-43-71-34-34-43-43-26-81-43-43-43-71-43-81-43-20-43-37-43-37-43-37-26-81-', '87-43-43-71-34-34-43-43-26-81-43-43-43-81-43-20-43-37-43-37-34-26-87-43-43-37-26-39-', '87-43-43-71-34-34-43-43-26-81-43-43-43-81-43-20-43-37-43-37-34-34-43-37-26-81-43-', '87-43-43-71-34-34-43-43-26-81-43-43-43-81-43-20-43-37-43-37-34-43-87-43-37-26-80-', '87-43-43-71-34-34-43-43-26-81-43-43-43-81-43-20-43-37-43-37-34-49-43-81-43-20-43-26-80-37-43-37-26-90-43-37-43-37-26-71-', '87-43-43-71-34-34-43-43-26-81-43-43-43-81-43-20-43-37-43-37-34-75-43-34-43-43-34-43-43-43-43-37-26-90-', '87-43-43-71-34-34-43-43-26-81-43-43-43-81-43-20-43-37-43-37-34-81-29-81-43-20-103-43-37-26-75-', '87-43-43-71-34-34-43-43-26-81-43-43-43-81-43-20-71-43-37-34-90-43-81-81-37-43-37-26-81-43-43-', '87-43-43-71-34-34-43-43-26-81-43-43-43-81-43-20-71-43-37-43-37-34-34-43-37-26-81-43-', '87-43-43-71-34-34-43-43-26-81-43-43-43-81-43-20-71-43-37-43-37-43-37-26-81-', '87-43-43-71-34-34-43-43-26-81-43-43-43-81-43-20-71-43-43-43-43-43-43-26-81-', '87-43-43-71-34-34-43-43-26-81-43-43-43-81-43-20-94-43-81-43-20-94-43-106-39-', '87-43-43-71-34-34-43-43-26-81-43-43-43-87-43-37-43-37-34-26-87-43-43-37-26-39-', '87-43-43-71-34-34-43-43-26-81-43-43-43-87-43-37-43-37-34-34-43-37-26-81-43-', '87-43-43-71-34-34-43-43-26-81-43-43-81-43-20-43-43-43-43-43-43-43-43-43-43-', '87-43-43-71-34-34-43-43-26-81-43-43-87-43-81-43-20-43-37-43-37-34-26-87-43-43-37-26-39-', '87-43-43-71-34-34-43-43-26-81-43-43-87-43-81-43-20-43-37-43-37-34-81-29-81-43-20-103-43-37-26-75-', '87-43-43-71-34-34-43-43-26-81-43-49-43-34-43-71-37-39-26-75-43-81-81-37-26-80-43-89-43-37-43-34-26-87-43-37-34-26-87-43-43-37-26-90-43-89-', '87-43-43-71-34-34-43-43-26-81-43-81-43-20-43-37-43-37-34-34-43-37-26-81-43-', '87-43-43-71-34-34-43-43-26-81-43-81-43-20-43-43-43-43-43-43-43-43-43-43-43-', '87-43-43-71-34-34-43-43-26-81-43-81-43-20-43-43-43-43-43-43-43-43-43-43-43-43-', '87-43-43-71-34-34-43-43-26-81-43-81-43-20-43-43-43-43-43-43-43-43-43-43-43-43-43-', '87-43-43-71-39-26-39-43-43-34-43-87-43-87-43-37-34-39-43-81-43-20-43-106-80-43-37-43-37-26-75-43-52-26-52-', '87-43-43-71-39-26-39-43-43-37-43-81-71-49-43-37-26-81-43-37-43-37-26-81-43-37-43-37-26-49-43-81-43-20-43-', '87-43-43-71-39-26-39-43-43-43-43-43-43-43-43-43-43-81-43-20-71-43-43-43-43-43-43-43-43-26-81-43-43-52-26-39-', '87-43-43-71-39-26-39-43-43-43-43-43-43-43-71-43-81-43-20-43-37-43-37-34-26-87-43-43-37-26-39-43-43-52-26-39-', '87-43-43-71-39-26-43-43-43-43-43-37-34-52-43-26-81-43-37-43-37-26-80-43-43-26-88-20-', '87-43-43-71-39-26-52-43-43-43-71-43-81-43-20-43-37-34-43-87-43-37-43-37-26-80-43-43-52-26-43-', '87-43-43-71-39-26-75-43-43-43-34-98-43-26-81-43-37-43-37-34-26-87-43-43-37-26-39-43-43-26-88-43-81-43-20-43-', '87-43-43-71-39-26-75-43-43-43-34-98-43-26-81-43-37-43-37-34-26-87-43-43-37-26-39-43-43-26-88-43-81-43-20-87-43-43-', '87-43-43-71-39-26-75-43-43-43-43-43-37-34-52-43-26-81-43-37-34-26-87-43-43-34-26-87-43-37-26-87-43-52-26-26-', '87-43-43-71-39-26-75-43-43-43-43-43-37-34-52-43-26-81-43-37-34-26-87-43-43-34-26-87-43-37-26-87-43-52-26-52-20-', '87-43-43-71-39-26-75-43-43-43-43-43-37-34-71-71-34-52-43-106-34-43-81-43-20-43-43-37-43-37-26-71-43-43-52-26-81-', '87-43-43-71-39-26-75-43-43-43-43-43-37-34-88-43-26-81-37-43-37-26-34-43-37-43-37-26-81-43-43-43-52-26-52-', '87-43-43-71-39-26-75-43-43-43-43-43-37-43-43-43-43-43-43-106-81-94-43-81-43-20-43-106-87-43-43-43-43-43-52-26-81-', '87-43-43-71-39-26-75-43-43-43-43-43-43-43-106-81-43-81-43-20-71-43-37-43-37-34-34-43-37-26-81-43-43-43-52-26-80-', '87-43-43-71-39-26-75-43-43-43-43-43-43-43-106-81-43-81-43-20-94-43-106-87-43-37-26-88-87-43-26-41-43-81-43-20-87-43-43-', '87-43-43-71-39-26-75-43-43-43-43-43-43-43-106-81-43-81-90-37-26-75-43-81-43-20-87-43-43-89-43-43-52-26-81-', '87-43-81-43-20-43-34-43-71-43-43-43-43-43-43-43-43-43-26-81-', '87-43-81-43-20-43-34-43-71-43-43-43-43-43-43-43-43-43-43-', '87-43-81-43-20-43-34-43-71-43-43-43-43-43-43-43-43-43-43-26-81-', '87-43-81-43-20-43-34-43-71-43-43-43-43-43-43-43-43-43-43-43-', '87-43-81-43-20-43-34-75-43-37-43-37-43-37-26-81-43-37-43-37-43-37-26-81-', '87-43-81-43-20-43-43-43-43-43-43-43-43-43-43-43-', '87-43-81-43-20-43-43-43-43-43-43-43-43-43-43-43-43-', '98-43-37-34-81-71-37-26-34-43-43-37-43-37-34-81-87-43-26-81-20-43-37-43-37-26-75-', '98-43-39-26-43-71-34-39-43-81-43-20-43-26-81-43-98-43-49-71-106-34-43-37-34-43-93-43-37-43-37-26-80-']\n",
      "1111101111110101 ['87-37-34-37-71-43-37-34-39-43-37-43-37-26-81-43-43-43-43-43-43-43-43-43-', '87-37-34-39-71-34-26-43-43-43-43-43-43-43-43-43-43-43-43-43-', '87-37-34-39-71-34-26-43-43-43-43-43-43-43-43-43-43-43-43-43-43-', '87-37-34-39-71-43-43-81-43-20-87-43-34-43-71-43-43-43-43-43-43-43-26-81-', '87-37-34-41-71-43-37-43-37-34-81-29-81-43-20-103-43-37-26-75-43-43-43-43-43-43-43-43-43-', '87-37-34-43-71-43-34-75-43-37-43-37-43-37-26-81-43-37-43-37-43-37-26-81-', '87-37-34-43-71-43-34-90-43-43-37-43-37-43-37-26-81-43-37-43-37-43-37-26-81-', '87-37-34-43-71-43-34-90-71-43-37-43-37-43-37-26-81-43-37-43-37-43-37-26-81-', '87-37-34-43-71-43-37-43-37-34-34-43-37-26-81-43-', '87-37-34-43-71-43-43-43-43-43-43-43-43-43-43-43-', '87-37-34-75-71-43-43-43-43-43-26-81-43-43-43-43-43-43-43-43-43-43-', '87-37-34-75-71-43-43-43-43-43-26-81-43-43-43-43-43-43-43-43-43-43-43-', '87-37-34-87-71-43-43-37-43-37-43-37-26-81-43-43-43-43-43-43-43-43-43-43-', '87-37-34-90-71-43-34-43-43-34-43-43-43-43-43-43-43-43-43-43-43-43-43-43-', '87-37-34-90-71-43-37-43-37-43-37-26-81-43-43-43-43-43-43-43-43-43-', '87-37-34-90-71-43-37-43-37-43-37-26-81-43-43-43-43-43-43-43-43-43-43-', '87-37-34-90-71-43-37-43-37-43-37-26-81-43-43-43-43-43-43-43-43-43-43-26-81-', '87-37-34-90-71-43-37-43-37-43-37-26-81-43-43-43-43-43-43-43-43-43-43-43-', '87-37-34-90-71-43-37-43-37-43-37-26-81-43-43-43-43-43-43-43-43-43-43-43-26-81-', '87-37-34-90-71-43-43-43-43-43-43-26-81-43-43-43-43-43-43-43-43-43-43-', '87-37-34-90-71-43-43-43-43-43-43-26-81-43-43-43-43-43-43-43-43-43-43-43-', '87-37-34-98-71-43-34-80-43-43-34-43-43-43-43-81-43-20-87-43-34-98-71-43-81-43-20-87-43-43-37-43-37-43-37-26-81-43-43-43-43-26-88-', '87-37-34-98-71-43-37-34-90-43-37-43-81-52-37-26-81-43-43-43-43-43-43-43-43-43-', '87-37-34-98-71-43-37-34-90-43-37-43-81-52-37-26-81-43-43-43-43-81-43-20-43-', '87-37-34-98-71-43-37-34-90-43-37-43-81-52-37-26-81-43-43-71-43-37-43-37-43-37-26-81-', '87-37-71-34-49-43-43-43-43-43-43-43-43-81-43-20-87-43-81-43-20-43-37-26-98-43-37-43-37-26-81-', '87-37-71-34-75-43-43-43-43-43-43-26-81-43-81-43-20-43-43-26-71-43-43-43-43-26-81-', '87-37-71-34-88-43-81-43-20-43-37-26-81-43-37-43-37-26-81-43-43-81-43-20-43-', '87-37-71-34-88-43-81-43-20-43-37-26-81-43-37-43-37-26-81-43-43-81-43-20-87-43-', '87-37-71-34-88-43-81-43-20-43-43-26-81-43-43-43-43-26-81-43-37-43-37-43-37-26-81-', '87-37-71-34-88-43-81-43-20-43-43-26-81-43-43-43-43-26-81-43-43-43-43-43-43-43-26-81-', '87-37-71-34-88-43-81-43-20-43-43-26-81-43-43-43-43-26-81-43-43-43-43-43-43-43-43-', '87-37-71-34-88-43-81-43-20-43-43-26-81-43-43-43-43-26-81-43-43-43-43-43-43-43-43-43-', '87-37-71-34-90-43-43-37-43-37-43-37-26-81-43-81-43-20-43-37-26-49-43-37-43-37-26-81-', '87-37-71-34-90-43-43-37-43-37-43-37-26-81-43-81-43-20-43-37-34-52-94-26-37-43-37-43-37-26-80-', '87-37-71-34-90-43-43-37-43-37-43-37-26-81-43-81-43-20-43-43-26-49-', '87-37-71-34-98-43-37-34-81-29-81-43-20-103-43-37-43-37-26-75-43-81-43-20-43-37-26-88-43-37-43-37-26-81-', '87-37-71-34-98-43-81-43-20-71-43-26-81-43-43-43-43-43-26-81-43-37-43-37-43-37-26-81-', '87-37-71-39-26-26-43-81-43-20-43-43-26-81-43-43-43-26-34-43-81-43-20-87-43-43-43-43-43-26-34-', '87-37-71-39-26-26-43-81-43-20-43-43-26-81-43-43-43-26-34-43-81-43-20-87-43-43-43-43-43-43-26-81-', '87-37-71-39-26-34-43-81-43-20-71-34-49-43-71-37-71-34-81-43-26-90-106-34-43-43-43-', '87-37-71-39-26-34-43-81-43-20-71-34-49-43-71-37-71-34-81-43-26-90-106-34-43-43-43-43-', '87-37-71-39-26-37-43-81-43-20-71-39-26-34-43-71-37-34-80-94-43-26-90-106-34-43-43-43-43-43-43-43-26-81-43-43-', '87-37-71-39-26-39-43-81-43-20-71-34-37-43-71-37-71-34-81-43-26-90-106-34-43-43-43-43-43-43-43-', '87-37-71-39-26-39-43-81-43-20-71-34-41-43-71-37-34-90-71-34-81-43-26-90-106-34-43-43-43-43-43-', '87-37-71-39-26-39-43-81-43-20-71-34-98-43-71-37-71-34-81-43-26-90-106-34-43-43-43-43-43-43-43-', '87-37-71-39-26-39-43-81-43-20-71-34-98-43-71-37-71-34-81-43-26-90-106-34-43-43-43-43-43-43-43-43-', '87-37-71-39-26-43-43-81-43-20-43-43-26-81-43-43-43-26-34-43-37-26-34-43-43-43-43-43-43-26-81-', '87-37-71-39-26-43-43-81-43-20-43-43-26-81-43-43-43-26-34-43-37-26-34-43-43-43-43-43-43-43-43-', '87-37-71-39-26-43-43-81-43-20-43-43-26-81-43-43-43-26-34-43-37-26-34-43-43-43-43-43-43-43-43-43-', '87-37-71-39-26-43-43-81-43-20-43-43-26-81-43-43-43-26-34-43-37-26-34-43-43-43-43-43-43-43-43-43-43-', '87-37-71-39-26-43-43-81-43-20-43-43-26-81-43-43-43-26-34-43-37-26-34-43-43-43-43-43-43-43-43-43-43-43-', '87-37-71-39-26-43-43-81-43-20-43-43-26-81-43-43-43-26-34-43-37-26-34-43-43-43-43-43-43-43-43-43-43-43-43-', '87-37-71-39-26-43-43-81-43-20-71-34-49-43-26-81-43-43-43-43-43-43-26-81-43-43-', '87-37-71-39-26-43-43-81-43-20-71-34-49-43-26-81-43-43-43-43-43-43-26-81-43-43-43-43-43-', '87-37-71-39-26-49-43-81-43-20-71-39-26-26-43-71-37-34-80-94-43-26-90-106-34-43-43-43-43-43-43-43-43-43-', '87-37-71-39-26-49-43-81-43-20-71-39-26-43-43-71-37-34-80-94-43-26-90-106-34-43-43-43-43-43-26-34-43-43-', '87-37-71-39-26-49-43-81-43-20-71-39-26-52-43-71-37-34-80-94-43-26-90-106-34-43-43-43-43-43-43-26-81-43-43-', '87-37-71-39-26-52-43-81-43-20-43-43-26-81-43-43-43-26-34-43-81-43-20-87-43-43-43-43-43-43-26-34-', '87-37-71-39-26-52-43-81-43-20-71-34-49-43-71-37-71-34-81-43-26-90-106-34-43-43-43-43-43-', '87-37-71-39-26-52-43-81-43-20-71-34-87-43-26-81-43-43-43-43-43-26-81-43-43-43-43-43-43-43-43-', '87-37-71-39-26-52-43-81-43-20-71-34-87-43-26-81-43-43-43-43-43-26-81-43-43-43-43-43-43-43-43-43-', '87-37-71-39-26-52-43-81-43-20-71-43-26-81-34-75-43-37-43-37-43-37-26-81-43-43-43-', '87-37-71-39-26-52-43-81-43-20-71-43-26-81-34-75-43-37-43-37-43-37-26-81-43-43-43-43-43-', '87-37-71-39-26-75-43-81-43-20-71-34-41-43-71-37-34-80-94-43-26-90-106-34-43-43-43-43-43-43-43-', '87-37-71-39-26-75-43-81-43-20-71-34-41-43-71-37-34-90-71-34-81-43-26-90-106-34-43-43-43-43-43-', '87-37-71-39-26-75-43-81-43-20-71-34-41-43-71-37-34-90-71-34-81-43-26-90-106-34-43-71-43-43-43-', '87-37-71-39-26-80-43-81-43-20-71-34-37-43-71-37-71-34-81-43-26-90-106-34-43-43-43-43-43-43-', '87-37-71-39-26-80-43-81-43-20-71-34-37-43-71-37-71-34-81-43-26-90-106-34-43-43-43-43-43-43-43-', '87-37-71-39-26-80-43-81-43-20-71-34-49-43-71-37-71-34-81-43-26-90-106-34-43-43-43-43-', '87-37-71-39-26-80-43-81-43-20-71-34-49-43-71-37-71-34-81-43-26-90-106-34-43-43-43-43-43-', '87-37-71-39-26-80-43-81-43-20-71-34-49-43-71-37-71-34-81-43-26-90-106-34-43-43-43-43-43-43-', '87-37-71-39-26-80-43-81-43-20-71-34-49-43-71-37-71-34-81-43-26-90-106-34-43-43-43-43-81-43-20-43-', '87-37-71-39-26-80-43-81-43-20-71-34-88-43-71-37-71-34-81-43-26-90-106-34-43-43-43-43-43-43-', '87-37-71-39-26-80-43-81-43-20-71-34-88-43-71-37-71-34-81-43-26-90-106-34-43-43-43-43-43-43-43-', '87-37-71-39-26-80-43-81-43-20-71-34-88-43-71-37-71-34-81-43-26-90-106-34-43-43-43-43-43-43-43-43-', '87-37-71-39-26-80-43-81-43-20-71-34-98-43-71-37-71-34-81-43-26-90-106-34-43-43-43-43-43-43-43-43-', '87-37-71-39-26-87-43-81-43-20-71-34-41-43-71-37-34-90-71-34-81-43-26-90-106-34-43-43-43-43-43-43-', '87-37-71-39-26-87-43-81-43-20-71-34-41-43-71-37-34-90-71-34-81-43-26-90-106-34-43-43-43-43-43-43-43-43-', '87-37-71-39-26-87-43-81-43-20-71-39-26-43-43-71-37-34-80-94-43-26-90-106-34-43-43-43-43-43-43-43-43-', '87-37-71-43-81-43-20-71-43-26-81-34-75-43-37-43-37-43-37-26-81-43-37-43-37-43-37-26-81-', '87-37-71-43-81-43-20-71-43-26-81-43-43-43-43-43-26-81-', '87-37-71-43-81-43-20-71-43-26-81-43-43-43-43-43-43-26-81-', '87-37-71-43-81-43-20-71-43-26-81-43-43-43-43-43-43-43-43-', '87-37-71-43-81-43-20-71-43-26-81-43-43-43-43-43-43-43-43-43-', '87-37-71-43-81-43-20-71-43-81-43-20-43-26-39-34-26-43-43-43-43-', '87-37-71-43-81-43-20-71-43-81-43-20-43-26-39-34-52-43-43-43-43-43-', '87-39-26-26-43-37-34-75-43-37-43-37-43-37-26-81-43-37-43-37-26-71-43-43-81-43-20-87-', '87-39-26-26-43-37-43-37-34-75-43-34-43-43-34-43-43-43-43-37-26-90-43-43-87-43-81-43-20-43-', '87-39-26-34-43-37-43-37-34-87-43-43-43-26-34-37-43-37-26-75-43-37-26-71-43-81-43-20-43-', '87-39-26-34-43-81-43-20-43-34-75-43-43-43-43-43-26-81-20-43-43-43-43-26-71-43-43-', '87-39-26-34-43-81-43-20-43-43-43-43-43-43-43-43-43-43-81-43-20-87-43-43-43-43-', '87-39-26-39-43-37-34-26-87-43-43-37-34-80-43-37-26-39-87-43-43-81-43-20-87-43-43-43-', '87-39-26-39-43-81-43-20-43-34-75-43-37-43-37-43-37-26-81-43-37-43-37-43-37-26-81-43-43-', '87-39-26-43-43-37-43-37-34-39-43-43-43-81-43-20-43-43-37-26-87-43-', '87-39-26-43-43-37-43-37-34-39-43-43-43-81-43-20-43-43-37-26-87-43-81-43-20-43-', '87-39-26-43-43-37-43-37-34-39-71-43-81-43-20-43-43-43-37-26-87-43-', '87-39-26-52-43-37-43-37-34-90-43-34-26-43-43-34-43-43-43-43-37-26-87-43-43-87-43-81-43-20-43-', '87-39-26-52-43-37-43-37-34-90-43-34-43-71-43-81-43-20-87-43-37-26-87-43-', '87-39-26-52-43-81-43-20-43-43-43-43-43-43-43-43-43-81-43-20-87-43-43-43-43-', '87-39-26-71-43-37-43-34-98-43-43-37-34-43-87-43-81-43-20-94-43-106-75-87-37-43-37-26-88-87-43-43-', '87-39-26-75-43-81-43-20-43-34-75-43-37-43-37-43-37-26-81-43-37-43-37-43-37-26-81-43-43-', '87-39-26-75-43-81-43-20-43-34-90-43-43-37-43-37-43-37-26-81-43-43-81-43-20-87-43-43-43-43-', '87-39-26-80-43-37-34-26-87-43-43-37-34-80-43-37-26-39-87-43-43-81-43-20-87-43-43-', '87-39-26-80-43-37-34-81-29-81-43-20-103-43-37-34-81-29-81-43-20-103-43-37-26-71-43-37-43-37-43-37-26-81-', '87-39-26-80-43-37-34-81-29-81-43-20-103-43-37-34-81-29-81-43-20-103-43-37-26-71-43-43-', '87-39-26-80-43-37-43-34-49-43-34-43-71-37-34-43-87-43-37-26-39-37-43-37-26-71-43-', '87-39-26-80-43-37-43-34-49-43-43-43-43-26-81-37-43-37-26-90-87-43-81-43-20-43-43-', '87-39-26-80-43-37-43-34-71-43-43-43-43-26-81-37-43-37-26-90-43-43-43-43-26-49-43-81-43-20-43-', '87-39-26-80-43-37-43-34-87-43-43-43-43-26-81-37-43-26-75-37-43-37-26-71-87-43-43-', '87-39-26-80-43-37-43-34-90-43-43-37-43-37-43-37-26-81-37-43-34-43-71-37-26-49-43-', '87-39-26-80-43-37-43-37-34-49-43-81-43-20-43-26-81-37-43-37-26-90-43-37-43-37-26-71-43-', '87-39-26-80-43-37-43-37-34-71-43-37-43-37-34-43-71-43-37-26-80-43-37-26-49-43-', '87-39-26-80-43-81-43-20-43-34-75-43-37-43-37-43-37-26-81-43-81-43-20-87-43-43-43-43-', '87-39-26-80-43-81-43-20-43-34-75-43-43-43-43-43-43-26-81-43-43-43-43-43-26-87-43-43-', '87-39-26-80-43-81-43-20-43-43-43-43-43-43-43-43-43-43-43-43-43-81-43-20-87-43-43-', '87-39-26-81-43-81-43-20-43-34-75-43-37-43-37-43-37-26-81-43-81-43-20-87-43-43-', '87-39-26-81-43-81-43-20-43-43-34-90-43-26-26-43-37-34-43-43-43-34-43-43-43-43-43-43-87-43-43-', '87-39-26-81-43-81-43-20-43-43-43-43-43-43-43-43-43-43-43-43-81-43-20-87-43-43-', '87-39-26-81-43-81-43-20-43-43-43-43-43-43-43-43-43-43-43-81-43-20-87-43-43-43-43-', '87-39-26-87-43-37-43-37-34-41-43-34-75-43-37-43-37-43-37-26-81-43-81-43-20-87-43-37-26-98-43-', '87-39-26-90-43-81-43-20-43-34-75-43-37-43-37-43-37-26-81-43-81-43-20-43-81-43-20-87-43-43-43-', '87-43-34-37-43-34-43-87-43-34-43-87-43-26-80-87-43-43-', '87-43-34-37-43-34-75-43-37-43-37-43-37-26-81-43-87-43-37-43-37-43-37-26-81-', '87-43-34-37-43-34-75-43-37-43-37-43-37-26-81-43-87-43-87-43-37-43-37-43-37-26-81-', '87-43-34-37-43-34-75-43-37-43-37-43-37-26-81-43-89-43-81-43-20-43-37-43-37-43-37-26-81-', '87-43-34-37-43-34-75-43-37-43-37-43-37-26-81-43-89-43-81-43-20-71-43-37-43-37-43-37-26-81-', '87-43-34-37-43-34-75-43-37-43-37-43-37-26-81-43-89-43-81-43-20-87-43-', '87-43-34-37-43-43-43-43-34-52-43-26-34-43-43-26-81-43-', '87-43-34-39-43-43-43-43-43-26-81-43-34-43-87-43-37-43-37-43-37-26-81-', '87-43-34-39-43-43-43-43-43-26-81-43-43-43-43-43-43-43-43-43-', '87-43-34-39-43-43-43-43-43-26-81-43-43-81-43-20-87-43-43-', '87-43-34-39-43-43-43-43-43-26-81-43-43-81-43-20-87-43-43-43-43-43-43-43-43-', '87-43-34-39-43-43-43-43-43-26-81-43-43-81-43-20-87-43-43-43-43-43-43-43-43-43-', '87-43-34-39-43-43-43-43-43-26-81-43-43-81-43-20-87-43-43-43-43-43-43-43-43-43-43-', '87-43-34-39-43-43-43-43-43-26-81-43-81-43-20-87-43-43-43-43-43-43-43-', '87-43-34-39-43-43-43-43-43-26-81-43-81-43-20-87-43-43-43-43-43-43-43-43-', '87-43-34-39-43-43-43-43-43-26-81-43-81-43-20-87-43-43-43-43-43-43-43-43-43-', '87-43-34-41-43-34-75-43-37-43-37-43-37-26-81-43-81-43-20-87-34-75-43-37-43-37-43-37-26-81-43-37-43-37-43-37-26-81-', '87-43-34-41-43-34-75-43-37-43-37-43-37-26-81-43-81-43-20-87-43-37-43-37-43-37-26-81-', '87-43-34-41-43-43-43-43-43-26-81-43-43-26-39-34-43-43-43-34-43-43-43-', '87-43-34-41-43-43-43-43-43-26-81-43-43-26-39-43-81-43-20-71-43-81-43-20-71-43-43-43-43-43-43-26-81-', '87-43-34-41-43-43-43-43-43-43-43-43-43-43-81-43-20-87-43-34-43-43-43-', '87-43-34-41-43-43-43-81-43-20-71-43-43-37-43-37-43-37-26-81-43-43-43-43-52-26-43-', '87-43-34-49-43-34-43-87-43-34-43-87-43-26-80-20-43-34-43-87-43-', '87-43-34-49-43-34-43-87-43-34-43-87-43-26-80-20-43-37-43-37-43-37-26-81-', '87-43-34-49-43-34-43-87-43-37-43-37-43-37-26-81-34-75-43-37-43-37-43-37-26-81-43-', '87-43-34-49-43-34-43-87-43-37-43-37-43-37-26-81-34-75-43-37-43-37-43-37-26-81-43-37-43-37-43-37-26-81-', '87-43-34-71-43-43-43-43-34-34-43-43-26-80-43-43-43-43-43-43-43-43-43-', '87-43-34-75-43-34-43-43-34-43-43-43-34-75-43-34-43-43-34-43-43-43-43-81-43-20-87-', '87-43-34-75-43-34-43-43-34-43-43-43-34-75-43-37-43-37-43-37-26-81-43-37-43-37-43-37-26-81-', '87-43-34-75-43-34-43-43-34-43-43-43-43-43-43-43-43-43-43-43-', '87-43-34-75-43-34-43-43-34-43-43-43-43-43-43-43-43-43-43-43-43-', '87-43-34-75-43-37-43-37-43-37-26-81-34-75-43-37-43-37-43-37-26-81-43-81-43-20-43-37-52-26-43-43-37-43-37-26-81-', '87-43-34-75-43-37-43-37-43-37-26-81-34-75-43-37-43-37-43-37-26-81-43-81-43-20-71-34-34-43-26-41-20-43-37-43-37-43-37-26-81-', '87-43-34-75-43-37-43-37-43-37-26-81-34-75-43-37-43-37-43-37-26-81-43-81-43-20-71-34-43-43-43-', '87-43-34-75-43-37-43-37-43-37-26-81-34-75-43-37-43-37-43-37-26-81-43-81-43-20-71-34-43-71-43-52-26-26-20-', '87-43-34-75-43-37-43-37-43-37-26-81-34-75-43-37-43-37-43-37-26-81-43-81-43-20-71-34-43-87-43-52-26-26-20-', '87-43-34-75-43-37-43-37-43-37-26-81-34-75-43-37-43-37-43-37-26-81-43-81-43-20-71-34-75-43-81-43-20-43-52-26-26-43-', '87-43-34-75-43-37-43-37-43-37-26-81-34-75-43-37-43-37-43-37-26-81-43-81-43-20-71-34-81-71-34-43-43-43-43-52-26-26-20-', '87-43-34-75-43-37-43-37-43-37-26-81-34-75-43-37-43-37-43-37-26-81-43-81-43-20-71-34-81-71-34-43-43-43-43-52-26-34-20-', '87-43-34-75-43-37-43-37-43-37-26-81-34-75-43-37-43-37-43-37-26-81-43-81-43-20-71-34-81-71-34-43-43-43-43-52-26-52-20-', '87-43-34-75-43-37-43-37-43-37-26-81-34-75-43-37-43-37-43-37-26-81-43-81-43-20-71-43-26-41-20-', '87-43-34-75-43-37-43-37-43-37-26-81-43-81-43-20-71-43-37-43-37-34-34-43-37-26-81-43-', '87-43-34-75-43-37-43-37-43-37-26-81-43-81-43-20-71-43-37-43-37-43-37-26-81-', '87-43-34-75-43-37-43-37-43-37-26-81-43-81-43-20-71-43-37-43-81-81-37-43-37-26-81-43-', '87-43-34-75-43-37-43-37-43-37-26-81-43-81-43-20-71-43-37-43-81-81-37-43-37-26-81-43-37-43-37-26-75-', '87-43-34-75-43-43-43-43-43-43-26-81-43-43-43-43-43-43-43-26-81-', '87-43-34-75-43-43-43-43-43-43-26-81-43-43-43-43-43-43-43-43-', '87-43-34-75-43-43-43-43-43-43-26-81-43-43-43-43-43-43-43-43-26-81-', '87-43-34-75-43-43-43-43-43-43-26-81-43-43-43-43-43-43-43-43-43-', '87-43-34-75-43-43-43-43-43-43-26-81-43-43-43-43-43-43-43-43-43-26-81-', '87-43-34-75-43-43-43-43-43-43-26-81-43-43-43-43-43-43-43-43-43-43-', '87-43-34-80-43-43-43-43-26-34-43-34-43-87-43-37-43-37-43-37-26-81-', '87-43-34-80-43-43-43-43-26-34-43-34-75-43-37-43-37-43-37-26-81-43-81-43-20-87-', '87-43-34-80-43-43-43-43-26-34-43-34-75-43-37-43-37-43-37-26-81-43-81-43-20-87-43-', '87-43-34-80-43-43-43-43-26-34-43-43-43-43-43-43-43-43-', '87-43-34-80-43-43-43-43-26-34-43-43-43-43-43-43-43-43-43-', '87-43-34-80-43-43-43-43-26-34-43-43-43-43-43-43-43-43-43-43-', '87-43-34-80-43-43-43-43-26-34-43-43-43-43-43-43-43-43-43-43-43-', '87-43-34-80-43-43-43-43-26-34-43-81-43-20-87-43-43-43-43-43-43-26-81-', '87-43-34-80-43-43-43-43-26-34-43-81-43-20-87-43-43-43-43-43-43-43-43-43-', '87-43-34-80-43-43-43-43-26-34-43-87-43-37-43-37-43-37-26-81-', '87-43-34-80-43-43-43-43-26-81-43-34-43-87-43-37-43-37-43-37-26-81-', '87-43-34-80-43-43-43-43-26-81-43-43-43-43-43-43-43-43-43-', '87-43-34-80-43-43-43-43-26-81-43-87-43-37-43-37-34-34-43-37-26-81-43-', '87-43-34-80-43-43-43-43-26-81-43-87-43-81-43-20-43-43-43-43-43-43-43-43-43-', '87-43-34-80-43-43-43-43-26-81-43-87-43-81-43-20-43-43-43-43-43-43-43-43-43-43-', '87-43-34-80-87-43-43-26-34-43-43-43-43-43-43-43-43-43-43-', '87-43-34-81-43-34-43-43-43-43-43-43-43-43-43-', '87-43-34-81-43-43-43-26-34-43-87-43-81-43-20-43-43-43-43-43-43-43-43-43-43-43-43-', '87-43-34-81-87-43-43-26-34-43-43-43-34-34-43-43-26-75-43-', '87-43-34-81-87-43-43-26-34-43-43-43-34-34-43-43-26-75-43-43-43-43-43-26-39-', '87-43-34-81-87-43-43-26-34-43-43-43-37-43-37-43-37-26-81-', '87-43-34-81-87-43-43-26-34-43-43-43-43-43-43-43-43-43-', '87-43-34-81-87-43-43-26-34-43-43-43-43-43-43-43-43-43-43-', '87-43-34-88-43-37-34-34-43-26-34-20-43-37-43-37-26-39-43-37-43-37-43-37-26-81-', '87-43-34-90-43-34-43-87-43-81-43-20-87-43-81-43-20-87-', '87-43-34-90-43-34-43-87-43-81-43-20-87-43-81-43-20-87-43-43-', '87-43-34-90-43-43-37-43-37-43-37-26-81-34-75-43-37-43-37-43-37-26-81-43-81-43-20-87-43-', '87-43-34-90-43-43-37-43-37-43-37-26-81-43-37-43-37-43-37-26-81-', '87-43-34-90-43-43-37-43-37-43-37-26-81-43-43-37-43-37-43-37-26-81-', '87-43-34-90-43-43-37-43-37-43-37-26-81-43-43-81-43-20-87-', '87-43-34-90-43-43-37-43-37-43-37-26-81-43-43-81-43-20-87-43-43-', '87-43-34-90-43-43-37-43-37-43-37-26-81-43-81-43-20-87-43-43-', '87-43-34-90-43-43-43-43-43-43-43-43-43-43-', '87-43-34-98-43-37-34-81-71-43-26-34-20-43-37-43-37-26-75-43-43-81-43-20-43-37-43-37-34-26-87-43-43-37-26-39-', '87-43-34-98-43-37-43-37-34-81-29-81-43-20-103-43-37-26-75-43-81-43-20-87-', '87-43-34-98-43-43-34-43-87-43-34-43-87-43-81-43-20-87-43-43-43-43-26-37-', '87-43-34-98-43-43-43-34-43-87-34-34-43-43-26-80-43-26-39-43-81-43-20-87-43-43-', '87-43-34-98-43-43-43-34-43-87-43-43-26-80-34-43-43-43-43-43-43-43-43-26-49-', '87-43-34-98-43-43-43-43-34-34-43-26-81-20-34-43-43-43-34-43-43-43-', '87-43-34-98-43-43-43-43-43-34-52-43-26-81-43-43-26-80-43-43-43-43-43-43-43-43-43-43-', '87-43-34-98-43-43-43-81-43-20-71-43-37-43-37-43-37-26-81-43-37-43-37-43-37-26-81-', '87-43-37-34-34-87-43-26-34-43-37-43-81-52-37-26-39-43-87-43-81-43-20-43-37-43-37-34-26-87-43-43-37-26-39-', '87-43-37-34-34-87-43-26-34-43-37-43-81-52-37-26-39-43-87-43-81-43-20-71-43-37-43-37-34-26-87-43-43-37-26-39-', '87-43-37-34-34-87-43-26-34-43-37-43-81-52-37-26-39-48-37-34-80-47-43-81-43-20-87-48-81-43-20-87-', '87-43-37-34-34-87-43-26-34-43-37-43-81-52-37-26-39-48-37-34-80-84-43-81-43-20-43-48-81-43-20-87-43-', '87-43-37-34-34-87-43-26-34-43-37-43-81-52-37-26-39-48-37-34-80-84-43-81-43-20-43-48-81-43-20-87-43-43-', '87-43-37-34-34-87-43-26-34-43-37-43-81-52-37-26-39-48-37-34-81-76-81-43-20-103-48-', '87-43-37-34-34-87-43-26-34-43-37-43-81-52-37-26-39-48-37-48-81-43-20-43-', '87-43-37-34-34-87-43-26-34-43-37-43-81-52-37-26-39-48-37-48-81-43-20-43-37-43-37-34-26-87-43-43-37-26-39-', '87-43-37-34-37-43-34-43-87-37-43-34-43-87-37-26-39-43-43-81-43-20-43-26-49-20-', '87-43-37-34-37-43-37-34-81-29-81-43-20-103-43-37-26-75-43-', '87-43-37-34-37-43-37-34-81-29-81-43-20-103-43-37-26-75-43-37-26-71-', '87-43-37-34-37-43-37-34-81-29-81-43-20-103-43-37-26-75-43-81-43-20-43-', '87-43-37-34-41-43-34-43-87-37-34-26-87-43-43-34-43-87-37-26-90-43-81-43-20-43-37-26-88-43-37-43-37-43-37-26-81-', '87-43-37-34-41-43-34-75-43-37-43-37-43-37-26-81-37-43-26-71-20-43-37-43-34-26-87-43-37-52-26-43-', '87-43-37-34-41-43-34-75-43-37-43-37-43-37-26-81-37-43-26-71-20-43-37-43-37-26-98-', '87-43-37-34-41-43-37-34-75-43-34-43-43-34-43-43-43-43-37-26-90-43-', '87-43-37-34-41-43-81-43-20-43-37-26-80-43-37-43-37-43-37-26-81-43-37-43-34-26-87-43-37-52-26-43-', '87-43-37-34-41-43-81-43-20-43-37-26-80-43-37-43-37-43-37-26-81-43-37-43-37-26-98-', '87-43-37-34-49-43-34-43-87-37-43-34-43-71-37-26-39-43-81-43-20-87-', '87-43-37-34-49-43-34-43-87-37-43-34-43-87-37-26-39-43-37-43-26-71-20-', '87-43-37-34-49-43-81-75-37-26-34-29-81-43-20-103-43-43-37-34-81-29-81-43-20-103-43-37-26-88-', '87-43-37-34-49-43-81-75-37-26-34-29-81-43-20-103-43-43-37-43-81-52-37-26-71-43-', '87-43-37-34-75-43-34-43-43-34-43-43-43-43-37-34-43-87-43-37-26-87-43-34-43-43-34-43-43-43-', '87-43-37-34-75-43-34-43-43-34-43-43-43-43-37-34-49-43-37-26-90-43-34-43-43-34-43-43-43-43-34-43-87-34-75-43-37-43-37-43-37-26-81-43-37-43-37-43-37-26-81-', '87-43-37-34-75-43-34-43-43-34-43-43-43-43-37-34-49-43-37-26-90-43-34-43-43-34-43-43-43-43-81-43-20-43-34-43-87-43-34-43-87-43-34-43-87-43-34-43-87-43-81-43-20-43-43-52-26-43-20-', '87-43-37-34-75-43-34-43-43-34-43-43-43-43-37-34-49-43-37-26-90-43-34-43-43-34-43-43-43-43-81-43-20-43-43-', '87-43-37-34-75-43-34-43-43-34-43-43-43-43-37-34-49-43-37-26-90-43-34-43-43-34-43-43-43-43-81-43-20-43-43-43-43-43-43-43-43-', '87-43-37-34-75-43-34-43-43-34-43-43-43-43-37-34-49-43-37-26-90-43-34-43-43-34-43-43-43-43-81-43-20-43-43-43-81-43-20-71-34-87-43-81-43-20-43-106-39-43-26-87-43-', '87-43-37-34-75-43-34-43-43-34-43-43-43-43-37-34-49-43-37-26-90-43-34-43-43-34-43-43-43-43-81-43-20-43-43-43-81-43-20-71-34-87-43-81-43-20-43-43-43-26-75-20-43-', '87-43-37-34-75-43-34-43-43-34-43-43-43-43-37-34-49-43-37-26-90-43-34-43-43-34-43-43-43-43-81-43-20-43-43-43-81-43-20-71-39-26-52-43-81-43-20-43-37-34-52-71-26-39-43-37-43-34-43-46-37-26-39-', '87-43-37-34-75-43-34-43-43-34-43-43-43-43-37-34-49-43-37-26-90-43-34-43-43-34-43-43-43-43-81-43-20-87-43-43-', '87-43-37-34-75-43-34-43-43-34-43-43-43-43-37-34-49-43-37-26-90-43-34-43-43-34-43-43-43-43-87-43-81-34-37-71-106-34-43-81-43-20-87-43-', '87-43-37-34-75-43-34-43-43-34-43-43-43-43-37-34-49-43-37-26-90-43-34-43-43-34-43-43-43-43-87-43-81-43-20-43-', '87-43-37-34-75-43-34-43-43-34-43-43-43-43-37-34-81-29-81-43-20-103-43-81-43-20-43-26-37-20-', '87-43-37-34-80-43-37-43-37-26-81-43-81-43-20-71-43-', '87-43-37-34-81-29-81-43-20-103-43-37-34-81-29-81-43-20-103-43-37-26-71-', '87-43-37-34-88-43-37-34-34-43-26-81-20-43-37-43-37-26-39-43-37-34-43-71-43-37-26-88-', '87-43-37-34-88-43-37-34-34-43-26-81-20-43-37-43-37-26-39-43-37-43-34-43-87-37-26-88-', '87-43-37-34-90-43-34-43-87-34-26-43-43-43-43-37-43-37-26-87-', '87-43-37-34-90-43-34-43-87-43-81-43-20-43-43-37-43-26-87-20-', '87-43-37-34-90-43-37-34-34-43-37-26-81-43-43-81-43-20-43-37-26-71-43-37-43-37-43-37-26-81-', '87-43-37-34-90-43-37-43-34-43-87-37-26-80-43-81-43-20-43-', '87-43-37-34-90-43-37-43-34-43-87-37-26-80-43-81-43-20-71-', '87-43-37-34-90-43-37-43-34-43-87-37-26-80-43-81-43-20-71-43-26-87-20-', '87-43-37-34-90-43-37-43-34-43-87-37-26-80-43-81-43-20-87-43-26-87-20-', '87-43-37-34-90-43-37-43-81-52-37-26-81-43-43-81-43-20-43-37-26-71-43-37-43-37-43-37-26-81-', '87-43-37-34-90-43-81-81-37-43-26-81-20-43-43-37-43-34-26-87-43-37-26-49-', '87-43-37-34-90-43-81-81-37-43-26-81-20-43-43-37-43-34-43-87-37-26-71-', '87-43-37-34-98-43-81-43-20-43-37-26-80-43-37-43-37-26-81-43-43-81-43-20-43-43-43-26-88-20-', '87-43-37-34-98-43-81-43-20-43-37-26-80-43-37-43-37-26-81-43-43-81-80-37-43-37-26-88-43-43-', '87-43-37-39-26-43-43-34-26-87-43-37-34-26-87-43-43-34-43-87-37-26-87-43-81-43-20-43-37-26-98-43-37-43-34-26-87-43-37-34-26-87-43-43-37-26-90-', '87-43-37-39-26-43-43-34-26-87-43-37-43-34-81-87-43-37-26-34-37-26-87-43-81-43-20-43-37-26-98-43-37-43-37-43-37-26-81-', '87-43-37-39-26-43-43-34-43-87-37-34-26-87-43-43-34-26-87-43-37-26-87-43-81-43-20-43-37-26-98-43-37-43-37-43-37-26-81-', '87-43-37-39-26-43-43-37-34-49-43-81-75-37-26-81-43-81-43-20-87-43-43-43-81-43-20-43-37-26-98-43-37-43-37-34-26-87-43-43-37-26-39-', '87-43-37-39-26-43-43-37-34-75-43-34-43-43-34-43-43-43-43-37-26-90-43-43-81-43-20-43-26-88-43-43-43-43-43-43-43-43-43-43-', '87-43-37-39-26-43-43-37-34-90-43-34-43-43-34-43-43-43-37-26-75-43-81-43-20-43-37-26-37-43-37-43-37-43-37-26-81-', '87-43-37-39-26-43-43-37-34-90-43-34-43-43-34-43-43-43-37-26-75-43-81-43-20-43-43-26-49-', '87-43-37-39-26-43-43-37-34-90-43-81-81-37-43-37-26-81-43-43-26-90-20-43-37-43-37-26-88-', '87-43-37-39-26-43-43-81-43-20-43-37-26-80-43-37-43-81-52-37-26-81-43-43-37-43-37-26-88-', '87-43-37-39-26-43-43-81-43-20-43-37-26-80-43-37-43-81-52-37-26-81-43-43-37-43-81-52-37-26-88-43-81-43-20-87-', '87-43-37-39-26-43-43-81-43-20-71-43-26-81-43-43-37-43-37-43-37-26-81-43-87-43-37-43-106-34-', '87-43-37-43-34-41-43-34-49-43-37-43-37-34-26-87-43-43-37-26-39-43-37-34-34-87-43-43-37-43-37-52-26-52-87-43-52-26-80-', '87-43-37-43-34-75-43-34-43-43-34-43-43-43-37-43-37-26-90-43-81-43-20-87-43-', '87-43-37-43-37-34-34-43-37-26-81-43-81-43-20-71-43-81-43-20-43-26-90-20-', '87-43-37-43-37-34-34-43-37-26-81-43-81-43-20-87-', '87-43-37-43-37-34-34-43-37-26-81-43-81-43-20-87-43-', '87-43-37-43-37-34-90-43-43-37-43-37-43-37-26-81-43-37-26-49-', '87-43-37-43-37-39-26-34-43-34-41-43-37-43-37-34-80-87-43-81-43-20-43-43-37-26-90-43-43-37-52-26-26-', '87-43-37-43-39-26-43-43-34-90-43-43-37-43-37-43-37-26-81-43-81-43-20-87-37-43-37-26-41-87-43-52-26-52-', '87-43-37-43-39-26-52-43-34-75-43-37-43-37-43-37-26-81-43-37-43-37-43-37-26-81-37-43-37-52-26-26-87-43-52-26-81-', '87-43-39-26-26-43-34-75-43-37-43-37-43-37-26-81-43-81-43-20-87-43-43-43-37-43-37-43-37-26-81-', '87-43-39-26-26-43-43-34-43-87-43-34-43-87-43-34-43-87-43-26-75-87-43-43-', '87-43-39-26-26-43-43-43-34-75-43-43-43-43-43-43-26-81-43-43-26-71-20-43-43-43-43-43-52-26-43-', '87-43-39-26-34-43-34-43-87-43-34-43-87-43-34-80-87-43-26-75-43-87-43-87-43-87-43-26-41-20-', '87-43-39-26-43-43-34-43-87-43-34-43-87-43-34-43-87-43-26-75-87-43-43-', '87-43-39-26-43-43-34-43-87-43-34-43-87-43-34-43-87-43-26-75-87-43-43-87-', '87-43-39-26-43-43-34-75-43-37-43-37-43-37-26-81-43-81-43-20-71-43-43-37-43-37-43-37-26-81-', '87-43-39-26-43-43-34-75-43-37-43-37-43-37-26-81-43-81-43-20-87-43-43-37-43-37-43-37-26-81-', '87-43-39-26-43-43-34-75-43-37-43-37-43-37-26-81-43-81-43-20-87-43-43-43-37-43-37-43-37-26-81-', '87-43-39-26-52-43-34-75-43-37-43-37-43-37-26-81-43-37-43-37-43-37-26-81-43-34-43-87-43-34-43-87-43-87-', '87-43-39-26-52-43-34-75-43-37-43-37-43-37-26-81-43-37-43-37-43-37-26-81-43-87-43-52-26-43-34-43-43-43-', '87-43-39-26-80-43-34-43-87-34-75-43-37-43-37-43-37-26-81-43-37-43-37-43-37-26-81-43-34-43-87-43-34-43-87-43-87-', '87-43-39-26-80-43-34-43-87-43-34-43-87-43-34-80-87-43-26-75-43-87-43-37-43-37-26-37-71-43-34-43-87-43-87-', '87-43-39-26-80-43-34-43-87-43-34-43-87-43-34-80-87-43-26-75-43-87-43-37-43-37-26-37-71-43-34-80-87-43-81-43-20-43-43-34-43-87-43-87-', '87-43-39-26-80-43-34-43-87-43-34-43-87-43-34-80-87-43-26-75-43-87-43-37-43-37-26-37-87-43-', '87-43-43-34-75-43-34-43-43-34-43-43-43-43-43-43-43-26-90-43-43-43-43-26-49-', '87-43-43-34-75-43-37-43-37-43-37-26-81-34-75-43-37-43-37-43-37-26-81-43-81-43-20-71-34-81-43-52-26-43-20-43-', '87-43-43-34-75-43-37-43-37-43-37-26-81-34-75-43-37-43-37-43-37-26-81-43-81-43-20-71-43-52-26-43-20-', '87-43-43-34-75-43-37-43-37-43-37-26-81-43-81-43-20-71-43-26-49-20-', '87-43-43-34-75-43-43-43-43-43-43-26-81-34-75-43-37-43-37-43-37-26-81-43-81-43-20-87-', '87-43-43-34-75-43-43-43-43-43-43-26-81-34-75-43-37-43-37-43-37-26-81-43-81-43-20-87-43-', '87-43-43-34-75-43-43-43-43-43-43-26-81-43-43-43-43-26-71-', '87-43-43-34-75-43-43-43-43-43-43-26-81-43-43-43-43-43-26-49-', '87-43-43-34-75-43-43-43-43-43-43-26-81-43-43-43-43-43-43-26-37-', '87-43-43-34-75-43-43-43-43-43-43-26-81-43-43-43-43-43-43-43-26-81-', '87-43-43-34-75-87-43-26-34-34-43-43-43-43-34-41-87-43-26-75-43-87-43-34-80-87-43-26-37-87-43-43-43-', '87-43-43-34-75-87-43-26-34-34-43-43-43-43-34-41-87-43-26-75-43-87-43-43-37-43-37-43-37-26-81-43-43-37-43-37-43-37-26-81-', '87-43-43-34-75-87-43-26-34-34-43-43-43-43-34-41-87-43-26-75-43-87-43-43-37-43-37-43-37-26-81-43-43-43-43-', '87-43-43-34-75-87-43-26-34-34-43-43-43-43-34-41-87-43-26-75-43-87-43-43-37-43-37-43-37-26-81-43-43-43-43-43-43-52-26-43-', '87-43-43-34-75-87-43-26-34-34-43-43-43-43-34-41-87-43-26-75-43-87-43-43-37-43-37-43-37-26-81-43-43-43-43-43-52-26-43-', '87-43-43-34-75-87-43-26-34-34-43-43-43-43-34-41-87-43-87-43-34-80-87-43-26-49-26-34-34-43-43-43-43-87-43-81-43-20-43-37-43-37-43-37-26-81-', '87-43-43-34-75-87-43-26-34-34-43-43-43-43-34-41-87-43-87-43-34-80-87-43-26-49-26-34-34-43-43-43-43-87-43-81-43-20-43-43-43-', '87-43-43-34-75-87-43-26-34-34-43-43-43-43-34-41-87-43-87-43-34-80-87-43-26-49-26-34-34-43-43-43-43-87-43-81-43-20-43-43-43-37-43-37-43-37-26-81-', '87-43-43-34-75-87-43-26-34-34-43-43-43-43-34-43-87-43-34-43-87-43-26-87-43-87-', '87-43-43-34-75-87-43-26-34-34-43-43-43-43-34-80-87-43-26-75-43-87-43-87-43-34-43-71-37-34-52-71-106-81-43-89-', '87-43-43-34-75-87-43-26-34-34-43-43-43-43-34-80-87-43-26-75-43-87-71-43-37-34-34-71-37-26-34-43-37-43-37-26-39-', '87-43-43-34-75-87-43-26-34-34-43-43-43-43-34-80-87-43-26-75-43-87-71-43-37-34-90-43-81-43-20-94-43-26-80-20-43-', '87-43-43-34-75-87-43-26-34-34-43-43-43-43-34-80-87-43-26-75-43-87-71-43-81-43-20-94-43-81-43-20-43-37-26-39-', '87-43-43-34-75-87-43-26-34-34-43-43-43-43-34-80-87-43-26-75-43-87-87-43-43-37-43-37-43-37-26-81-', '87-43-43-34-75-87-43-26-34-34-43-43-43-43-39-26-26-87-43-26-75-71-43-81-43-20-94-43-81-43-20-43-37-26-39-48-37-47-37-43-37-43-37-26-81-', '87-43-43-34-75-87-43-26-34-34-43-43-43-43-39-26-26-87-43-26-75-71-43-81-43-20-94-43-81-43-20-43-37-26-39-48-37-48-37-43-37-43-37-26-81-', '87-43-43-34-75-87-43-26-34-34-43-43-43-43-39-26-34-87-43-26-75-71-43-49-43-49-43-34-43-71-37-26-80-71-37-26-90-43-87-', '87-43-43-34-75-87-43-26-34-34-43-43-43-43-87-43-26-75-43-37-43-37-43-37-26-81-', '87-43-43-34-75-87-43-26-34-34-43-43-43-43-87-43-26-75-43-71-34-34-43-43-26-81-43-43-43-43-43-26-39-', '87-43-43-34-75-87-43-26-34-34-43-43-43-43-87-43-26-75-43-71-34-34-43-43-26-81-43-43-43-43-43-43-26-39-', '87-43-43-34-75-87-43-26-34-34-43-43-43-43-87-43-26-75-43-71-34-34-43-43-26-81-43-81-43-20-43-37-43-37-43-37-26-81-', '87-43-43-34-75-87-43-26-34-34-43-43-43-43-87-43-26-75-43-71-34-52-43-26-71-43-81-43-20-43-37-34-34-43-26-81-20-43-37-43-37-26-39-', '87-43-43-34-75-87-43-26-34-34-43-43-43-43-87-43-26-75-43-71-43-81-43-20-43-37-34-34-43-26-81-20-43-37-43-37-26-39-', '87-43-43-34-75-87-43-26-34-34-43-43-43-43-87-43-26-75-43-71-43-81-43-20-43-43-26-81-', '87-43-43-34-75-87-43-26-34-34-43-43-43-43-87-43-26-75-43-71-43-81-43-20-71-43-26-81-', '87-43-43-34-75-87-43-26-34-34-43-43-43-43-87-43-26-75-43-71-43-81-43-20-71-43-26-81-20-', '87-43-43-34-75-87-43-26-34-34-43-43-43-43-87-43-26-75-43-71-43-81-43-20-94-43-81-43-20-43-34-43-93-37-26-75-', '87-43-43-34-75-87-43-26-34-34-43-43-43-43-87-43-26-75-43-87-43-81-43-20-43-37-43-37-34-26-87-43-43-37-26-39-', '87-43-43-34-75-87-43-26-34-34-43-43-43-43-87-43-26-75-43-87-43-81-43-20-43-37-43-37-34-34-43-37-26-81-43-', '87-43-43-34-75-87-43-26-34-34-43-43-43-43-87-43-26-75-43-87-43-81-43-20-43-37-43-37-43-37-26-81-', '87-43-43-34-75-87-43-26-34-34-43-43-43-43-87-43-34-43-43-34-43-43-43-', '87-43-43-34-80-43-43-43-43-26-81-43-34-43-87-43-37-43-37-43-37-26-81-', '87-43-43-34-80-43-43-43-43-26-81-43-81-43-20-87-43-43-43-43-43-43-43-43-', '87-43-43-34-81-29-81-43-20-103-34-75-43-87-43-26-75-43-43-43-43-43-', '87-43-43-34-98-43-34-39-43-26-34-43-43-26-81-43-81-43-20-87-43-81-43-20-87-43-43-', '87-43-43-39-26-80-43-34-37-43-34-34-43-43-26-81-34-26-43-87-43-89-43-43-26-49-34-43-43-43-43-', '87-43-43-43-34-34-43-43-26-34-43-43-43-43-26-39-', '87-43-43-43-34-39-43-26-34-43-43-26-81-43-81-43-20-71-34-34-43-26-75-20-43-43-43-43-43-43-', '87-43-43-43-34-39-43-26-34-43-43-26-81-43-81-43-20-71-34-34-43-26-75-20-43-43-43-43-43-43-43-', '87-43-43-43-34-75-43-34-43-43-34-43-43-43-43-43-43-26-90-', '87-43-43-43-34-75-43-34-43-43-34-43-43-43-43-43-43-26-90-20-', '87-43-43-43-34-75-43-34-43-43-34-43-43-43-43-43-43-26-90-87-', '87-43-43-43-34-75-43-43-43-43-43-43-26-81-43-43-26-71-', '87-43-43-43-34-80-43-43-43-43-26-81-43-81-43-20-71-34-34-43-26-87-20-43-', '87-43-43-43-34-80-43-43-43-43-26-81-43-81-43-20-71-43-43-43-43-43-43-26-81-', '87-43-43-43-43-34-34-43-43-26-81-43-43-43-43-43-26-39-', '87-43-43-43-43-43-43-43-43-43-43-43-', '87-43-43-43-43-43-43-43-43-43-43-43-43-', '87-43-43-71-34-34-43-43-26-81-43-43-37-43-37-34-81-29-81-43-20-103-43-37-26-75-', '87-43-43-71-34-34-43-43-26-81-43-43-37-43-37-34-81-43-34-43-43-43-43-37-26-75-', '87-43-43-71-34-34-43-43-26-81-43-43-37-43-37-34-81-71-34-43-43-43-43-37-26-75-', '87-43-43-71-34-34-43-43-26-81-43-43-37-43-37-43-37-26-81-', '87-43-43-71-34-34-43-43-26-81-43-43-43-43-43-43-43-43-43-', '87-43-43-71-34-34-43-43-26-81-43-43-43-43-43-43-43-43-43-43-', '87-43-43-71-34-34-43-43-26-81-43-43-43-43-43-43-43-43-43-43-43-', '87-43-43-71-34-34-43-43-26-81-43-43-43-43-43-43-43-43-43-43-43-43-', '87-43-43-71-34-34-43-43-26-81-43-43-43-43-43-43-43-43-43-43-43-43-43-', '87-43-43-71-34-34-43-43-26-81-43-43-43-43-43-43-43-43-43-43-43-43-43-43-', '87-43-43-71-34-34-43-43-26-81-43-43-43-71-43-81-43-20-43-37-43-37-43-37-26-81-', '87-43-43-71-34-34-43-43-26-81-43-43-43-81-43-20-43-37-43-37-34-26-87-43-43-37-26-39-', '87-43-43-71-34-34-43-43-26-81-43-43-43-81-43-20-43-37-43-37-34-43-87-43-37-26-80-', '87-43-43-71-34-34-43-43-26-81-43-43-43-81-43-20-43-37-43-37-34-81-29-81-43-20-103-43-37-26-75-', '87-43-43-71-34-34-43-43-26-81-43-43-43-81-43-20-71-43-37-34-90-43-81-81-37-43-37-26-81-43-43-', '87-43-43-71-34-34-43-43-26-81-43-43-43-81-43-20-71-43-37-43-37-34-34-43-37-26-81-43-', '87-43-43-71-34-34-43-43-26-81-43-43-43-81-43-20-71-43-37-43-37-43-37-26-81-', '87-43-43-71-34-34-43-43-26-81-43-43-43-81-43-20-71-43-37-43-81-81-37-43-37-26-81-43-37-43-37-26-75-', '87-43-43-71-34-34-43-43-26-81-43-43-43-81-43-20-94-43-81-43-20-94-43-106-39-', '87-43-43-71-34-34-43-43-26-81-43-43-43-87-43-37-43-37-34-26-87-43-43-37-26-39-', '87-43-43-71-34-34-43-43-26-81-43-43-43-87-43-37-43-37-34-34-43-37-26-81-43-', '87-43-43-71-34-34-43-43-26-81-43-43-43-87-43-37-43-37-34-43-87-43-37-26-80-', '87-43-43-71-34-34-43-43-26-81-43-43-81-43-20-43-43-43-43-43-43-43-43-43-', '87-43-43-71-34-34-43-43-26-81-43-43-81-43-20-43-43-43-43-43-43-43-43-43-43-', '87-43-43-71-34-34-43-43-26-81-43-43-87-43-81-43-20-43-37-43-37-34-26-87-43-43-37-26-39-', '87-43-43-71-34-34-43-43-26-81-43-43-87-43-81-43-20-43-37-43-37-34-34-43-37-26-81-43-', '87-43-43-71-34-34-43-43-26-81-43-43-87-43-81-43-20-43-37-43-37-34-81-29-81-43-20-103-43-37-26-75-', '87-43-43-71-34-34-43-43-26-81-43-49-43-34-43-71-37-39-26-75-43-81-81-37-26-80-43-89-43-37-43-34-26-87-43-37-34-26-87-43-43-37-26-90-43-89-', '87-43-43-71-34-34-43-43-26-81-43-81-43-20-43-37-43-37-34-34-43-37-26-81-43-', '87-43-43-71-34-34-43-43-26-81-43-81-43-20-43-43-43-43-43-43-43-43-43-43-43-', '87-43-43-71-34-34-43-43-26-81-43-81-43-20-43-43-43-43-43-43-43-43-43-43-43-43-', '87-43-43-71-34-34-43-43-26-81-43-81-43-20-43-43-43-43-43-43-43-43-43-43-43-43-43-', '87-43-43-71-39-26-39-43-43-37-43-81-71-49-43-37-26-81-43-37-43-37-26-81-43-37-43-37-26-49-43-81-43-20-43-', '87-43-43-71-39-26-39-43-43-43-43-43-43-43-43-43-81-43-20-71-43-37-43-37-34-26-87-43-43-37-26-39-43-43-52-26-39-', '87-43-43-71-39-26-39-43-43-43-43-43-43-43-43-71-43-81-43-20-71-43-43-37-43-37-43-37-26-81-43-43-43-52-26-90-', '87-43-43-71-39-26-52-43-43-43-43-71-43-81-81-49-43-37-26-34-29-81-43-20-103-43-43-43-52-26-26-', '87-43-43-71-39-26-52-43-43-43-71-43-81-43-20-43-37-34-43-87-43-37-43-37-26-80-43-43-52-26-43-', '87-43-43-71-39-26-75-43-43-43-34-98-43-26-81-43-37-43-37-34-26-87-43-43-37-26-39-43-43-26-88-43-81-43-20-43-', '87-43-43-71-39-26-75-43-43-43-34-98-43-26-81-43-37-43-37-34-26-87-43-43-37-26-39-43-43-26-88-43-81-43-20-87-43-', '87-43-43-71-39-26-75-43-43-43-34-98-43-26-81-43-37-43-37-34-26-87-43-43-37-26-39-43-43-26-88-43-81-43-20-87-43-43-', '87-43-43-71-39-26-75-43-43-43-43-43-37-34-52-43-26-81-43-37-34-26-87-43-43-34-26-87-43-37-26-87-43-52-26-26-', '87-43-43-71-39-26-75-43-43-43-43-43-37-34-71-71-43-37-26-34-43-37-43-37-26-81-43-37-43-37-26-49-43-43-52-26-34-', '87-43-43-71-39-26-75-43-43-43-43-43-43-37-43-43-43-43-43-43-106-81-94-43-81-43-20-43-106-87-43-43-37-34-98-43-81-43-20-71-70-26-39-43-81-43-20-87-43-43-43-', '87-43-43-71-39-26-75-43-43-43-43-43-43-43-106-81-43-81-71-49-43-37-26-87-43-37-43-37-26-81-71-43-43-52-26-81-', '87-43-43-71-39-26-75-43-43-43-43-43-43-43-106-81-43-81-90-37-26-75-43-81-43-20-87-43-43-89-43-43-52-26-81-', '87-43-81-43-20-43-34-43-71-43-43-43-43-43-43-43-43-43-', '87-43-81-43-20-43-34-43-71-43-43-43-43-43-43-43-43-43-43-', '87-43-81-43-20-43-34-43-71-43-43-43-43-43-43-43-43-43-43-26-81-', '87-43-81-43-20-43-34-43-71-43-43-43-43-43-43-43-43-43-43-43-', '87-43-81-43-20-43-37-43-37-34-75-43-34-43-43-34-43-43-43-43-37-26-90-', '87-43-81-43-20-43-37-43-37-34-90-43-43-26-34-37-43-37-26-75-43-37-43-37-26-87-', '87-43-81-43-20-43-43-43-43-43-43-43-43-43-43-43-43-', '98-43-37-34-80-43-43-43-43-26-81-43-37-26-75-71-37-34-81-94-43-26-81-20-43-71-43-43-43-43-43-26-81-', '98-43-37-34-81-71-37-26-34-43-43-37-43-37-34-34-43-37-26-81-43-']\n"
     ]
    }
   ],
   "source": [
    "sets = []\n",
    "for prior_sample, molecules in data.items():\n",
    "    print(prior_sample, sorted(list(set(molecules))))\n",
    "    sets.append(set(molecules))"
   ]
  },
  {
   "cell_type": "code",
   "execution_count": 15,
   "metadata": {},
   "outputs": [
    {
     "data": {
      "text/plain": [
       "0.5622568093385214"
      ]
     },
     "execution_count": 15,
     "metadata": {},
     "output_type": "execute_result"
    }
   ],
   "source": [
    "len(sets[0].intersection(sets[1])) / len(sets[0].union(sets[1]))"
   ]
  },
  {
   "cell_type": "markdown",
   "metadata": {},
   "source": [
    "# TODO:\n",
    "\n",
    "- for a single bit string, sample molecule dataset twice with different random seeds. How similar are those datasets?\n",
    "- for two bit strings, sample molecule datasets from each. How similar are those datasets?"
   ]
  },
  {
   "cell_type": "code",
   "execution_count": 17,
   "metadata": {},
   "outputs": [],
   "source": [
    "prior_sample = np.ones(16)\n",
    "sample_str = sample_to_str(prior_sample)\n",
    "# create a toch tensor repeating the sample n_samples times\n",
    "sample = torch.tensor(np.array([prior_sample] * n_samples)).float().to(device=\"cuda:0\")\n",
    "generated_molecules, probs = model._generate_w_probs(\n",
    "    prior_samples=sample, n_samples=n_samples, random_seed=87652\n",
    ")\n",
    "generated_molecules = generated_molecules.cpu().numpy()\n",
    "molecules1 = [\n",
    "    molecule_to_str(molecule, model.padding_token_index)\n",
    "    for molecule in generated_molecules\n",
    "]"
   ]
  },
  {
   "cell_type": "code",
   "execution_count": 18,
   "metadata": {},
   "outputs": [],
   "source": [
    "prior_sample = np.zeros(16)\n",
    "sample_str = sample_to_str(prior_sample)\n",
    "# create a toch tensor repeating the sample n_samples times\n",
    "sample = torch.tensor(np.array([prior_sample] * n_samples)).float().to(device=\"cuda:0\")\n",
    "generated_molecules, probs = model._generate_w_probs(\n",
    "    prior_samples=sample, n_samples=n_samples, random_seed=87652\n",
    ")\n",
    "generated_molecules = generated_molecules.cpu().numpy()\n",
    "molecules2 = [\n",
    "    molecule_to_str(molecule, model.padding_token_index)\n",
    "    for molecule in generated_molecules\n",
    "]"
   ]
  },
  {
   "cell_type": "code",
   "execution_count": 20,
   "metadata": {},
   "outputs": [],
   "source": [
    "prior_sample = np.ones(16)\n",
    "sample_str = sample_to_str(prior_sample)\n",
    "# create a toch tensor repeating the sample n_samples times\n",
    "sample = torch.tensor(np.array([prior_sample] * n_samples)).float().to(device=\"cuda:0\")\n",
    "generated_molecules, probs = model._generate_w_probs(\n",
    "    prior_samples=sample, n_samples=n_samples, random_seed=78322\n",
    ")\n",
    "generated_molecules = generated_molecules.cpu().numpy()\n",
    "molecules3 = [\n",
    "    molecule_to_str(molecule, model.padding_token_index)\n",
    "    for molecule in generated_molecules\n",
    "]"
   ]
  },
  {
   "cell_type": "code",
   "execution_count": 23,
   "metadata": {},
   "outputs": [],
   "source": [
    "prior_sample = np.array([1] * 8 + [0] * 8)\n",
    "sample_str = sample_to_str(prior_sample)\n",
    "# create a toch tensor repeating the sample n_samples times\n",
    "sample = torch.tensor(np.array([prior_sample] * n_samples)).float().to(device=\"cuda:0\")\n",
    "generated_molecules, probs = model._generate_w_probs(\n",
    "    prior_samples=sample, n_samples=n_samples, random_seed=87652\n",
    ")\n",
    "generated_molecules = generated_molecules.cpu().numpy()\n",
    "molecules4 = [\n",
    "    molecule_to_str(molecule, model.padding_token_index)\n",
    "    for molecule in generated_molecules\n",
    "]"
   ]
  },
  {
   "cell_type": "code",
   "execution_count": 19,
   "metadata": {},
   "outputs": [
    {
     "data": {
      "text/plain": [
       "0.5343511450381679"
      ]
     },
     "execution_count": 19,
     "metadata": {},
     "output_type": "execute_result"
    }
   ],
   "source": [
    "molecules1set = set(molecules1)\n",
    "molecules2set = set(molecules2)\n",
    "\n",
    "len(molecules1set.intersection(molecules2set)) / len(molecules1set.union(molecules2set))"
   ]
  },
  {
   "cell_type": "code",
   "execution_count": 21,
   "metadata": {},
   "outputs": [
    {
     "data": {
      "text/plain": [
       "0.5604838709677419"
      ]
     },
     "execution_count": 21,
     "metadata": {},
     "output_type": "execute_result"
    }
   ],
   "source": [
    "molecules3set = set(molecules3)\n",
    "\n",
    "len(molecules1set.intersection(molecules3set)) / len(molecules1set.union(molecules3set))"
   ]
  },
  {
   "cell_type": "code",
   "execution_count": 24,
   "metadata": {},
   "outputs": [
    {
     "data": {
      "text/plain": [
       "0.5647969052224371"
      ]
     },
     "execution_count": 24,
     "metadata": {},
     "output_type": "execute_result"
    }
   ],
   "source": [
    "molecules4set = set(molecules4)\n",
    "len(molecules1set.intersection(molecules4set)) / len(molecules1set.union(molecules4set))"
   ]
  },
  {
   "cell_type": "code",
   "execution_count": null,
   "metadata": {},
   "outputs": [],
   "source": []
  }
 ],
 "metadata": {
  "kernelspec": {
   "display_name": "dwave-qml",
   "language": "python",
   "name": "python3"
  },
  "language_info": {
   "codemirror_mode": {
    "name": "ipython",
    "version": 3
   },
   "file_extension": ".py",
   "mimetype": "text/x-python",
   "name": "python",
   "nbconvert_exporter": "python",
   "pygments_lexer": "ipython3",
   "version": "3.11.9"
  }
 },
 "nbformat": 4,
 "nbformat_minor": 2
}
