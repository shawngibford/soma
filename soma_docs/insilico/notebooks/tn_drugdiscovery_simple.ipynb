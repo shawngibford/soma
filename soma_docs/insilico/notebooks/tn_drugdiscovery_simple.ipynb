{
 "cells": [
  {
   "cell_type": "code",
   "execution_count": 1,
   "metadata": {},
   "outputs": [
    {
     "name": "stderr",
     "output_type": "stream",
     "text": [
      "  Activating project at `~/workspace/repos/orquestra-qml-core/src/python/orquestra/qml/jl/QML.jl`\n"
     ]
    }
   ],
   "source": [
    "import os\n",
    "import sys\n",
    "import numpy as np\n",
    "from orquestra.qml.models.tn.mps import (\n",
    "    MPS,\n",
    "    AMPS,\n",
    "    EqualityConstrainedMps,\n",
    "    OneSiteDMRG,\n",
    "    RandCircuitInitializer,\n",
    "    TwoSiteDMRG,\n",
    ")\n",
    "\n",
    "\n",
    "\n",
    "from orquestra.qml.constraints import AxbEqualityConstraint\n",
    "from orquestra.qml.data_loaders import BarsAndStripesDataLoader, new_data_loader\n",
    "from orquestra.qml.trainers import SimpleTrainer\n",
    "from orquestra.qml.data_loaders import new_data_loader\n",
    "import torch\n",
    "from orquestra.qml.models.samplers.jx import RandomCardinalitySampler \n",
    "from orquestra.qml.data_loaders import new_data_loader\n"
   ]
  },
  {
   "attachments": {},
   "cell_type": "markdown",
   "metadata": {},
   "source": [
    "# Simple Example \n",
    "\n"
   ]
  },
  {
   "cell_type": "code",
   "execution_count": 25,
   "metadata": {},
   "outputs": [
    {
     "data": {
      "text/plain": [
       "array([1., 1., 1., 1., 1., 1., 1., 1., 0., 0., 0., 0., 0., 0., 0., 0.])"
      ]
     },
     "execution_count": 25,
     "metadata": {},
     "output_type": "execute_result"
    }
   ],
   "source": [
    "np.hstack((np.ones(8), np.zeros(8)))"
   ]
  },
  {
   "cell_type": "code",
   "execution_count": 2,
   "metadata": {},
   "outputs": [],
   "source": [
    "n_x=8\n",
    "n_y=8\n",
    "# constraint = AxbEqualityConstraint(np.matrix(np.hstack((np.ones(8), np.zeros(8))), np.hstack((np.zeros(8), np.ones(8)))),np.ones(1, 1))\n",
    "constraint1 = AxbEqualityConstraint(np.hstack((np.ones(8), np.zeros(8))),np.ones(1))\n",
    "constraint2 = AxbEqualityConstraint(np.hstack((np.zeros(8), np.ones(8))),np.ones(1))\n",
    "# filter out those that don't meet equality constraint\n",
    "\n",
    "init_sample_first= RandomCardinalitySampler(16//2,1).generate(4)\n",
    "init_sample_second= RandomCardinalitySampler(16//2,1).generate(4)\n",
    "\n",
    "\n",
    "initial_samples_list = []\n",
    "\n",
    "\n",
    "\n",
    "\n",
    "for first, second in zip(init_sample_first,init_sample_second):\n",
    "    initial_samples_list.append(list(first)+list(second))\n",
    "\n",
    "init_sample_array = np.asarray(initial_samples_list)\n",
    "\n"
   ]
  },
  {
   "cell_type": "code",
   "execution_count": 3,
   "metadata": {},
   "outputs": [
    {
     "data": {
      "text/plain": [
       "4"
      ]
     },
     "execution_count": 3,
     "metadata": {},
     "output_type": "execute_result"
    }
   ],
   "source": [
    "init_sample_array.shape[0]"
   ]
  },
  {
   "cell_type": "code",
   "execution_count": 3,
   "metadata": {},
   "outputs": [],
   "source": [
    "dl=new_data_loader(torch.tensor(init_sample_array),batch_size=-1).shuffle(123456)"
   ]
  },
  {
   "cell_type": "code",
   "execution_count": 4,
   "metadata": {},
   "outputs": [
    {
     "name": "stderr",
     "output_type": "stream",
     "text": [
      "Epoch 1 / 2:   0%|          | 0/1 [00:00<?, ?steps/s]"
     ]
    },
    {
     "ename": "TypeError",
     "evalue": "Julia: MethodError: no method matching train_on_batch(::ITensors.MPS, ::PythonCall.PyArray{Int64, 2, true, false, Int64}, ::PythonCall.PyArray{PythonCall.Py, 0, true, true, PythonCall.UnsafePyObject}, ::Main.QML.TN.OneSiteDMRG)\nClosest candidates are:\n  train_on_batch(::ITensors.MPS, ::PythonCall.PyArray{<:Integer}, !Matched::PythonCall.PyArray{<:AbstractFloat}, ::T) where T<:Main.QML.TN.Scheme at ~/workspace/repos/orquestra-qml-core/src/python/orquestra/qml/jl/QML.jl/src/TN/mps.jl:101\n  train_on_batch(!Matched::Main.QML.TN.AMPS, ::PythonCall.PyArray{<:Integer}, !Matched::PythonCall.PyArray{<:AbstractFloat}) at ~/workspace/repos/orquestra-qml-core/src/python/orquestra/qml/jl/QML.jl/src/TN/amps.jl:86",
     "output_type": "error",
     "traceback": [
      "\u001b[0;31m---------------------------------------------------------------------------\u001b[0m",
      "\u001b[0;31mTypeError\u001b[0m                                 Traceback (most recent call last)",
      "Cell \u001b[0;32mIn [4], line 19\u001b[0m\n\u001b[1;32m      4\u001b[0m mps_gen \u001b[39m=\u001b[39m MPS(\n\u001b[1;32m      5\u001b[0m     [\u001b[39m2\u001b[39m \u001b[39mfor\u001b[39;00m _ \u001b[39min\u001b[39;00m \u001b[39mrange\u001b[39m(n_sites)],\n\u001b[1;32m      6\u001b[0m     initializer\u001b[39m=\u001b[39mRandCircuitInitializer(\n\u001b[0;32m   (...)\u001b[0m\n\u001b[1;32m     11\u001b[0m     output_type\u001b[39m=\u001b[39m\u001b[39m\"\u001b[39m\u001b[39mInt32\u001b[39m\u001b[39m\"\u001b[39m,\n\u001b[1;32m     12\u001b[0m )\n\u001b[1;32m     14\u001b[0m \u001b[39m# assert len(mps_gen.tensors) == n_sites, \"MPS must have n_sites tensors\"\u001b[39;00m\n\u001b[1;32m     15\u001b[0m \u001b[39m# assert (\u001b[39;00m\n\u001b[1;32m     16\u001b[0m \u001b[39m#     len(mps_gen.bond_dimensions) == n_sites - 1\u001b[39;00m\n\u001b[1;32m     17\u001b[0m \u001b[39m# ), \"MPS must have n_sites-1 bond dimensions\"\u001b[39;00m\n\u001b[0;32m---> 19\u001b[0m SimpleTrainer()\u001b[39m.\u001b[39;49mtrain(\n\u001b[1;32m     20\u001b[0m     mps_gen,\n\u001b[1;32m     21\u001b[0m     dl,\n\u001b[1;32m     22\u001b[0m     \u001b[39m2\u001b[39;49m,\n\u001b[1;32m     23\u001b[0m )\n\u001b[1;32m     25\u001b[0m samples \u001b[39m=\u001b[39m mps_gen\u001b[39m.\u001b[39mgenerate(\u001b[39m10\u001b[39m, \u001b[39m10\u001b[39m)\n",
      "File \u001b[0;32m~/workspace/repos/orquestra-qml-core/src/python/orquestra/qml/api/trainer.py:245\u001b[0m, in \u001b[0;36mTrainer.train\u001b[0;34m(self, model, data_loader, n_epochs, callbacks, disable_progress_bar)\u001b[0m\n\u001b[1;32m    235\u001b[0m \u001b[39mdef\u001b[39;00m \u001b[39mtrain\u001b[39m(\n\u001b[1;32m    236\u001b[0m     \u001b[39mself\u001b[39m,\n\u001b[1;32m    237\u001b[0m     model: BaseModel,\n\u001b[0;32m   (...)\u001b[0m\n\u001b[1;32m    242\u001b[0m     disable_progress_bar: \u001b[39mbool\u001b[39m \u001b[39m=\u001b[39m \u001b[39mFalse\u001b[39;00m,\n\u001b[1;32m    243\u001b[0m ) \u001b[39m-\u001b[39m\u001b[39m>\u001b[39m TrainCache:\n\u001b[1;32m    244\u001b[0m     start \u001b[39m=\u001b[39m time\u001b[39m.\u001b[39mperf_counter()\n\u001b[0;32m--> 245\u001b[0m     train_cache \u001b[39m=\u001b[39m \u001b[39mself\u001b[39;49m\u001b[39m.\u001b[39;49m_train(\n\u001b[1;32m    246\u001b[0m         model,\n\u001b[1;32m    247\u001b[0m         data_loader,\n\u001b[1;32m    248\u001b[0m         n_epochs,\n\u001b[1;32m    249\u001b[0m         callbacks,\n\u001b[1;32m    250\u001b[0m         disable_progress_bar\u001b[39m=\u001b[39;49mdisable_progress_bar,\n\u001b[1;32m    251\u001b[0m     )\n\u001b[1;32m    252\u001b[0m     end \u001b[39m=\u001b[39m time\u001b[39m.\u001b[39mperf_counter()\n\u001b[1;32m    253\u001b[0m     train_cache\u001b[39m.\u001b[39mset_execution_time(end \u001b[39m-\u001b[39m start)\n",
      "File \u001b[0;32m~/workspace/repos/orquestra-qml-core/src/python/orquestra/qml/trainers/simple_trainer.py:67\u001b[0m, in \u001b[0;36mSimpleTrainer._train\u001b[0;34m(self, model, data_loader, n_epochs, callbacks, disable_progress_bar)\u001b[0m\n\u001b[1;32m     65\u001b[0m train_cache\u001b[39m.\u001b[39m_store_train_batch_if_needed(batch)\n\u001b[1;32m     66\u001b[0m callback_set\u001b[39m.\u001b[39mon_train_step_begin(batch_index, train_cache)\n\u001b[0;32m---> 67\u001b[0m batch_train_result \u001b[39m=\u001b[39m model\u001b[39m.\u001b[39;49mtrain_on_batch(batch)\n\u001b[1;32m     68\u001b[0m train_cache\u001b[39m.\u001b[39mupdate_history(batch_train_result)\n\u001b[1;32m     69\u001b[0m callback_set\u001b[39m.\u001b[39mon_train_step_end(batch_index, train_cache)\n",
      "File \u001b[0;32m~/workspace/repos/orquestra-qml-core/src/python/orquestra/qml/models/tn/mps/mps.py:78\u001b[0m, in \u001b[0;36mMPS.train_on_batch\u001b[0;34m(self, batch)\u001b[0m\n\u001b[1;32m     77\u001b[0m \u001b[39mdef\u001b[39;00m \u001b[39mtrain_on_batch\u001b[39m(\u001b[39mself\u001b[39m, batch: Batch) \u001b[39m-\u001b[39m\u001b[39m>\u001b[39m TrainResult:\n\u001b[0;32m---> 78\u001b[0m     jl_result \u001b[39m=\u001b[39m jl\u001b[39m.\u001b[39;49mQML\u001b[39m.\u001b[39;49mTN\u001b[39m.\u001b[39;49mtrain_on_batch(\n\u001b[1;32m     79\u001b[0m         \u001b[39mself\u001b[39;49m\u001b[39m.\u001b[39;49m_mps,\n\u001b[1;32m     80\u001b[0m         convert_to_numpy(batch\u001b[39m.\u001b[39;49mdata),\n\u001b[1;32m     81\u001b[0m         convert_to_numpy(batch\u001b[39m.\u001b[39;49mprobs),\n\u001b[1;32m     82\u001b[0m         \u001b[39mself\u001b[39;49m\u001b[39m.\u001b[39;49mscheme\u001b[39m.\u001b[39;49mto_jl(),\n\u001b[1;32m     83\u001b[0m     )\n\u001b[1;32m     84\u001b[0m     \u001b[39mreturn\u001b[39;00m \u001b[39mdict\u001b[39m(jl_result)\n",
      "File \u001b[0;32m~/.julia/packages/PythonCall/3GRYN/src/jlwrap/any.jl:202\u001b[0m, in \u001b[0;36m__call__\u001b[0;34m(self, *args, **kwargs)\u001b[0m\n\u001b[1;32m    200\u001b[0m     return ValueBase.__dir__(self) + self._jl_callmethod($(pyjl_methodnum(pyjlany_dir)))\n\u001b[1;32m    201\u001b[0m def __call__(self, *args, **kwargs):\n\u001b[0;32m--> 202\u001b[0m     return self._jl_callmethod($(pyjl_methodnum(pyjlany_call)), args, kwargs)\n\u001b[1;32m    203\u001b[0m def __len__(self):\n\u001b[1;32m    204\u001b[0m     return self._jl_callmethod($(pyjl_methodnum(pyjlany_op(length))))\n",
      "\u001b[0;31mTypeError\u001b[0m: Julia: MethodError: no method matching train_on_batch(::ITensors.MPS, ::PythonCall.PyArray{Int64, 2, true, false, Int64}, ::PythonCall.PyArray{PythonCall.Py, 0, true, true, PythonCall.UnsafePyObject}, ::Main.QML.TN.OneSiteDMRG)\nClosest candidates are:\n  train_on_batch(::ITensors.MPS, ::PythonCall.PyArray{<:Integer}, !Matched::PythonCall.PyArray{<:AbstractFloat}, ::T) where T<:Main.QML.TN.Scheme at ~/workspace/repos/orquestra-qml-core/src/python/orquestra/qml/jl/QML.jl/src/TN/mps.jl:101\n  train_on_batch(!Matched::Main.QML.TN.AMPS, ::PythonCall.PyArray{<:Integer}, !Matched::PythonCall.PyArray{<:AbstractFloat}) at ~/workspace/repos/orquestra-qml-core/src/python/orquestra/qml/jl/QML.jl/src/TN/amps.jl:86"
     ]
    }
   ],
   "source": [
    "n_sites = 16\n",
    "mps_gen = MPS(\n",
    "    [2 for _ in range(n_sites)],\n",
    "    initializer=RandCircuitInitializer(\n",
    "        bond_dim=32,\n",
    "        element_type=\"Float32\",\n",
    "    ),\n",
    "    scheme=OneSiteDMRG(),\n",
    "    output_type=\"Int32\",\n",
    ")\n",
    "\n",
    "# assert len(mps_gen.tensors) == n_sites, \"MPS must have n_sites tensors\"\n",
    "# assert (\n",
    "#     len(mps_gen.bond_dimensions) == n_sites - 1\n",
    "# ), \"MPS must have n_sites-1 bond dimensions\"\n",
    "\n",
    "SimpleTrainer().train(\n",
    "    mps_gen,\n",
    "    dl,\n",
    "    2,\n",
    ")\n",
    "\n",
    "samples = mps_gen.generate(10, 10)"
   ]
  },
  {
   "cell_type": "code",
   "execution_count": 7,
   "metadata": {},
   "outputs": [
    {
     "data": {
      "text/plain": [
       "array([4, 4, 4, 4, 4, 4, 4, 4, 4, 4])"
      ]
     },
     "execution_count": 7,
     "metadata": {},
     "output_type": "execute_result"
    }
   ],
   "source": [
    "np.sum(samples,axis=1)"
   ]
  }
 ],
 "metadata": {
  "kernelspec": {
   "display_name": "drugdiscovery",
   "language": "python",
   "name": "python3"
  },
  "language_info": {
   "codemirror_mode": {
    "name": "ipython",
    "version": 3
   },
   "file_extension": ".py",
   "mimetype": "text/x-python",
   "name": "python",
   "nbconvert_exporter": "python",
   "pygments_lexer": "ipython3",
   "version": "3.10.6"
  },
  "orig_nbformat": 4,
  "vscode": {
   "interpreter": {
    "hash": "90f791b1cfe986cfa1bf816a7669520be59f4dde95a0c6013dec308e7178b635"
   }
  }
 },
 "nbformat": 4,
 "nbformat_minor": 2
}
