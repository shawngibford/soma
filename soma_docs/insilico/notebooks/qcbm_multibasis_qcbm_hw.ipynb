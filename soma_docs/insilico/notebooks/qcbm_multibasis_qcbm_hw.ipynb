{
 "cells": [
  {
   "attachments": {},
   "cell_type": "markdown",
   "metadata": {},
   "source": [
    "# QCBM with qiskit backend"
   ]
  },
  {
   "cell_type": "code",
   "execution_count": 19,
   "metadata": {},
   "outputs": [],
   "source": [
    "from orquestra.vqa.algorithms import QCBM\n",
    "from orquestra.quantum.api.estimation import EstimateExpectationValues\n",
    "from orquestra.quantum.estimation import estimate_expectation_values_by_averaging\n",
    "from orquestra.integrations.qiskit.runner import create_ibmq_runner\n",
    "from orquestra.quantum.distributions.BAS_dataset import get_bars_and_stripes_target_distribution\n",
    "import numpy as np\n",
    "from orquestra.opt.optimizers import ScipyOptimizer\n"
   ]
  },
  {
   "cell_type": "code",
   "execution_count": 20,
   "metadata": {},
   "outputs": [],
   "source": [
    "\n",
    "APIKEY = \"API_KEY\"\n",
    "\n",
    "\n",
    "qiskit_runner = create_ibmq_runner(api_token=APIKEY,backend_name=\"ibmq_lima\") \n"
   ]
  },
  {
   "cell_type": "code",
   "execution_count": 21,
   "metadata": {},
   "outputs": [],
   "source": [
    "optimizer = ScipyOptimizer(method=\"Powell\", options={\"maxiter\": 1})"
   ]
  },
  {
   "cell_type": "code",
   "execution_count": 22,
   "metadata": {},
   "outputs": [],
   "source": [
    "dist_ = get_bars_and_stripes_target_distribution(2,2,1.0,\"zigzag\")"
   ]
  },
  {
   "cell_type": "code",
   "execution_count": 23,
   "metadata": {},
   "outputs": [],
   "source": [
    "qcbm_runner = QCBM(target_distribution=dist_,n_layers = 4,optimizer=optimizer,estimation_method=estimate_expectation_values_by_averaging,n_shots=100)"
   ]
  },
  {
   "cell_type": "code",
   "execution_count": null,
   "metadata": {},
   "outputs": [],
   "source": [
    "qcbm_runner.find_optimal_params(qiskit_runner,initial_params=None)"
   ]
  },
  {
   "cell_type": "code",
   "execution_count": 15,
   "metadata": {},
   "outputs": [
    {
     "data": {
      "text/plain": [
       "{(0, 1, 0, 1): 0.16666666666666666,\n",
       " (0, 0, 1, 1): 0.16666666666666666,\n",
       " (0, 0, 0, 0): 0.16666666666666666,\n",
       " (1, 1, 0, 0): 0.16666666666666666,\n",
       " (1, 0, 1, 0): 0.16666666666666666,\n",
       " (1, 1, 1, 1): 0.16666666666666666}"
      ]
     },
     "execution_count": 15,
     "metadata": {},
     "output_type": "execute_result"
    }
   ],
   "source": [
    "dist_.distribution_dict"
   ]
  }
 ],
 "metadata": {
  "kernelspec": {
   "display_name": "drugdiscovery",
   "language": "python",
   "name": "python3"
  },
  "language_info": {
   "codemirror_mode": {
    "name": "ipython",
    "version": 3
   },
   "file_extension": ".py",
   "mimetype": "text/x-python",
   "name": "python",
   "nbconvert_exporter": "python",
   "pygments_lexer": "ipython3",
   "version": "3.10.6"
  },
  "orig_nbformat": 4,
  "vscode": {
   "interpreter": {
    "hash": "90f791b1cfe986cfa1bf816a7669520be59f4dde95a0c6013dec308e7178b635"
   }
  }
 },
 "nbformat": 4,
 "nbformat_minor": 2
}
