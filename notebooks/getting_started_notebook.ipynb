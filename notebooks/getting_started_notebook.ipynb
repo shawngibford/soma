{
 "cells": [
  {
   "cell_type": "code",
   "execution_count": 1,
   "id": "80e94363",
   "metadata": {},
   "outputs": [],
   "source": [
    "\"\"\"\n",
    "Getting Started with Quantum Drug Discovery using PennyLane\n",
    "===========================================================\n",
    "\n",
    "This notebook demonstrates how to use the quantum drug discovery framework\n",
    "to train and generate molecular compounds using quantum-enhanced models.\n",
    "\n",
    "Run each cell sequentially to understand the workflow.\n",
    "\"\"\"\n",
    "\n",
    "from rdkit import RDLogger\n",
    "RDLogger.DisableLog('rdApp.error')"
   ]
  },
  {
   "cell_type": "markdown",
   "id": "dccd2d14",
   "metadata": {
    "cell_marker": "\"\"\""
   },
   "source": [
    "# Quantum Drug Discovery with PennyLane\n",
    "\n",
    "This example demonstrates:\n",
    "1. Loading and processing molecular data\n",
    "2. Training a quantum circuit born machine (QCBM)\n",
    "3. Training a hybrid quantum-classical model\n",
    "4. Generating and evaluating new molecules\n",
    "5. Applying molecular filters for drug-likeness"
   ]
  },
  {
   "cell_type": "code",
   "execution_count": 2,
   "id": "659b6c16",
   "metadata": {
    "title": "Setup and imports"
   },
   "outputs": [
    {
     "name": "stdout",
     "output_type": "stream",
     "text": [
      "Project root: /Users/shawngibford/dev/soma-pennylane\n",
      "Current directory: /Users/shawngibford/dev/soma-pennylane/notebooks\n",
      "✅ Imports successful!\n",
      "PyTorch version: 2.8.0\n",
      "Device detected: MPS\n",
      "⚠️  SYBA not available - synthetic accessibility scoring will be disabled\n"
     ]
    }
   ],
   "source": [
    "import sys\n",
    "import os\n",
    "from pathlib import Path\n",
    "import numpy as np\n",
    "import torch\n",
    "import pandas as pd\n",
    "import matplotlib.pyplot as plt\n",
    "import seaborn as sns\n",
    "\n",
    "# Add project root to path (robust for notebooks where __file__ is undefined)\n",
    "try:\n",
    "    here = Path(__file__).resolve().parent\n",
    "except NameError:\n",
    "    here = Path(os.getcwd()).resolve()\n",
    "\n",
    "# If running from notebooks/ set project_root to parent, else use current dir\n",
    "project_root = here.parent if here.name == 'notebooks' else here\n",
    "\n",
    "# Add both project root and the src directory to sys.path\n",
    "if str(project_root) not in sys.path:\n",
    "    sys.path.insert(0, str(project_root))\n",
    "if str(project_root / 'src') not in sys.path:\n",
    "    sys.path.insert(0, str(project_root / 'src'))\n",
    "\n",
    "print(f\"Project root: {project_root}\")\n",
    "print(f\"Current directory: {os.getcwd()}\")\n",
    "\n",
    "# Try to import the package whether installed (quantum_drug_discovery) or via source tree (src/..)\n",
    "try:\n",
    "    from quantum_drug_discovery.models.quantum import PennyLaneQCBM\n",
    "    from quantum_drug_discovery.models.classical import HybridQuantumLSTMGenerator\n",
    "    from quantum_drug_discovery.utils.molecular import (\n",
    "        SmilesProcessor, SelfiesProcessor, CompositeFilter\n",
    "    )\n",
    "    from quantum_drug_discovery.training.trainer import MolecularGenerationTrainer\n",
    "except ImportError:\n",
    "    from src.quantum_drug_discovery.models.quantum import PennyLaneQCBM\n",
    "    from src.quantum_drug_discovery.models.classical import HybridQuantumLSTMGenerator\n",
    "    from src.quantum_drug_discovery.utils.molecular import (\n",
    "        SmilesProcessor, SelfiesProcessor, CompositeFilter\n",
    "    )\n",
    "    from src.quantum_drug_discovery.training.trainer import MolecularGenerationTrainer\n",
    "\n",
    "# Set random seeds for reproducibility\n",
    "np.random.seed(42)\n",
    "torch.manual_seed(42)\n",
    "\n",
    "print(\"✅ Imports successful!\")\n",
    "print(f\"PyTorch version: {torch.__version__}\")\n",
    "\n",
    "# Resolve best available device (prefer MPS on Apple Silicon, then CUDA, else CPU)\n",
    "use_mps = hasattr(torch.backends, 'mps') and torch.backends.mps.is_available()\n",
    "use_cuda = torch.cuda.is_available()\n",
    "_device_str = 'mps' if use_mps else ('cuda' if use_cuda else 'cpu')\n",
    "print(f\"Device detected: {_device_str.upper()}\")\n",
    "\n",
    "# Check optional dependencies\n",
    "try:\n",
    "    import syba\n",
    "    print(\"✅ SYBA available for synthetic accessibility scoring\")\n",
    "except ImportError:\n",
    "    print(\"⚠️  SYBA not available - synthetic accessibility scoring will be disabled\")"
   ]
  },
  {
   "cell_type": "code",
   "execution_count": 3,
   "id": "916a5361",
   "metadata": {
    "title": "Create sample molecular data"
   },
   "outputs": [
    {
     "name": "stdout",
     "output_type": "stream",
     "text": [
      "Created dataset with 20 molecules\n",
      "💾 Saved sample data to data/sample/molecules.csv\n"
     ]
    }
   ],
   "source": [
    "\"\"\"\n",
    "For this example, we'll create a small dataset of drug-like molecules.\n",
    "In practice, you would load real molecular datasets.\n",
    "\"\"\"\n",
    "\n",
    "# Sample SMILES strings representing drug-like molecules\n",
    "sample_molecules = [\n",
    "    \"CC(C)CC1=CC=C(C=C1)C(C)C(=O)O\",  # Ibuprofen\n",
    "    \"CC1=CC=C(C=C1)C(=O)C2=CC=CC=C2\",  # Deoxybenzoin\n",
    "    \"COC1=CC=CC=C1C2=CC=CC=C2\",        # Anisole derivative\n",
    "    \"CC(C)(C)NC(=O)C1=CC=CC=C1\",       # Benzamide derivative\n",
    "    \"CCC1=CC=CC=C1N(C)C(=O)CC\",        # N-methylbenzamide\n",
    "    \"CC1=CC=C(C=C1)S(=O)(=O)N\",        # Sulfonamide\n",
    "    \"COC1=CC=C(C=C1)C=O\",              # Vanillin\n",
    "    \"CC(C)C1=CC=CC=C1O\",               # Thymol\n",
    "    \"CC1=CC=C(C=C1)C(=O)O\",            # p-Toluic acid\n",
    "    \"CCC1=CC=CC=C1C(=O)O\",             # Phenylpropionic acid\n",
    "    \"CC1=CC=CC=C1N\",                   # o-Toluidine\n",
    "    \"COC1=CC=CC=C1\",                   # Anisole\n",
    "    \"CC(C)C1=CC=CC=C1\",                # Cumene\n",
    "    \"CC1=CC=C(C=C1)O\",                 # p-Cresol\n",
    "    \"CCC1=CC=CC=C1\",                   # Propylbenzene\n",
    "    \"CC(C)(C)C1=CC=CC=C1\",             # tert-Butylbenzene\n",
    "    \"CC1=CC=CC=C1C\",                   # Xylene\n",
    "    \"COC(=O)C1=CC=CC=C1\",              # Methyl benzoate\n",
    "    \"CC(=O)C1=CC=CC=C1\",               # Acetophenone\n",
    "    \"CC1=CC=CC=C1C=O\",                 # o-Tolualdehyde\n",
    "]\n",
    "\n",
    "print(f\"Created dataset with {len(sample_molecules)} molecules\")\n",
    "\n",
    "# Save sample data\n",
    "os.makedirs(\"data/sample\", exist_ok=True)\n",
    "df = pd.DataFrame({\"smiles\": sample_molecules})\n",
    "df.to_csv(\"data/sample/molecules.csv\", index=False)\n",
    "print(\"💾 Saved sample data to data/sample/molecules.csv\")"
   ]
  },
  {
   "cell_type": "code",
   "execution_count": 4,
   "id": "40393016",
   "metadata": {
    "title": "Initialize molecular processor"
   },
   "outputs": [
    {
     "name": "stdout",
     "output_type": "stream",
     "text": [
      "Vocabulary size: 10\n",
      "Max length: 30\n",
      "Sample vocabulary: [' ', '(', ')', '1', '2', '=', 'C', 'N', 'O', 'S']\n",
      "\n",
      "Encoding test:\n",
      "Original: CC(C)CC1=CC=C(C=C1)C(C)C(=O)O\n",
      "Encoded:  [6 6 1 6 2 6 6 3 5 6]...\n",
      "Decoded:  CC(C)CC1=CC=C(C=C1)C(C)C(=O)O\n",
      "Valid:    True\n"
     ]
    }
   ],
   "source": [
    "\"\"\"\n",
    "The molecular processor handles encoding/decoding of molecular representations.\n",
    "We'll use SMILES format for this example.\n",
    "\"\"\"\n",
    "\n",
    "processor = SmilesProcessor()\n",
    "processor.smiles_list = sample_molecules\n",
    "processor._build_vocabulary()\n",
    "\n",
    "print(f\"Vocabulary size: {processor.vocab_size}\")\n",
    "print(f\"Max length: {processor.max_length}\")\n",
    "print(f\"Sample vocabulary: {processor.vocabulary[:10]}\")\n",
    "\n",
    "# Test encoding/decoding\n",
    "sample_smiles = sample_molecules[0]\n",
    "encoded = processor.encode_smiles(sample_smiles)\n",
    "decoded = processor.decode_sequence(encoded)\n",
    "\n",
    "print(f\"\\nEncoding test:\")\n",
    "print(f\"Original: {sample_smiles}\")\n",
    "print(f\"Encoded:  {encoded[:10]}...\")\n",
    "print(f\"Decoded:  {decoded}\")\n",
    "print(f\"Valid:    {processor.validate_smiles(decoded)}\")"
   ]
  },
  {
   "cell_type": "code",
   "execution_count": 5,
   "id": "2c74a372",
   "metadata": {
    "title": "Initialize and train QCBM"
   },
   "outputs": [
    {
     "name": "stdout",
     "output_type": "stream",
     "text": [
      "Using device: mps\n",
      "Initialized QCBM: PennyLaneQCBM(n_qubits=8, n_layers=3, device='default.qubit', shots=None)\n",
      "Number of parameters: 69\n",
      "Created data loader with 3 batches\n",
      "\n",
      "🚀 Training QCBM...\n"
     ]
    },
    {
     "name": "stderr",
     "output_type": "stream",
     "text": [
      "/Users/shawngibford/dev/soma-pennylane/src/quantum_drug_discovery/training/trainer.py:109: UserWarning: Creating a tensor from a list of numpy.ndarrays is extremely slow. Please consider converting the list to a single numpy.ndarray with numpy.array() before converting to a tensor. (Triggered internally at /Users/runner/work/pytorch/pytorch/pytorch/torch/csrc/utils/tensor_new.cpp:256.)\n",
      "  data_tensor = torch.tensor(encoded_data, dtype=torch.long)\n",
      "Epoch 1/20: 100%|██████████| 3/3 [00:00<00:00, 49.89it/s, Loss=3.4480]\n"
     ]
    },
    {
     "name": "stdout",
     "output_type": "stream",
     "text": [
      "\\nEpoch 1, Average Loss: 4.1913\n",
      "Generated 200 samples, Valid: 180\n"
     ]
    },
    {
     "name": "stderr",
     "output_type": "stream",
     "text": [
      "Epoch 2/20: 100%|██████████| 3/3 [00:00<00:00, 59.74it/s, Loss=2.2222]\n",
      "Epoch 3/20: 100%|██████████| 3/3 [00:00<00:00, 59.78it/s, Loss=1.4592]\n",
      "Epoch 4/20: 100%|██████████| 3/3 [00:00<00:00, 60.54it/s, Loss=1.0392]\n",
      "Epoch 5/20: 100%|██████████| 3/3 [00:00<00:00, 58.96it/s, Loss=0.8370]\n",
      "Epoch 6/20: 100%|██████████| 3/3 [00:00<00:00, 60.00it/s, Loss=0.7615]\n"
     ]
    },
    {
     "name": "stdout",
     "output_type": "stream",
     "text": [
      "\\nEpoch 6, Average Loss: 0.7793\n",
      "Generated 200 samples, Valid: 2\n"
     ]
    },
    {
     "name": "stderr",
     "output_type": "stream",
     "text": [
      "Epoch 7/20: 100%|██████████| 3/3 [00:00<00:00, 60.68it/s, Loss=0.7325]\n",
      "Epoch 8/20: 100%|██████████| 3/3 [00:00<00:00, 59.83it/s, Loss=0.7137]\n",
      "Epoch 9/20: 100%|██████████| 3/3 [00:00<00:00, 61.19it/s, Loss=0.7154]\n",
      "Epoch 10/20: 100%|██████████| 3/3 [00:00<00:00, 60.70it/s, Loss=0.7107]\n",
      "Epoch 11/20: 100%|██████████| 3/3 [00:00<00:00, 60.77it/s, Loss=0.7086]\n"
     ]
    },
    {
     "name": "stdout",
     "output_type": "stream",
     "text": [
      "\\nEpoch 11, Average Loss: 0.7090\n",
      "Generated 200 samples, Valid: 0\n"
     ]
    },
    {
     "name": "stderr",
     "output_type": "stream",
     "text": [
      "Epoch 12/20: 100%|██████████| 3/3 [00:00<00:00, 59.93it/s, Loss=0.7033]\n",
      "Epoch 13/20: 100%|██████████| 3/3 [00:00<00:00, 60.42it/s, Loss=0.6985]\n",
      "Epoch 14/20: 100%|██████████| 3/3 [00:00<00:00, 59.56it/s, Loss=0.6974]\n",
      "Epoch 15/20: 100%|██████████| 3/3 [00:00<00:00, 60.07it/s, Loss=0.6965]\n",
      "Epoch 16/20: 100%|██████████| 3/3 [00:00<00:00, 61.78it/s, Loss=0.6943]\n"
     ]
    },
    {
     "name": "stdout",
     "output_type": "stream",
     "text": [
      "\\nEpoch 16, Average Loss: 0.6950\n",
      "Generated 200 samples, Valid: 1\n"
     ]
    },
    {
     "name": "stderr",
     "output_type": "stream",
     "text": [
      "Epoch 17/20: 100%|██████████| 3/3 [00:00<00:00, 61.11it/s, Loss=0.6955]\n",
      "Epoch 18/20: 100%|██████████| 3/3 [00:00<00:00, 58.31it/s, Loss=0.6951]\n",
      "Epoch 19/20: 100%|██████████| 3/3 [00:00<00:00, 59.78it/s, Loss=0.6943]\n",
      "Epoch 20/20: 100%|██████████| 3/3 [00:00<00:00, 60.29it/s, Loss=0.6945]\n"
     ]
    }
   ],
   "source": [
    "\"\"\"\n",
    "First, let's train a Quantum Circuit Born Machine to learn the distribution\n",
    "of molecular features.\n",
    "\"\"\"\n",
    "\n",
    "# Use the previously detected device\n",
    "device = torch.device(_device_str)\n",
    "print(f\"Using device: {device}\")\n",
    "\n",
    "# Initialize QCBM\n",
    "qcbm = PennyLaneQCBM(\n",
    "    n_qubits=8,  # Smaller for demo\n",
    "    n_layers=3,\n",
    "    device_name=\"default.qubit\",\n",
    "    shots=None,  # Exact simulation\n",
    ")\n",
    "\n",
    "print(f\"Initialized QCBM: {qcbm}\")\n",
    "print(f\"Number of parameters: {qcbm.n_params}\")\n",
    "\n",
    "# Initialize trainer for QCBM\n",
    "qcbm_trainer = MolecularGenerationTrainer(\n",
    "    model=qcbm,\n",
    "    molecular_processor=processor,\n",
    "    device=device,\n",
    "    save_dir=\"./checkpoints/qcbm\",\n",
    ")\n",
    "\n",
    "# Prepare training data\n",
    "data_loader = qcbm_trainer.prepare_training_data(\n",
    "    sample_molecules,\n",
    "    batch_size=8,\n",
    "    max_length=processor.max_length,\n",
    ")\n",
    "\n",
    "print(f\"Created data loader with {len(data_loader)} batches\")\n",
    "\n",
    "# Train QCBM (short training for demo)\n",
    "print(\"\\n🚀 Training QCBM...\")\n",
    "qcbm_history = qcbm_trainer.train_qcbm_only(\n",
    "    data_loader=data_loader,\n",
    "    n_epochs=20,  # Short training for demo\n",
    "    learning_rate=0.1,\n",
    "    eval_interval=5,\n",
    ")"
   ]
  },
  {
   "cell_type": "code",
   "execution_count": 6,
   "id": "ae6818b5",
   "metadata": {
    "title": "Generate samples from QCBM"
   },
   "outputs": [
    {
     "name": "stdout",
     "output_type": "stream",
     "text": [
      "\n",
      "🎲 Generating samples from QCBM...\n",
      "Generated quantum bitstrings:\n",
      "Sample 1: [1, 1, 1, 1, 1, 1, 1, 1]\n",
      "Sample 2: [1, 1, 1, 1, 1, 1, 1, 1]\n",
      "Sample 3: [1, 1, 0, 1, 0, 1, 0, 1]\n",
      "Sample 4: [1, 1, 1, 1, 1, 1, 1, 1]\n",
      "Sample 5: [1, 0, 1, 0, 1, 0, 1, 0]\n"
     ]
    },
    {
     "data": {
      "image/png": "[encoded data removed]",
      "text/plain": [
       "<Figure size 1000x400 with 2 Axes>"
      ]
     },
     "metadata": {},
     "output_type": "display_data"
    }
   ],
   "source": [
    "\"\"\"\n",
    "Generate samples from the trained QCBM and visualize the results.\n",
    "\"\"\"\n",
    "\n",
    "print(\"\\n🎲 Generating samples from QCBM...\")\n",
    "qcbm.eval()\n",
    "with torch.no_grad():\n",
    "    quantum_samples = qcbm.generate(10)\n",
    "    \n",
    "print(\"Generated quantum bitstrings:\")\n",
    "for i, sample in enumerate(quantum_samples[:5]):\n",
    "    print(f\"Sample {i+1}: {sample.int().tolist()}\")\n",
    "\n",
    "# Plot training loss\n",
    "plt.figure(figsize=(10, 4))\n",
    "plt.subplot(1, 2, 1)\n",
    "plt.plot(qcbm_history['train_loss'])\n",
    "plt.title('QCBM Training Loss')\n",
    "plt.xlabel('Epoch')\n",
    "plt.ylabel('Loss')\n",
    "plt.grid(True)\n",
    "\n",
    "plt.subplot(1, 2, 2)\n",
    "plt.hist(quantum_samples.sum(axis=1).cpu().numpy(), bins=10, alpha=0.7)\n",
    "plt.title('Distribution of Hamming Weights')\n",
    "plt.xlabel('Number of 1s in bitstring')\n",
    "plt.ylabel('Frequency')\n",
    "plt.grid(True)\n",
    "\n",
    "plt.tight_layout()\n",
    "plt.savefig('qcbm_results.png', dpi=300, bbox_inches='tight')\n",
    "plt.show()"
   ]
  },
  {
   "cell_type": "code",
   "execution_count": 7,
   "id": "ceb5e0fd",
   "metadata": {
    "title": "Initialize and train hybrid model"
   },
   "outputs": [
    {
     "name": "stdout",
     "output_type": "stream",
     "text": [
      "\n",
      "🌟 Setting up hybrid quantum-classical model...\n",
      "Initialized hybrid model: HybridQuantumLSTMGenerator(\n",
      "  (qcbm): PennyLaneQCBM(n_qubits=8, n_layers=3, device='default.qubit', shots=None)\n",
      "  (lstm_generator): QuantumConditionedLSTM(\n",
      "    (embedding): Embedding(10, 32, padding_idx=0)\n",
      "    (quantum_projection): Sequential(\n",
      "      (0): Linear(in_features=8, out_features=64, bias=True)\n",
      "      (1): ReLU()\n",
      "      (2): Dropout(p=0.1, inplace=False)\n",
      "    )\n",
      "    (lstm): LSTM(96, 64, num_layers=2, batch_first=True, dropout=0.1)\n",
      "    (output_projection): Linear(in_features=64, out_features=10, bias=True)\n",
      "    (concat): ConcatenateLayer()\n",
      "    (dropout): Dropout(p=0.1, inplace=False)\n",
      "  )\n",
      ")\n",
      "QCBM config: {'name': 'PennyLaneQCBM', 'n_qubits': 8, 'n_layers': 3, 'device_name': 'default.qubit', 'shots': None, 'entangling_pattern': 'linear', 'rotation_gates': ['RX', 'RZ'], 'n_params': 69}\n",
      "LSTM config: {'embedding_dim': 32, 'hidden_dim': 64, 'num_layers': 2, 'projection_dim': 64}\n",
      "\n",
      "🚀 Training hybrid model...\n"
     ]
    },
    {
     "name": "stderr",
     "output_type": "stream",
     "text": [
      "Epoch 1/30: 100%|██████████| 3/3 [00:00<00:00,  9.41it/s, Loss=2.9658, LSTM=2.1395, Quantum=8.2630] \n"
     ]
    },
    {
     "name": "stdout",
     "output_type": "stream",
     "text": [
      "\\nEvaluating at epoch 1...\n",
      "Validity: 0.000, Uniqueness: 0.000, Novelty: 0.000, Drug-likeness: 0.000\n",
      "Checkpoint saved: ./checkpoints/hybrid/checkpoint_epoch_0.pt\n"
     ]
    },
    {
     "name": "stderr",
     "output_type": "stream",
     "text": [
      "Epoch 2/30: 100%|██████████| 3/3 [00:00<00:00, 28.65it/s, Loss=2.6127, LSTM=1.9076, Quantum=7.0512]\n",
      "Epoch 3/30: 100%|██████████| 3/3 [00:00<00:00, 28.74it/s, Loss=2.4340, LSTM=1.7974, Quantum=6.3660]\n",
      "Epoch 4/30: 100%|██████████| 3/3 [00:00<00:00, 28.14it/s, Loss=2.2225, LSTM=1.6334, Quantum=5.8907]\n",
      "Epoch 5/30: 100%|██████████| 3/3 [00:00<00:00, 29.60it/s, Loss=1.9936, LSTM=1.4414, Quantum=5.5219]\n",
      "Epoch 6/30: 100%|██████████| 3/3 [00:00<00:00, 29.57it/s, Loss=2.0242, LSTM=1.5028, Quantum=5.2133]\n"
     ]
    },
    {
     "name": "stdout",
     "output_type": "stream",
     "text": [
      "\\nEvaluating at epoch 6...\n",
      "Validity: 0.000, Uniqueness: 0.000, Novelty: 0.000, Drug-likeness: 0.000\n"
     ]
    },
    {
     "name": "stderr",
     "output_type": "stream",
     "text": [
      "Epoch 7/30: 100%|██████████| 3/3 [00:00<00:00, 28.63it/s, Loss=1.9617, LSTM=1.4677, Quantum=4.9401]\n",
      "Epoch 8/30: 100%|██████████| 3/3 [00:00<00:00, 27.02it/s, Loss=1.4515, LSTM=0.9828, Quantum=4.6872]\n",
      "Epoch 9/30: 100%|██████████| 3/3 [00:00<00:00, 20.26it/s, Loss=1.6540, LSTM=1.2095, Quantum=4.4454]\n",
      "Epoch 10/30: 100%|██████████| 3/3 [00:00<00:00, 27.98it/s, Loss=1.7988, LSTM=1.3778, Quantum=4.2106]\n",
      "Epoch 11/30: 100%|██████████| 3/3 [00:00<00:00, 28.44it/s, Loss=1.3021, LSTM=0.9039, Quantum=3.9816]\n"
     ]
    },
    {
     "name": "stdout",
     "output_type": "stream",
     "text": [
      "\\nEvaluating at epoch 11...\n",
      "Validity: 0.000, Uniqueness: 0.000, Novelty: 0.000, Drug-likeness: 0.000\n",
      "Checkpoint saved: ./checkpoints/hybrid/checkpoint_epoch_10.pt\n"
     ]
    },
    {
     "name": "stderr",
     "output_type": "stream",
     "text": [
      "Epoch 12/30: 100%|██████████| 3/3 [00:00<00:00, 27.23it/s, Loss=1.3594, LSTM=0.9835, Quantum=3.7588]\n",
      "Epoch 13/30: 100%|██████████| 3/3 [00:00<00:00, 28.78it/s, Loss=1.4037, LSTM=1.0493, Quantum=3.5439]\n",
      "Epoch 14/30: 100%|██████████| 3/3 [00:00<00:00, 27.81it/s, Loss=1.1147, LSTM=0.7808, Quantum=3.3383]\n",
      "Epoch 15/30: 100%|██████████| 3/3 [00:00<00:00, 28.68it/s, Loss=1.1983, LSTM=0.8839, Quantum=3.1435]\n",
      "Epoch 16/30: 100%|██████████| 3/3 [00:00<00:00, 28.40it/s, Loss=1.5416, LSTM=1.2456, Quantum=2.9604]\n"
     ]
    },
    {
     "name": "stdout",
     "output_type": "stream",
     "text": [
      "\\nEvaluating at epoch 16...\n",
      "Validity: 0.000, Uniqueness: 0.000, Novelty: 0.000, Drug-likeness: 0.000\n"
     ]
    },
    {
     "name": "stderr",
     "output_type": "stream",
     "text": [
      "Epoch 17/30: 100%|██████████| 3/3 [00:00<00:00, 27.52it/s, Loss=1.1477, LSTM=0.8688, Quantum=2.7895]\n",
      "Epoch 18/30: 100%|██████████| 3/3 [00:00<00:00, 28.80it/s, Loss=1.4054, LSTM=1.1422, Quantum=2.6314]\n",
      "Epoch 19/30: 100%|██████████| 3/3 [00:00<00:00, 27.79it/s, Loss=1.1719, LSTM=0.9233, Quantum=2.4861]\n",
      "Epoch 20/30: 100%|██████████| 3/3 [00:00<00:00, 27.56it/s, Loss=0.9117, LSTM=0.6763, Quantum=2.3536]\n",
      "Epoch 21/30: 100%|██████████| 3/3 [00:00<00:00, 27.11it/s, Loss=1.0743, LSTM=0.8510, Quantum=2.2334]\n"
     ]
    },
    {
     "name": "stdout",
     "output_type": "stream",
     "text": [
      "\\nEvaluating at epoch 21...\n",
      "Validity: 0.000, Uniqueness: 0.000, Novelty: 0.000, Drug-likeness: 0.000\n",
      "Checkpoint saved: ./checkpoints/hybrid/checkpoint_epoch_20.pt\n"
     ]
    },
    {
     "name": "stderr",
     "output_type": "stream",
     "text": [
      "Epoch 22/30: 100%|██████████| 3/3 [00:00<00:00, 25.75it/s, Loss=0.8164, LSTM=0.6039, Quantum=2.1249]\n",
      "Epoch 23/30: 100%|██████████| 3/3 [00:00<00:00, 23.32it/s, Loss=1.0586, LSTM=0.8559, Quantum=2.0270]\n",
      "Epoch 24/30: 100%|██████████| 3/3 [00:00<00:00, 28.93it/s, Loss=0.9704, LSTM=0.7766, Quantum=1.9388]\n",
      "Epoch 25/30: 100%|██████████| 3/3 [00:00<00:00, 28.82it/s, Loss=0.7851, LSTM=0.5992, Quantum=1.8591]\n",
      "Epoch 26/30: 100%|██████████| 3/3 [00:00<00:00, 29.26it/s, Loss=0.8531, LSTM=0.6744, Quantum=1.7869]\n"
     ]
    },
    {
     "name": "stdout",
     "output_type": "stream",
     "text": [
      "\\nEvaluating at epoch 26...\n",
      "Validity: 0.000, Uniqueness: 0.000, Novelty: 0.000, Drug-likeness: 0.000\n"
     ]
    },
    {
     "name": "stderr",
     "output_type": "stream",
     "text": [
      "Epoch 27/30: 100%|██████████| 3/3 [00:00<00:00, 27.55it/s, Loss=1.1114, LSTM=0.9392, Quantum=1.7214]\n",
      "Epoch 28/30: 100%|██████████| 3/3 [00:00<00:00, 27.96it/s, Loss=1.0556, LSTM=0.8895, Quantum=1.6617]\n",
      "Epoch 29/30: 100%|██████████| 3/3 [00:00<00:00, 28.29it/s, Loss=0.8560, LSTM=0.6953, Quantum=1.6070]\n",
      "Epoch 30/30: 100%|██████████| 3/3 [00:00<00:00, 27.99it/s, Loss=0.8135, LSTM=0.6579, Quantum=1.5568]\n"
     ]
    }
   ],
   "source": [
    "\"\"\"\n",
    "Now let's train a hybrid quantum-classical model that uses the QCBM\n",
    "as a prior for an LSTM generator.\n",
    "\"\"\"\n",
    "\n",
    "print(\"\\n🌟 Setting up hybrid quantum-classical model...\")\n",
    "\n",
    "# Initialize hybrid model\n",
    "hybrid_model = HybridQuantumLSTMGenerator(\n",
    "    vocab_size=processor.vocab_size,\n",
    "    seq_len=processor.max_length,\n",
    "    n_qubits=8,\n",
    "    n_layers=3,\n",
    "    embedding_dim=32,  # Smaller for demo\n",
    "    hidden_dim=64,\n",
    "    lstm_layers=2,\n",
    "    quantum_device=\"default.qubit\",\n",
    ")\n",
    "\n",
    "print(f\"Initialized hybrid model: {hybrid_model}\")\n",
    "print(f\"QCBM config: {hybrid_model.qcbm.config()}\")\n",
    "print(f\"LSTM config: {hybrid_model.config()['lstm_config']}\")\n",
    "\n",
    "# Initialize trainer for hybrid model\n",
    "hybrid_trainer = MolecularGenerationTrainer(\n",
    "    model=hybrid_model,\n",
    "    molecular_processor=processor,\n",
    "    device=device,\n",
    "    save_dir=\"./checkpoints/hybrid\",\n",
    ")\n",
    "\n",
    "# Train hybrid model (short training for demo)\n",
    "print(\"\\n🚀 Training hybrid model...\")\n",
    "hybrid_history = hybrid_trainer.train_hybrid(\n",
    "    data_loader=data_loader,\n",
    "    n_epochs=30,  # Short training for demo\n",
    "    learning_rate=1e-3,\n",
    "    quantum_learning_rate=1e-2,\n",
    "    lambda_quantum=0.1,\n",
    "    eval_interval=5,\n",
    "    reference_molecules=sample_molecules,\n",
    ")"
   ]
  },
  {
   "cell_type": "code",
   "execution_count": 8,
   "id": "5df10036",
   "metadata": {
    "title": "Generate and evaluate molecules"
   },
   "outputs": [
    {
     "name": "stdout",
     "output_type": "stream",
     "text": [
      "\n",
      "🧬 Generating molecules with hybrid model...\n",
      "Generated molecules:\n",
      " 1. (C)C)CC1(OCC(CC)C)=CC)=C(1=    ❌\n",
      " 2. (O(2)=OO1(=)SS)=CCOOCC=C=)=C   ❌\n",
      " 3. (NC)C)CC(=((O)O=C21            ❌\n",
      " 4. ()1=NCS1C==()C)=ONN            ❌\n",
      " 5. ((C=OOOS()=O(21                ❌\n",
      " 6. (NNCN(O(=)NC=O)O)NN)(=         ❌\n",
      " 7. (OCCN)CC)OOCO=C=CCC)O=)==      ❌\n",
      " 8. (SS)(C(CN1=(CN=OS2(=CC=S       ❌\n",
      " 9. (=SCCSC=NC1))OC)=SO=)2(C       ❌\n",
      "10. (=C(1=N1)N=CN2SCCO)C==         ❌\n",
      "\n",
      "📊 Generation Quality Metrics:\n",
      "Validity:      0.000\n",
      "Uniqueness:    0.000\n",
      "Novelty:       0.000\n",
      "Drug-likeness: 0.000\n"
     ]
    }
   ],
   "source": [
    "\"\"\"\n",
    "Generate new molecules using the trained hybrid model and evaluate their quality.\n",
    "\"\"\"\n",
    "\n",
    "print(\"\\n🧬 Generating molecules with hybrid model...\")\n",
    "\n",
    "# Generate molecules\n",
    "hybrid_model.eval()\n",
    "with torch.no_grad():\n",
    "    generated_sequences, quantum_priors = hybrid_model.generate(\n",
    "        n_samples=20,\n",
    "        temperature=1.0,\n",
    "        return_quantum_samples=True\n",
    "    )\n",
    "\n",
    "# Decode sequences to SMILES\n",
    "generated_molecules = []\n",
    "for seq in generated_sequences:\n",
    "    decoded = processor.decode_sequence(seq.cpu().numpy())\n",
    "    generated_molecules.append(decoded)\n",
    "\n",
    "print(\"Generated molecules:\")\n",
    "for i, mol in enumerate(generated_molecules[:10]):\n",
    "    valid = processor.validate_smiles(mol)\n",
    "    print(f\"{i+1:2d}. {mol:<30} {'✅' if valid else '❌'}\")\n",
    "\n",
    "# Evaluate generation quality\n",
    "eval_metrics = hybrid_trainer.evaluate_generation_quality(\n",
    "    n_samples=50,\n",
    "    reference_molecules=sample_molecules\n",
    ")\n",
    "\n",
    "print(f\"\\n📊 Generation Quality Metrics:\")\n",
    "print(f\"Validity:      {eval_metrics['validity']:.3f}\")\n",
    "print(f\"Uniqueness:    {eval_metrics['uniqueness']:.3f}\")\n",
    "print(f\"Novelty:       {eval_metrics['novelty']:.3f}\")\n",
    "print(f\"Drug-likeness: {eval_metrics['drug_likeness']:.3f}\")"
   ]
  },
  {
   "cell_type": "code",
   "execution_count": 9,
   "id": "5c0ddfd8",
   "metadata": {
    "title": "Apply molecular filters"
   },
   "outputs": [
    {
     "name": "stdout",
     "output_type": "stream",
     "text": [
      "\n",
      "🔍 Applying molecular filters...\n",
      "Generated: 20\n",
      "Valid:     0\n",
      "Filtered:  0\n",
      "\n",
      "🏆 Top filtered molecules:\n"
     ]
    }
   ],
   "source": [
    "\"\"\"\n",
    "Apply drug-likeness filters to the generated molecules.\n",
    "\"\"\"\n",
    "\n",
    "print(\"\\n🔍 Applying molecular filters...\")\n",
    "\n",
    "# Initialize comprehensive filter\n",
    "molecular_filter = CompositeFilter(\n",
    "    use_lipinski=True,\n",
    "    use_pains=True,\n",
    "    use_structural=True,\n",
    "    lipinski_violations_max=2\n",
    ")\n",
    "\n",
    "# Filter generated molecules\n",
    "valid_molecules = [mol for mol in generated_molecules if processor.validate_smiles(mol)]\n",
    "filtered_molecules, results_df = molecular_filter.filter_molecules(valid_molecules)\n",
    "\n",
    "print(f\"Generated: {len(generated_molecules)}\")\n",
    "print(f\"Valid:     {len(valid_molecules)}\")\n",
    "print(f\"Filtered:  {len(filtered_molecules)}\")\n",
    "\n",
    "# Show filtering statistics\n",
    "if len(results_df) > 0:\n",
    "    stats = molecular_filter.get_statistics(results_df)\n",
    "    print(f\"\\n📈 Filtering Statistics:\")\n",
    "    print(f\"Pass rate: {stats['pass_rate']:.3f}\")\n",
    "    if 'lipinski_pass_rate' in stats:\n",
    "        print(f\"Lipinski pass rate: {stats['lipinski_pass_rate']:.3f}\")\n",
    "    if 'pains_pass_rate' in stats:\n",
    "        print(f\"PAINS pass rate: {stats['pains_pass_rate']:.3f}\")\n",
    "\n",
    "# Show some filtered molecules with properties\n",
    "print(f\"\\n🏆 Top filtered molecules:\")\n",
    "for i, mol in enumerate(filtered_molecules[:5]):\n",
    "    passes, details = molecular_filter.filter_molecule(mol)\n",
    "    properties = details['lipinski'].get('properties', {})\n",
    "    mw = properties.get('molecular_weight', 0)\n",
    "    logp = properties.get('logp', 0)\n",
    "    print(f\"{i+1}. {mol:<25} MW:{mw:.1f} LogP:{logp:.2f}\")"
   ]
  },
  {
   "cell_type": "code",
   "execution_count": 10,
   "id": "67dd24ef",
   "metadata": {
    "title": "Visualize training progress"
   },
   "outputs": [
    {
     "name": "stdout",
     "output_type": "stream",
     "text": [
      "\n",
      "📈 Creating training visualizations...\n"
     ]
    },
    {
     "data": {
      "image/png": "[encoded data removed]",
      "text/plain": [
       "<Figure size 1500x1000 with 6 Axes>"
      ]
     },
     "metadata": {},
     "output_type": "display_data"
    }
   ],
   "source": [
    "\"\"\"\n",
    "Create comprehensive plots of the training progress.\n",
    "\"\"\"\n",
    "\n",
    "print(\"\\n📈 Creating training visualizations...\")\n",
    "\n",
    "fig, axes = plt.subplots(2, 3, figsize=(15, 10))\n",
    "\n",
    "# QCBM loss\n",
    "axes[0, 0].plot(qcbm_history['train_loss'])\n",
    "axes[0, 0].set_title('QCBM Training Loss')\n",
    "axes[0, 0].set_xlabel('Epoch')\n",
    "axes[0, 0].set_ylabel('Loss')\n",
    "axes[0, 0].grid(True)\n",
    "\n",
    "# Hybrid model losses\n",
    "axes[0, 1].plot(hybrid_history['train_loss'], label='Total Loss')\n",
    "axes[0, 1].plot(hybrid_history['quantum_loss'], label='Quantum Loss')\n",
    "axes[0, 1].set_title('Hybrid Model Training Losses')\n",
    "axes[0, 1].set_xlabel('Epoch')\n",
    "axes[0, 1].set_ylabel('Loss')\n",
    "axes[0, 1].legend()\n",
    "axes[0, 1].grid(True)\n",
    "\n",
    "# Generation quality metrics\n",
    "if len(hybrid_history['validity']) > 0:\n",
    "    epochs = range(0, len(hybrid_history['train_loss']), \n",
    "                  len(hybrid_history['train_loss']) // len(hybrid_history['validity']))\n",
    "    epochs = list(epochs)[:len(hybrid_history['validity'])]\n",
    "    \n",
    "    axes[0, 2].plot(epochs, hybrid_history['validity'], label='Validity')\n",
    "    axes[0, 2].plot(epochs, hybrid_history['uniqueness'], label='Uniqueness')\n",
    "    axes[0, 2].plot(epochs, hybrid_history['novelty'], label='Novelty')\n",
    "    axes[0, 2].set_title('Generation Quality')\n",
    "    axes[0, 2].set_xlabel('Epoch')\n",
    "    axes[0, 2].set_ylabel('Score')\n",
    "    axes[0, 2].legend()\n",
    "    axes[0, 2].grid(True)\n",
    "\n",
    "# Molecular property distributions (if we have valid molecules)\n",
    "if len(valid_molecules) > 0 and len(results_df) > 0:\n",
    "    # Molecular weights\n",
    "    mws = [details['lipinski']['properties']['molecular_weight'] \n",
    "           for _, details in results_df.iterrows() \n",
    "           if details['lipinski'] and details['lipinski']['properties']]\n",
    "    if mws:\n",
    "        axes[1, 0].hist(mws, bins=10, alpha=0.7, edgecolor='black')\n",
    "        axes[1, 0].axvline(500, color='red', linestyle='--', label='Lipinski MW limit')\n",
    "        axes[1, 0].set_title('Molecular Weight Distribution')\n",
    "        axes[1, 0].set_xlabel('Molecular Weight (Da)')\n",
    "        axes[1, 0].set_ylabel('Frequency')\n",
    "        axes[1, 0].legend()\n",
    "        axes[1, 0].grid(True)\n",
    "\n",
    "    # LogP values\n",
    "    logps = [details['lipinski']['properties']['logp'] \n",
    "             for _, details in results_df.iterrows() \n",
    "             if details['lipinski'] and details['lipinski']['properties']]\n",
    "    if logps:\n",
    "        axes[1, 1].hist(logps, bins=10, alpha=0.7, edgecolor='black')\n",
    "        axes[1, 1].axvline(5, color='red', linestyle='--', label='Lipinski LogP limit')\n",
    "        axes[1, 1].set_title('LogP Distribution')\n",
    "        axes[1, 1].set_xlabel('LogP')\n",
    "        axes[1, 1].set_ylabel('Frequency')\n",
    "        axes[1, 1].legend()\n",
    "        axes[1, 1].grid(True)\n",
    "\n",
    "# Filter pass rates\n",
    "filter_data = {\n",
    "    'All': len(generated_molecules),\n",
    "    'Valid': len(valid_molecules),\n",
    "    'Lipinski': len([m for m in valid_molecules if molecular_filter.lipinski_filter.passes_lipinski(m)]),\n",
    "    'No PAINS': len([m for m in valid_molecules if not molecular_filter.pains_filter.has_pains_substructure(m)]),\n",
    "    'Structural': len([m for m in valid_molecules if molecular_filter.structural_filter.passes_structural_filters(m)]),\n",
    "    'All Filters': len(filtered_molecules)\n",
    "}\n",
    "\n",
    "axes[1, 2].bar(filter_data.keys(), filter_data.values(), alpha=0.7, edgecolor='black')\n",
    "axes[1, 2].set_title('Molecular Filtering Results')\n",
    "axes[1, 2].set_ylabel('Number of Molecules')\n",
    "axes[1, 2].tick_params(axis='x', rotation=45)\n",
    "axes[1, 2].grid(True, alpha=0.3)\n",
    "\n",
    "plt.tight_layout()\n",
    "plt.savefig('training_results.png', dpi=300, bbox_inches='tight')\n",
    "plt.show()"
   ]
  },
  {
   "cell_type": "code",
   "execution_count": 11,
   "id": "e78983d7",
   "metadata": {
    "title": "Compare with original dataset"
   },
   "outputs": [
    {
     "name": "stdout",
     "output_type": "stream",
     "text": [
      "\n",
      "🔄 Comparing generated vs. original molecules...\n"
     ]
    }
   ],
   "source": [
    "\"\"\"\n",
    "Compare the properties of generated molecules with the original dataset.\n",
    "\"\"\"\n",
    "\n",
    "print(\"\\n🔄 Comparing generated vs. original molecules...\")\n",
    "\n",
    "# Compute properties for original molecules\n",
    "original_properties = []\n",
    "for mol in sample_molecules:\n",
    "    passes, details = molecular_filter.filter_molecule(mol)\n",
    "    if details['lipinski'] and details['lipinski']['properties']:\n",
    "        original_properties.append(details['lipinski']['properties'])\n",
    "\n",
    "# Compute properties for generated molecules\n",
    "generated_properties = []\n",
    "for mol in valid_molecules:\n",
    "    passes, details = molecular_filter.filter_molecule(mol)\n",
    "    if details['lipinski'] and details['lipinski']['properties']:\n",
    "        generated_properties.append(details['lipinski']['properties'])\n",
    "\n",
    "if original_properties and generated_properties:\n",
    "    # Create comparison plots\n",
    "    fig, axes = plt.subplots(1, 2, figsize=(12, 5))\n",
    "    \n",
    "    # Molecular weight comparison\n",
    "    orig_mw = [p['molecular_weight'] for p in original_properties]\n",
    "    gen_mw = [p['molecular_weight'] for p in generated_properties]\n",
    "    \n",
    "    axes[0].hist(orig_mw, bins=10, alpha=0.7, label='Original', edgecolor='black')\n",
    "    axes[0].hist(gen_mw, bins=10, alpha=0.7, label='Generated', edgecolor='black')\n",
    "    axes[0].set_title('Molecular Weight Comparison')\n",
    "    axes[0].set_xlabel('Molecular Weight (Da)')\n",
    "    axes[0].set_ylabel('Frequency')\n",
    "    axes[0].legend()\n",
    "    axes[0].grid(True)\n",
    "    \n",
    "    # LogP comparison\n",
    "    orig_logp = [p['logp'] for p in original_properties]\n",
    "    gen_logp = [p['logp'] for p in generated_properties]\n",
    "    \n",
    "    axes[1].hist(orig_logp, bins=10, alpha=0.7, label='Original', edgecolor='black')\n",
    "    axes[1].hist(gen_logp, bins=10, alpha=0.7, label='Generated', edgecolor='black')\n",
    "    axes[1].set_title('LogP Comparison')\n",
    "    axes[1].set_xlabel('LogP')\n",
    "    axes[1].set_ylabel('Frequency')\n",
    "    axes[1].legend()\n",
    "    axes[1].grid(True)\n",
    "    \n",
    "    plt.tight_layout()\n",
    "    plt.savefig('property_comparison.png', dpi=300, bbox_inches='tight')\n",
    "    plt.show()\n",
    "    \n",
    "    # Print statistics\n",
    "    print(f\"Original molecules - MW: {np.mean(orig_mw):.1f}±{np.std(orig_mw):.1f}, LogP: {np.mean(orig_logp):.2f}±{np.std(orig_logp):.2f}\")\n",
    "    print(f\"Generated molecules - MW: {np.mean(gen_mw):.1f}±{np.std(gen_mw):.1f}, LogP: {np.mean(gen_logp):.2f}±{np.std(gen_logp):.2f}\")"
   ]
  },
  {
   "cell_type": "code",
   "execution_count": 12,
   "id": "e1f2e7eb",
   "metadata": {
    "title": "Summary and next steps"
   },
   "outputs": [
    {
     "name": "stdout",
     "output_type": "stream",
     "text": [
      "\n",
      "============================================================\n",
      "🎉 QUANTUM DRUG DISCOVERY DEMO COMPLETE!\n",
      "============================================================\n",
      "\n",
      "📊 Final Results Summary:\n",
      "• QCBM trained with 69 parameters\n",
      "• Hybrid model trained on 20 molecules\n",
      "• Generated 20 molecules\n",
      "• 0 valid molecules (0.0%)\n",
      "• 0 drug-like molecules (n/a of valid)\n",
      "\n",
      "🎯 Key Metrics:\n",
      "• Validity:      0.000\n",
      "• Uniqueness:    0.000\n",
      "• Novelty:       0.000\n",
      "• Drug-likeness: 0.000\n",
      "\n",
      "🔄 Next Steps:\n",
      "1. Train on larger molecular datasets (ChEMBL, ZINC, etc.)\n",
      "2. Experiment with different quantum circuit architectures\n",
      "3. Optimize hyperparameters using Optuna or similar\n",
      "4. Implement more sophisticated molecular property predictors\n",
      "5. Add reinforcement learning for targeted molecular optimization\n",
      "6. Compare with classical baselines (VAE, GAN, etc.)\n",
      "\n",
      "💾 Files saved:\n",
      "• qcbm_results.png - QCBM training visualization\n",
      "• training_results.png - Comprehensive training results\n",
      "• property_comparison.png - Original vs generated molecule comparison\n",
      "• Checkpoints saved in ./checkpoints/\n",
      "\n",
      "✨ Thank you for trying Quantum Drug Discovery with PennyLane!\n"
     ]
    }
   ],
   "source": [
    "\"\"\"\n",
    "Summarize the results and provide guidance for next steps.\n",
    "\"\"\"\n",
    "\n",
    "print(\"\\n\" + \"=\"*60)\n",
    "print(\"🎉 QUANTUM DRUG DISCOVERY DEMO COMPLETE!\")\n",
    "print(\"=\"*60)\n",
    "\n",
    "print(f\"\\n📊 Final Results Summary:\")\n",
    "print(f\"• QCBM trained with {qcbm.n_params} parameters\")\n",
    "print(f\"• Hybrid model trained on {len(sample_molecules)} molecules\")\n",
    "print(f\"• Generated {len(generated_molecules)} molecules\")\n",
    "\n",
    "# Guard denominators to avoid ZeroDivisionError when there are no generated/valid molecules\n",
    "_total = len(generated_molecules)\n",
    "_valid = len(valid_molecules)\n",
    "_drug_like = len(filtered_molecules)\n",
    "\n",
    "_valid_pct = (_valid / _total * 100) if _total else 0.0\n",
    "print(f\"• {_valid} valid molecules ({_valid_pct:.1f}%)\")\n",
    "\n",
    "if _valid:\n",
    "    _drug_like_pct = _drug_like / _valid * 100\n",
    "    print(f\"• {_drug_like} drug-like molecules ({_drug_like_pct:.1f}% of valid)\")\n",
    "else:\n",
    "    print(\"• 0 drug-like molecules (n/a of valid)\")\n",
    "\n",
    "print(f\"\\n🎯 Key Metrics:\")\n",
    "print(f\"• Validity:      {eval_metrics['validity']:.3f}\")\n",
    "print(f\"• Uniqueness:    {eval_metrics['uniqueness']:.3f}\")\n",
    "print(f\"• Novelty:       {eval_metrics['novelty']:.3f}\")\n",
    "print(f\"• Drug-likeness: {eval_metrics['drug_likeness']:.3f}\")\n",
    "\n",
    "print(f\"\\n🔄 Next Steps:\")\n",
    "print(\"1. Train on larger molecular datasets (ChEMBL, ZINC, etc.)\")\n",
    "print(\"2. Experiment with different quantum circuit architectures\")\n",
    "print(\"3. Optimize hyperparameters using Optuna or similar\")\n",
    "print(\"4. Implement more sophisticated molecular property predictors\")\n",
    "print(\"5. Add reinforcement learning for targeted molecular optimization\")\n",
    "print(\"6. Compare with classical baselines (VAE, GAN, etc.)\")\n",
    "\n",
    "print(f\"\\n💾 Files saved:\")\n",
    "print(\"• qcbm_results.png - QCBM training visualization\")\n",
    "print(\"• training_results.png - Comprehensive training results\")\n",
    "print(\"• property_comparison.png - Original vs generated molecule comparison\")\n",
    "print(\"• Checkpoints saved in ./checkpoints/\")\n",
    "\n",
    "print(\"\\n✨ Thank you for trying Quantum Drug Discovery with PennyLane!\")"
   ]
  }
 ],
 "metadata": {
  "jupytext": {
   "cell_metadata_filter": "title,-all",
   "executable": "/usr/bin/env python3",
   "main_language": "python",
   "notebook_metadata_filter": "-all"
  },
  "language_info": {
   "name": "python"
  }
 },
 "nbformat": 4,
 "nbformat_minor": 5
}
